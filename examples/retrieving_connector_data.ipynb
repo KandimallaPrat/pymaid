{
 "cells": [
  {
   "cell_type": "markdown",
   "metadata": {},
   "source": [
    "## This notebook demonstrates different ways to retrieve connector information."
   ]
  },
  {
   "cell_type": "code",
   "execution_count": 1,
   "metadata": {},
   "outputs": [
    {
     "name": "stderr",
     "output_type": "stream",
     "text": [
      "/Library/Frameworks/Python.framework/Versions/3.5/lib/python3.5/site-packages/vispy/visuals/isocurve.py:22: UserWarning:\n",
      "\n",
      "VisPy is not yet compatible with matplotlib 2.2+\n",
      "\n"
     ]
    },
    {
     "name": "stdout",
     "output_type": "stream",
     "text": [
      "Last run with Pymaid version 0.76\n"
     ]
    }
   ],
   "source": [
    "import pymaid\n",
    "\n",
    "print('Last run with Pymaid version', pymaid.__version__)"
   ]
  },
  {
   "cell_type": "code",
   "execution_count": 4,
   "metadata": {},
   "outputs": [
    {
     "name": "stderr",
     "output_type": "stream",
     "text": [
      "INFO  : Global CATMAID instance set. (pymaid.fetch)\n"
     ]
    }
   ],
   "source": [
    "# Create Catmaid instance\n",
    "rm = pymaid.CatmaidInstance('server_url', 'api_token', 'http_user', 'http_password')"
   ]
  },
  {
   "cell_type": "markdown",
   "metadata": {},
   "source": [
    "### Multiple ways lead to Rome\n",
    "There are several API endpoints in CATMAID that allow you to fetch connector data. Which one to use is depending ultimately on what information you want. The examples below are rather simply and many of the function used let you pass parameters to further restrict your search. Please check out their documentation on [readthedocs]( http://pymaid.readthedocs.io/en/latest/) or use e.g. `help(pymaid.get_connectors)`."
   ]
  },
  {
   "cell_type": "markdown",
   "metadata": {},
   "source": [
    "##### A) The most simple way to get connectors is to just get the 3D skeleton of a neuron and look at its connector table:"
   ]
  },
  {
   "cell_type": "code",
   "execution_count": 3,
   "metadata": {},
   "outputs": [
    {
     "data": {
      "application/vnd.jupyter.widget-view+json": {
       "model_id": "4355d9bb60e64959ac0edfc1a858a209",
       "version_major": 2,
       "version_minor": 0
      },
      "text/html": [
       "<p>Failed to display Jupyter Widget of type <code>HBox</code>.</p>\n",
       "<p>\n",
       "  If you're reading this message in the Jupyter Notebook or JupyterLab Notebook, it may mean\n",
       "  that the widgets JavaScript is still loading. If this message persists, it\n",
       "  likely means that the widgets JavaScript library is either not installed or\n",
       "  not enabled. See the <a href=\"https://ipywidgets.readthedocs.io/en/stable/user_install.html\">Jupyter\n",
       "  Widgets Documentation</a> for setup instructions.\n",
       "</p>\n",
       "<p>\n",
       "  If you're reading this message in another frontend (for example, a static\n",
       "  rendering on GitHub or <a href=\"https://nbviewer.jupyter.org/\">NBViewer</a>),\n",
       "  it may mean that your frontend doesn't currently support widgets.\n",
       "</p>\n"
      ],
      "text/plain": [
       "HBox(children=(IntProgress(value=0, description='Get neurons: ', max=1), HTML(value='')))"
      ]
     },
     "metadata": {},
     "output_type": "display_data"
    },
    {
     "name": "stdout",
     "output_type": "stream",
     "text": [
      "\n"
     ]
    },
    {
     "data": {
      "text/html": [
       "<div>\n",
       "<style scoped>\n",
       "    .dataframe tbody tr th:only-of-type {\n",
       "        vertical-align: middle;\n",
       "    }\n",
       "\n",
       "    .dataframe tbody tr th {\n",
       "        vertical-align: top;\n",
       "    }\n",
       "\n",
       "    .dataframe thead th {\n",
       "        text-align: right;\n",
       "    }\n",
       "</style>\n",
       "<table border=\"1\" class=\"dataframe\">\n",
       "  <thead>\n",
       "    <tr style=\"text-align: right;\">\n",
       "      <th></th>\n",
       "      <th>treenode_id</th>\n",
       "      <th>connector_id</th>\n",
       "      <th>relation</th>\n",
       "      <th>x</th>\n",
       "      <th>y</th>\n",
       "      <th>z</th>\n",
       "    </tr>\n",
       "  </thead>\n",
       "  <tbody>\n",
       "    <tr>\n",
       "      <th>0</th>\n",
       "      <td>17856950</td>\n",
       "      <td>17856949</td>\n",
       "      <td>0</td>\n",
       "      <td>504626</td>\n",
       "      <td>173115</td>\n",
       "      <td>80240</td>\n",
       "    </tr>\n",
       "    <tr>\n",
       "      <th>1</th>\n",
       "      <td>8413738</td>\n",
       "      <td>8413736</td>\n",
       "      <td>1</td>\n",
       "      <td>416875</td>\n",
       "      <td>182721</td>\n",
       "      <td>91560</td>\n",
       "    </tr>\n",
       "    <tr>\n",
       "      <th>2</th>\n",
       "      <td>7746386</td>\n",
       "      <td>7746388</td>\n",
       "      <td>0</td>\n",
       "      <td>618244</td>\n",
       "      <td>186376</td>\n",
       "      <td>86600</td>\n",
       "    </tr>\n",
       "    <tr>\n",
       "      <th>3</th>\n",
       "      <td>6345213</td>\n",
       "      <td>6345207</td>\n",
       "      <td>1</td>\n",
       "      <td>433553</td>\n",
       "      <td>180556</td>\n",
       "      <td>80200</td>\n",
       "    </tr>\n",
       "    <tr>\n",
       "      <th>4</th>\n",
       "      <td>7713470</td>\n",
       "      <td>7713473</td>\n",
       "      <td>1</td>\n",
       "      <td>597588</td>\n",
       "      <td>166641</td>\n",
       "      <td>45960</td>\n",
       "    </tr>\n",
       "  </tbody>\n",
       "</table>\n",
       "</div>"
      ],
      "text/plain": [
       "   treenode_id  connector_id  relation       x       y      z\n",
       "0     17856950      17856949         0  504626  173115  80240\n",
       "1      8413738       8413736         1  416875  182721  91560\n",
       "2      7746386       7746388         0  618244  186376  86600\n",
       "3      6345213       6345207         1  433553  180556  80200\n",
       "4      7713470       7713473         1  597588  166641  45960"
      ]
     },
     "execution_count": 3,
     "metadata": {},
     "output_type": "execute_result"
    }
   ],
   "source": [
    "n = pymaid.get_neuron(2333007)\n",
    "n.connectors.head()"
   ]
  },
  {
   "cell_type": "markdown",
   "metadata": {},
   "source": [
    "The connector table contains all the data necessary for plotting: position, type (`relation`: 0 = presynaptic, 1 = postsynaptic, 2 = gap_junction; see also `help(pymaid.get_neuron)`) and the treenode of this neuron it is connected to. It has, however, no information about tags, creator or edition/creation times."
   ]
  },
  {
   "cell_type": "markdown",
   "metadata": {},
   "source": [
    "##### B) If you need more detailed information, you can use another API endpoint to get a richer connector table:"
   ]
  },
  {
   "cell_type": "code",
   "execution_count": 4,
   "metadata": {},
   "outputs": [
    {
     "name": "stdout",
     "output_type": "stream",
     "text": [
      "Connectors retrieved: 10933\n"
     ]
    }
   ],
   "source": [
    "# Retrieve all types of connectors for a single neuron\n",
    "cn_table = pymaid.get_connectors(2333007)\n",
    "print('Connectors retrieved: %i' % cn_table.shape[0] )"
   ]
  },
  {
   "cell_type": "code",
   "execution_count": 5,
   "metadata": {},
   "outputs": [
    {
     "data": {
      "text/html": [
       "<div>\n",
       "<style scoped>\n",
       "    .dataframe tbody tr th:only-of-type {\n",
       "        vertical-align: middle;\n",
       "    }\n",
       "\n",
       "    .dataframe tbody tr th {\n",
       "        vertical-align: top;\n",
       "    }\n",
       "\n",
       "    .dataframe thead th {\n",
       "        text-align: right;\n",
       "    }\n",
       "</style>\n",
       "<table border=\"1\" class=\"dataframe\">\n",
       "  <thead>\n",
       "    <tr style=\"text-align: right;\">\n",
       "      <th></th>\n",
       "      <th>connector_id</th>\n",
       "      <th>x</th>\n",
       "      <th>y</th>\n",
       "      <th>z</th>\n",
       "      <th>confidence</th>\n",
       "      <th>editor_id</th>\n",
       "      <th>creation_time</th>\n",
       "      <th>edition_time</th>\n",
       "      <th>tags</th>\n",
       "      <th>type</th>\n",
       "      <th>creator</th>\n",
       "    </tr>\n",
       "  </thead>\n",
       "  <tbody>\n",
       "    <tr>\n",
       "      <th>0</th>\n",
       "      <td>1567478</td>\n",
       "      <td>438621.0</td>\n",
       "      <td>171214.0</td>\n",
       "      <td>116360.0</td>\n",
       "      <td>5</td>\n",
       "      <td>37</td>\n",
       "      <td>2015-08-10 15:01:57.195320</td>\n",
       "      <td>2016-12-07 02:19:05.726210</td>\n",
       "      <td>None</td>\n",
       "      <td>synaptic</td>\n",
       "      <td>gillisz</td>\n",
       "    </tr>\n",
       "    <tr>\n",
       "      <th>1</th>\n",
       "      <td>1567508</td>\n",
       "      <td>438165.0</td>\n",
       "      <td>166824.0</td>\n",
       "      <td>118440.0</td>\n",
       "      <td>5</td>\n",
       "      <td>37</td>\n",
       "      <td>2015-08-10 15:02:43.946600</td>\n",
       "      <td>2016-12-07 02:20:27.909150</td>\n",
       "      <td>None</td>\n",
       "      <td>synaptic</td>\n",
       "      <td>gillisz</td>\n",
       "    </tr>\n",
       "    <tr>\n",
       "      <th>2</th>\n",
       "      <td>1567512</td>\n",
       "      <td>438239.0</td>\n",
       "      <td>166823.0</td>\n",
       "      <td>118480.0</td>\n",
       "      <td>5</td>\n",
       "      <td>37</td>\n",
       "      <td>2015-08-10 15:03:02.143370</td>\n",
       "      <td>2016-12-07 02:20:30.199940</td>\n",
       "      <td>None</td>\n",
       "      <td>synaptic</td>\n",
       "      <td>gillisz</td>\n",
       "    </tr>\n",
       "    <tr>\n",
       "      <th>3</th>\n",
       "      <td>1567532</td>\n",
       "      <td>438650.0</td>\n",
       "      <td>166954.0</td>\n",
       "      <td>118600.0</td>\n",
       "      <td>5</td>\n",
       "      <td>37</td>\n",
       "      <td>2015-08-10 15:03:19.324150</td>\n",
       "      <td>2016-12-07 02:20:34.093350</td>\n",
       "      <td>None</td>\n",
       "      <td>synaptic</td>\n",
       "      <td>gillisz</td>\n",
       "    </tr>\n",
       "    <tr>\n",
       "      <th>4</th>\n",
       "      <td>1567542</td>\n",
       "      <td>438552.0</td>\n",
       "      <td>166713.0</td>\n",
       "      <td>118800.0</td>\n",
       "      <td>5</td>\n",
       "      <td>37</td>\n",
       "      <td>2015-08-10 15:03:41.516370</td>\n",
       "      <td>2016-12-07 02:20:40.630300</td>\n",
       "      <td>None</td>\n",
       "      <td>synaptic</td>\n",
       "      <td>gillisz</td>\n",
       "    </tr>\n",
       "  </tbody>\n",
       "</table>\n",
       "</div>"
      ],
      "text/plain": [
       "   connector_id         x         y         z  confidence  editor_id  \\\n",
       "0       1567478  438621.0  171214.0  116360.0           5         37   \n",
       "1       1567508  438165.0  166824.0  118440.0           5         37   \n",
       "2       1567512  438239.0  166823.0  118480.0           5         37   \n",
       "3       1567532  438650.0  166954.0  118600.0           5         37   \n",
       "4       1567542  438552.0  166713.0  118800.0           5         37   \n",
       "\n",
       "               creation_time               edition_time  tags      type  \\\n",
       "0 2015-08-10 15:01:57.195320 2016-12-07 02:19:05.726210  None  synaptic   \n",
       "1 2015-08-10 15:02:43.946600 2016-12-07 02:20:27.909150  None  synaptic   \n",
       "2 2015-08-10 15:03:02.143370 2016-12-07 02:20:30.199940  None  synaptic   \n",
       "3 2015-08-10 15:03:19.324150 2016-12-07 02:20:34.093350  None  synaptic   \n",
       "4 2015-08-10 15:03:41.516370 2016-12-07 02:20:40.630300  None  synaptic   \n",
       "\n",
       "   creator  \n",
       "0  gillisz  \n",
       "1  gillisz  \n",
       "2  gillisz  \n",
       "3  gillisz  \n",
       "4  gillisz  "
      ]
     },
     "execution_count": 5,
     "metadata": {},
     "output_type": "execute_result"
    }
   ],
   "source": [
    "cn_table.head()"
   ]
  },
  {
   "cell_type": "markdown",
   "metadata": {},
   "source": [
    "This table gives you more detailed information. But what if you need even more details?"
   ]
  },
  {
   "cell_type": "markdown",
   "metadata": {},
   "source": [
    "##### C) Get a detailed connector table:"
   ]
  },
  {
   "cell_type": "code",
   "execution_count": 6,
   "metadata": {},
   "outputs": [
    {
     "data": {
      "application/vnd.jupyter.widget-view+json": {
       "model_id": "f1ff89107c7e42c88fb3e7ea6218a949",
       "version_major": 2,
       "version_minor": 0
      },
      "text/html": [
       "<p>Failed to display Jupyter Widget of type <code>HBox</code>.</p>\n",
       "<p>\n",
       "  If you're reading this message in the Jupyter Notebook or JupyterLab Notebook, it may mean\n",
       "  that the widgets JavaScript is still loading. If this message persists, it\n",
       "  likely means that the widgets JavaScript library is either not installed or\n",
       "  not enabled. See the <a href=\"https://ipywidgets.readthedocs.io/en/stable/user_install.html\">Jupyter\n",
       "  Widgets Documentation</a> for setup instructions.\n",
       "</p>\n",
       "<p>\n",
       "  If you're reading this message in another frontend (for example, a static\n",
       "  rendering on GitHub or <a href=\"https://nbviewer.jupyter.org/\">NBViewer</a>),\n",
       "  it may mean that your frontend doesn't currently support widgets.\n",
       "</p>\n"
      ],
      "text/plain": [
       "HBox(children=(IntProgress(value=0, description='CN details: ', max=10933), HTML(value='')))"
      ]
     },
     "metadata": {},
     "output_type": "display_data"
    },
    {
     "name": "stderr",
     "output_type": "stream",
     "text": [
      "INFO  : Data for 10933 of 10933 unique connector IDs retrieved (pymaid.fetch)\n"
     ]
    },
    {
     "name": "stdout",
     "output_type": "stream",
     "text": [
      "\n"
     ]
    },
    {
     "data": {
      "text/html": [
       "<div>\n",
       "<style scoped>\n",
       "    .dataframe tbody tr th:only-of-type {\n",
       "        vertical-align: middle;\n",
       "    }\n",
       "\n",
       "    .dataframe tbody tr th {\n",
       "        vertical-align: top;\n",
       "    }\n",
       "\n",
       "    .dataframe thead th {\n",
       "        text-align: right;\n",
       "    }\n",
       "</style>\n",
       "<table border=\"1\" class=\"dataframe\">\n",
       "  <thead>\n",
       "    <tr style=\"text-align: right;\">\n",
       "      <th></th>\n",
       "      <th>connector_id</th>\n",
       "      <th>presynaptic_to</th>\n",
       "      <th>postsynaptic_to</th>\n",
       "      <th>presynaptic_to_node</th>\n",
       "      <th>postsynaptic_to_node</th>\n",
       "    </tr>\n",
       "  </thead>\n",
       "  <tbody>\n",
       "    <tr>\n",
       "      <th>0</th>\n",
       "      <td>1567478</td>\n",
       "      <td>248997</td>\n",
       "      <td>[206619, 2333007]</td>\n",
       "      <td>1567477</td>\n",
       "      <td>[1567066, 8035764]</td>\n",
       "    </tr>\n",
       "    <tr>\n",
       "      <th>1</th>\n",
       "      <td>1567508</td>\n",
       "      <td>13302</td>\n",
       "      <td>[206619, 2333007]</td>\n",
       "      <td>1567507</td>\n",
       "      <td>[1567509, 7950137]</td>\n",
       "    </tr>\n",
       "    <tr>\n",
       "      <th>2</th>\n",
       "      <td>1567512</td>\n",
       "      <td>206619</td>\n",
       "      <td>[13302, 2333007]</td>\n",
       "      <td>1567513</td>\n",
       "      <td>[1567515, 1567514]</td>\n",
       "    </tr>\n",
       "    <tr>\n",
       "      <th>3</th>\n",
       "      <td>1567532</td>\n",
       "      <td>206619</td>\n",
       "      <td>[249039, 2333007]</td>\n",
       "      <td>1566736</td>\n",
       "      <td>[1567538, 1567534]</td>\n",
       "    </tr>\n",
       "    <tr>\n",
       "      <th>4</th>\n",
       "      <td>1567542</td>\n",
       "      <td>249046</td>\n",
       "      <td>[206619, 2333007]</td>\n",
       "      <td>1567541</td>\n",
       "      <td>[1566733, 7950723]</td>\n",
       "    </tr>\n",
       "  </tbody>\n",
       "</table>\n",
       "</div>"
      ],
      "text/plain": [
       "  connector_id presynaptic_to    postsynaptic_to presynaptic_to_node  \\\n",
       "0      1567478         248997  [206619, 2333007]             1567477   \n",
       "1      1567508          13302  [206619, 2333007]             1567507   \n",
       "2      1567512         206619   [13302, 2333007]             1567513   \n",
       "3      1567532         206619  [249039, 2333007]             1566736   \n",
       "4      1567542         249046  [206619, 2333007]             1567541   \n",
       "\n",
       "  postsynaptic_to_node  \n",
       "0   [1567066, 8035764]  \n",
       "1   [1567509, 7950137]  \n",
       "2   [1567515, 1567514]  \n",
       "3   [1567538, 1567534]  \n",
       "4   [1566733, 7950723]  "
      ]
     },
     "execution_count": 6,
     "metadata": {},
     "output_type": "execute_result"
    }
   ],
   "source": [
    "cn_details = pymaid.get_connector_details( n )\n",
    "cn_details.head()"
   ]
  },
  {
   "cell_type": "markdown",
   "metadata": {},
   "source": [
    "This connector table now give you information about which neurons/treenodes are pre- and postsynaptic to a given connector."
   ]
  },
  {
   "cell_type": "markdown",
   "metadata": {},
   "source": [
    "##### C) Get the connectors that connect two (sets of) neurons"
   ]
  },
  {
   "cell_type": "code",
   "execution_count": 7,
   "metadata": {},
   "outputs": [
    {
     "data": {
      "text/html": [
       "<div>\n",
       "<style scoped>\n",
       "    .dataframe tbody tr th:only-of-type {\n",
       "        vertical-align: middle;\n",
       "    }\n",
       "\n",
       "    .dataframe tbody tr th {\n",
       "        vertical-align: top;\n",
       "    }\n",
       "\n",
       "    .dataframe thead th {\n",
       "        text-align: right;\n",
       "    }\n",
       "</style>\n",
       "<table border=\"1\" class=\"dataframe\">\n",
       "  <thead>\n",
       "    <tr style=\"text-align: right;\">\n",
       "      <th></th>\n",
       "      <th>connector_id</th>\n",
       "      <th>connector_loc</th>\n",
       "      <th>treenode1_id</th>\n",
       "      <th>source_neuron</th>\n",
       "      <th>confidence1</th>\n",
       "      <th>creator1</th>\n",
       "      <th>treenode1_loc</th>\n",
       "      <th>treenode2_id</th>\n",
       "      <th>target_neuron</th>\n",
       "      <th>confidence2</th>\n",
       "      <th>creator2</th>\n",
       "      <th>treenode2_loc</th>\n",
       "    </tr>\n",
       "  </thead>\n",
       "  <tbody>\n",
       "    <tr>\n",
       "      <th>0</th>\n",
       "      <td>7045130</td>\n",
       "      <td>[415801.0, 168624.0, 101800.0]</td>\n",
       "      <td>7045135</td>\n",
       "      <td>2049139</td>\n",
       "      <td>5</td>\n",
       "      <td>schlegelp</td>\n",
       "      <td>[415767.0, 168382.0, 101800.0]</td>\n",
       "      <td>7045122</td>\n",
       "      <td>2333007</td>\n",
       "      <td>5</td>\n",
       "      <td>schlegelp</td>\n",
       "      <td>[415843.0, 168740.0, 101800.0]</td>\n",
       "    </tr>\n",
       "    <tr>\n",
       "      <th>1</th>\n",
       "      <td>7639717</td>\n",
       "      <td>[421988.0, 168403.0, 90560.0]</td>\n",
       "      <td>7639719</td>\n",
       "      <td>2049139</td>\n",
       "      <td>5</td>\n",
       "      <td>schlegelp</td>\n",
       "      <td>[421561.0, 167992.0, 90560.0]</td>\n",
       "      <td>7639716</td>\n",
       "      <td>2333007</td>\n",
       "      <td>5</td>\n",
       "      <td>schlegelp</td>\n",
       "      <td>[422224.0, 168399.0, 90560.0]</td>\n",
       "    </tr>\n",
       "    <tr>\n",
       "      <th>2</th>\n",
       "      <td>7649270</td>\n",
       "      <td>[416946.0, 169359.0, 92000.0]</td>\n",
       "      <td>7649273</td>\n",
       "      <td>2049139</td>\n",
       "      <td>5</td>\n",
       "      <td>schlegelp</td>\n",
       "      <td>[416831.0, 169595.0, 92000.0]</td>\n",
       "      <td>7649269</td>\n",
       "      <td>2333007</td>\n",
       "      <td>5</td>\n",
       "      <td>schlegelp</td>\n",
       "      <td>[416986.0, 169417.0, 92080.0]</td>\n",
       "    </tr>\n",
       "  </tbody>\n",
       "</table>\n",
       "</div>"
      ],
      "text/plain": [
       "   connector_id                   connector_loc  treenode1_id  source_neuron  \\\n",
       "0       7045130  [415801.0, 168624.0, 101800.0]       7045135        2049139   \n",
       "1       7639717   [421988.0, 168403.0, 90560.0]       7639719        2049139   \n",
       "2       7649270   [416946.0, 169359.0, 92000.0]       7649273        2049139   \n",
       "\n",
       "   confidence1   creator1                   treenode1_loc  treenode2_id  \\\n",
       "0            5  schlegelp  [415767.0, 168382.0, 101800.0]       7045122   \n",
       "1            5  schlegelp   [421561.0, 167992.0, 90560.0]       7639716   \n",
       "2            5  schlegelp   [416831.0, 169595.0, 92000.0]       7649269   \n",
       "\n",
       "   target_neuron  confidence2   creator2                   treenode2_loc  \n",
       "0        2333007            5  schlegelp  [415843.0, 168740.0, 101800.0]  \n",
       "1        2333007            5  schlegelp   [422224.0, 168399.0, 90560.0]  \n",
       "2        2333007            5  schlegelp   [416986.0, 169417.0, 92080.0]  "
      ]
     },
     "execution_count": 7,
     "metadata": {},
     "output_type": "execute_result"
    }
   ],
   "source": [
    "cn_between = pymaid.get_connectors_between( 2049139, n )\n",
    "cn_between.head()"
   ]
  }
 ],
 "metadata": {
  "anaconda-cloud": {},
  "kernelspec": {
   "display_name": "Python 3",
   "language": "python",
   "name": "python3"
  },
  "language_info": {
   "codemirror_mode": {
    "name": "ipython",
    "version": 3
   },
   "file_extension": ".py",
   "mimetype": "text/x-python",
   "name": "python",
   "nbconvert_exporter": "python",
   "pygments_lexer": "ipython3",
   "version": "3.5.3"
  }
 },
 "nbformat": 4,
 "nbformat_minor": 2
}
