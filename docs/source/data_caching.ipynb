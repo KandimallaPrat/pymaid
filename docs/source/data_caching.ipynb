{
   "metadata": {
      "language_info": {
         "mimetype": "text/x-python",
         "file_extension": ".py",
         "name": "python",
         "version": "3.5.3",
         "nbconvert_exporter": "python",
         "pygments_lexer": "ipython3",
         "codemirror_mode": {
            "version": 3,
            "name": "ipython"
         }
      },
      "kernelspec": {
         "language": "python",
         "display_name": "Python 3",
         "name": "python3"
      },
      "celltoolbar": "Raw Cell Format"
   },
   "cells": [
      {
         "metadata": {
            "raw_mimetype": "text/restructuredtext"
         },
         "cell_type": "raw",
         "source": [
            "Data caching\n",
            "------------\n",
            "\n",
            "To speed up reoccurring queries to the server, pymaid lets you cache data. This behaviour is, by default, switched on:"
         ]
      },
      {
         "outputs": [
            {
               "text": [
                  "INFO  : Global CATMAID instance set. (pymaid)\n"
               ],
               "output_type": "stream",
               "name": "stderr"
            }
         ],
         "execution_count": 1,
         "metadata": {},
         "cell_type": "code",
         "source": [
            "import pymaid \n",
            "rm = pymaid.CatmaidInstance('server_url', 'api_token', 'http_user', 'http_password')"
         ]
      },
      {
         "metadata": {
            "raw_mimetype": "text/restructuredtext"
         },
         "cell_type": "raw",
         "source": [
            "Query for a neuron for the first time:"
         ]
      },
      {
         "outputs": [
            {
               "text": [
                  "CPU times: user 146 ms, sys: 10.6 ms, total: 156 ms\n",
                  "Wall time: 1.01 s\n"
               ],
               "output_type": "stream",
               "name": "stdout"
            }
         ],
         "execution_count": 2,
         "metadata": {},
         "cell_type": "code",
         "source": [
            "%time n = pymaid.get_neuron(16)"
         ]
      },
      {
         "metadata": {
            "raw_mimetype": "text/restructuredtext"
         },
         "cell_type": "raw",
         "source": [
            "Query for the same neuron a second time:"
         ]
      },
      {
         "outputs": [
            {
               "text": [
                  "INFO  : Cached data used. (pymaid)\n",
                  "INFO  : Cached data used. (pymaid)\n"
               ],
               "output_type": "stream",
               "name": "stderr"
            },
            {
               "text": [
                  "CPU times: user 128 ms, sys: 6.77 ms, total: 135 ms\n",
                  "Wall time: 146 ms\n"
               ],
               "output_type": "stream",
               "name": "stdout"
            }
         ],
         "execution_count": 3,
         "metadata": {},
         "cell_type": "code",
         "source": [
            "%time n2 = pymaid.get_neuron(16)"
         ]
      },
      {
         "metadata": {
            "raw_mimetype": "text/restructuredtext"
         },
         "cell_type": "raw",
         "source": [
            "For the second query cached data was used which gives us almost a 10x speed-up. \n",
            "\n",
            "Fine-tuning the cache\n",
            "=====================\n",
            "\n",
            "You can restrict the usage of cached data either by size to prevent running out of memory or by time to discard old data:"
         ]
      },
      {
         "metadata": {
            "raw_mimetype": "text/restructuredtext"
         },
         "cell_type": "raw",
         "source": [
            "Caching is a property of the :class:`~pymaid.CatmaidInstance` you are using. Here, we are changing max memory used to 256 megabytes (default is 128mb) and to a max age of 15min (= 900s; no limit by default):"
         ]
      },
      {
         "outputs": [],
         "execution_count": 4,
         "metadata": {},
         "cell_type": "code",
         "source": [
            "rm.setup_cache(size_limit=128, time_limit=900)"
         ]
      },
      {
         "metadata": {
            "raw_mimetype": "text/restructuredtext"
         },
         "cell_type": "raw",
         "source": [
            "You can inspect the size of your current cache [mb]:"
         ]
      },
      {
         "outputs": [
            {
               "data": {
                  "text/plain": [
                     "0.8"
                  ]
               },
               "execution_count": 5,
               "output_type": "execute_result",
               "metadata": {}
            }
         ],
         "execution_count": 5,
         "metadata": {},
         "cell_type": "code",
         "source": [
            "rm.cache_size"
         ]
      },
      {
         "metadata": {
            "raw_mimetype": "text/restructuredtext"
         },
         "cell_type": "raw",
         "source": [
            "You can also clear the cache:"
         ]
      },
      {
         "outputs": [
            {
               "data": {
                  "text/plain": [
                     "0.0"
                  ]
               },
               "execution_count": 6,
               "output_type": "execute_result",
               "metadata": {}
            }
         ],
         "execution_count": 6,
         "metadata": {},
         "cell_type": "code",
         "source": [
            "rm.clear_cache()\n",
            "rm.cache_size"
         ]
      },
      {
         "metadata": {
            "raw_mimetype": "text/restructuredtext"
         },
         "cell_type": "raw",
         "source": [
            "Switching off caching can either be done when initializing the :class:`~pymaid.CatmaidInstance`..."
         ]
      },
      {
         "outputs": [],
         "execution_count": 7,
         "metadata": {},
         "cell_type": "code",
         "source": [
            "rm = pymaid.CatmaidInstance('server_url', 'api_token', 'http_user', 'http_password', caching=False)"
         ]
      },
      {
         "metadata": {
            "raw_mimetype": "text/restructuredtext"
         },
         "cell_type": "raw",
         "source": [
            "... or by changing the according attribute on the go:"
         ]
      },
      {
         "outputs": [],
         "execution_count": 8,
         "metadata": {},
         "cell_type": "code",
         "source": [
            "rm.caching = False"
         ]
      },
      {
         "metadata": {
            "raw_mimetype": "text/restructuredtext"
         },
         "cell_type": "raw",
         "source": [
            "Saving cache\n",
            "============\n",
            "\n",
            "Imagine running some analysis: What if you want to preserve the exact data that was used for that analysis? You can save the cache into a separate file and restore it later:"
         ]
      },
      {
         "outputs": [
            {
               "text": [
                  "INFO  : Cached data used. (pymaid)\n",
                  "INFO  : Cached data used. (pymaid)\n"
               ],
               "output_type": "stream",
               "name": "stderr"
            }
         ],
         "execution_count": 9,
         "metadata": {},
         "cell_type": "code",
         "source": [
            "n = pymaid.get_neuron(16)\n",
            "rm.save_cache('cache.pickle')\n",
            "\n",
            "rm.clear_cache()\n",
            "rm.load_cache('cache.pickle')\n",
            "\n",
            "n = pymaid.get_neuron(16)"
         ]
      }
   ],
   "nbformat_minor": 2,
   "nbformat": 4
}
