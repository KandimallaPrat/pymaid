{
   "metadata": {
      "language_info": {
         "mimetype": "text/x-python",
         "file_extension": ".py",
         "name": "python",
         "version": "3.7.0",
         "nbconvert_exporter": "python",
         "pygments_lexer": "ipython3",
         "codemirror_mode": {
            "version": 3,
            "name": "ipython"
         }
      },
      "kernelspec": {
         "language": "python",
         "display_name": "Python 3",
         "name": "python3"
      }
   },
   "cells": [
      {
         "outputs": [
            {
               "text": [
                  "WARNING : Module pyoctree not found. Falling back to scipy's                             ConvexHull for intersection calculations. (pymaid)\n",
                  "/Library/Frameworks/Python.framework/Versions/3.7/lib/python3.7/site-packages/vispy/visuals/isocurve.py:22: UserWarning:\n",
                  "\n",
                  "VisPy is not yet compatible with matplotlib 2.2+\n",
                  "\n",
                  "INFO  : Global CATMAID instance set. (pymaid)\n"
               ],
               "output_type": "stream",
               "name": "stderr"
            }
         ],
         "execution_count": 1,
         "metadata": {},
         "cell_type": "code",
         "source": [
            "import pymaid \n",
            "from connect_catmaid import *\n",
            "rm = connect_adult_em()"
         ]
      },
      {
         "outputs": [],
         "execution_count": 2,
         "metadata": {},
         "cell_type": "code",
         "source": []
      }
   ],
   "nbformat_minor": 2,
   "nbformat": 4
}