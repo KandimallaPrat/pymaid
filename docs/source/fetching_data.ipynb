{
 "cells": [
  {
   "cell_type": "raw",
   "metadata": {
    "raw_mimetype": "text/restructuredtext"
   },
   "source": [
    "Fetching data from a CATMAID server\n",
    "***********************************\n",
    "With minor exceptions, ``pymaid`` covers every API endpoint of your CATMAID server\n",
    "- i.e. you should be able to get all the data that your web browser shows (and more)\n",
    "\n",
    "``pymaid`` has >50 different functions that fetch various kinds of data from\n",
    "CATMAID. Too many to cover them all - instead this tutorial will try to give\n",
    "you a flavour by showcasing a few examples.\n",
    "\n",
    "If you know what data you are after, head over to the :ref:`API reference <api>`\n",
    "and search for keywords to find the appropriate function.\n",
    "\n",
    "A quick primer\n",
    "==============\n",
    "All functions that require neurons/skeleton IDs as inputs (e.g. :func:`~pymaid.get_neuron`) accept either:\n",
    "\n",
    "1. Skeleton ID(s) (int or str)::\n",
    "\n",
    "    n = pymaid.get_neuron(16)\n",
    "    nl = pymaid.get_neuron([16, 57241])\n",
    "\n",
    "2. Neuron name(s) (str)::\n",
    "\n",
    "    n = pymaid.get_neuron('PN glomerulus DC3 57242 ML')\n",
    "    nl = pymaid.get_neuron(['PN glomerulus DC3 57242 ML', 'PN glomerulus VA6 017 DB'])\n",
    "\n",
    "3. Annotation(s) (str)::\n",
    "\n",
    "    n = pymaid.get_neuron('annotation:glomerulus VA6')\n",
    "    nl = pymaid.get_neuron(['annotation:glomerulus DC3', 'annotation:glomerulus VA6'])\n",
    "\n",
    "4. ``CatmaidNeuron`` or ``CatmaidNeuronList`` object::\n",
    "\n",
    "    n = pymaid.get_neuron(16)\n",
    "    cn_table = pymaid.get_partners(n)\n",
    "\n",
    "By default, annotations and neuron names must match exactly. You can use regex on names and annotations, using a leading ``/``::\n",
    "\n",
    "    # Get all neurons that have 'VA6' in their name\n",
    "    nl = pymaid.get_neuron('/VA6')\n",
    "\n",
    "    # Get all neurons annotated with a 'VA6'-containing annotation\n",
    "    nl = pymaid.get_neuron('annotation:/VA6')\n",
    "\n",
    "    # Get all skeleton IDs that have an annotation starting with 'AV1.R':\n",
    "    skids = pymaid.get_skids_by_annotation('/^AV1.R')\n",
    "\n",
    "\n",
    "See `here <https://medium.com/factory-mind/regex-tutorial-a-simple-cheatsheet-by-examples-649dc1c3f285>`_ for detailed explanation of regex patterns.\n",
    "\n",
    "\n",
    "Fetching neurons\n",
    "================\n",
    "One of the most basic thing is fetching neurons. First, we need to set up the connection to the CATMAID server. This should already look familiar - if not check out the `quickstart tutorial <tutorial>` first:"
   ]
  },
  {
   "cell_type": "code",
   "execution_count": 2,
   "metadata": {},
   "outputs": [
    {
     "name": "stderr",
     "output_type": "stream",
     "text": [
      "INFO  : Global CATMAID instance set. Caching is ON. (pymaid)\n"
     ]
    }
   ],
   "source": [
    "import pymaid\n",
    "rm = pymaid.connect_catmaid()"
   ]
  },
  {
   "cell_type": "raw",
   "metadata": {
    "raw_mimetype": "text/restructuredtext"
   },
   "source": [
    "Now that's done, we can get going. In 99% of the cases, you will use :func:`pymaid.get_neurons` to fetch skeletons for analysis and visualization."
   ]
  },
  {
   "cell_type": "code",
   "execution_count": 14,
   "metadata": {},
   "outputs": [
    {
     "name": "stderr",
     "output_type": "stream",
     "text": [
      "                                                            \r"
     ]
    },
    {
     "data": {
      "application/vnd.jupyter.widget-view+json": {
       "model_id": "",
       "version_major": 2,
       "version_minor": 0
      },
      "text/plain": [
       "HBox(children=(HTML(value='Make nrn'), FloatProgress(value=0.0, max=9.0), HTML(value='')))"
      ]
     },
     "metadata": {},
     "output_type": "display_data"
    },
    {
     "data": {
      "text/html": [
       "<div>\n",
       "<style scoped>\n",
       "    .dataframe tbody tr th:only-of-type {\n",
       "        vertical-align: middle;\n",
       "    }\n",
       "\n",
       "    .dataframe tbody tr th {\n",
       "        vertical-align: top;\n",
       "    }\n",
       "\n",
       "    .dataframe thead th {\n",
       "        text-align: right;\n",
       "    }\n",
       "</style>\n",
       "<table border=\"1\" class=\"dataframe\">\n",
       "  <thead>\n",
       "    <tr style=\"text-align: right;\">\n",
       "      <th></th>\n",
       "      <th>type</th>\n",
       "      <th>name</th>\n",
       "      <th>skeleton_id</th>\n",
       "      <th>n_nodes</th>\n",
       "      <th>n_connectors</th>\n",
       "      <th>n_branches</th>\n",
       "      <th>n_leafs</th>\n",
       "      <th>cable_length</th>\n",
       "      <th>soma</th>\n",
       "      <th>units</th>\n",
       "    </tr>\n",
       "  </thead>\n",
       "  <tbody>\n",
       "    <tr>\n",
       "      <th>0</th>\n",
       "      <td>CatmaidNeuron</td>\n",
       "      <td>Uniglomerular mALT DA1 lPN 57316 2863105 ML</td>\n",
       "      <td>2863104</td>\n",
       "      <td>6774</td>\n",
       "      <td>470</td>\n",
       "      <td>280</td>\n",
       "      <td>None</td>\n",
       "      <td>1522064.50</td>\n",
       "      <td>[3245741]</td>\n",
       "      <td>1 nanometer</td>\n",
       "    </tr>\n",
       "    <tr>\n",
       "      <th>1</th>\n",
       "      <td>CatmaidNeuron</td>\n",
       "      <td>Uniglomerular mALT DA1 lPN 57382 ML</td>\n",
       "      <td>57381</td>\n",
       "      <td>8243</td>\n",
       "      <td>382</td>\n",
       "      <td>195</td>\n",
       "      <td>None</td>\n",
       "      <td>1337348.75</td>\n",
       "      <td>[3364368]</td>\n",
       "      <td>1 nanometer</td>\n",
       "    </tr>\n",
       "    <tr>\n",
       "      <th>2</th>\n",
       "      <td>CatmaidNeuron</td>\n",
       "      <td>Uniglomerular mALT DA1 lPN 61222 AJ</td>\n",
       "      <td>61221</td>\n",
       "      <td>8578</td>\n",
       "      <td>556</td>\n",
       "      <td>199</td>\n",
       "      <td>None</td>\n",
       "      <td>1353478.75</td>\n",
       "      <td>[3254492]</td>\n",
       "      <td>1 nanometer</td>\n",
       "    </tr>\n",
       "    <tr>\n",
       "      <th>3</th>\n",
       "      <td>CatmaidNeuron</td>\n",
       "      <td>Uniglomerular mALT DA1 lPN 57354 GA</td>\n",
       "      <td>57353</td>\n",
       "      <td>6985</td>\n",
       "      <td>370</td>\n",
       "      <td>225</td>\n",
       "      <td>None</td>\n",
       "      <td>1539364.25</td>\n",
       "      <td>[3254736]</td>\n",
       "      <td>1 nanometer</td>\n",
       "    </tr>\n",
       "    <tr>\n",
       "      <th>4</th>\n",
       "      <td>CatmaidNeuron</td>\n",
       "      <td>Uniglomerular mALT DA1 lPN 57324 LK JSL</td>\n",
       "      <td>57323</td>\n",
       "      <td>6223</td>\n",
       "      <td>481</td>\n",
       "      <td>256</td>\n",
       "      <td>None</td>\n",
       "      <td>1483462.50</td>\n",
       "      <td>[3251355]</td>\n",
       "      <td>1 nanometer</td>\n",
       "    </tr>\n",
       "    <tr>\n",
       "      <th>5</th>\n",
       "      <td>CatmaidNeuron</td>\n",
       "      <td>Uniglomerular mALT DA1 lPN 57358 IJA</td>\n",
       "      <td>755022</td>\n",
       "      <td>7453</td>\n",
       "      <td>515</td>\n",
       "      <td>230</td>\n",
       "      <td>None</td>\n",
       "      <td>1401414.75</td>\n",
       "      <td>[3252148]</td>\n",
       "      <td>1 nanometer</td>\n",
       "    </tr>\n",
       "    <tr>\n",
       "      <th>6</th>\n",
       "      <td>CatmaidNeuron</td>\n",
       "      <td>Uniglomerular mALT DA1 lPN 27296 BH</td>\n",
       "      <td>27295</td>\n",
       "      <td>10216</td>\n",
       "      <td>507</td>\n",
       "      <td>304</td>\n",
       "      <td>None</td>\n",
       "      <td>1806000.25</td>\n",
       "      <td>[3005291]</td>\n",
       "      <td>1 nanometer</td>\n",
       "    </tr>\n",
       "    <tr>\n",
       "      <th>7</th>\n",
       "      <td>CatmaidNeuron</td>\n",
       "      <td>Uniglomerular mlALT DA1 vPN mlALTed Milk 18114...</td>\n",
       "      <td>1811442</td>\n",
       "      <td>11769</td>\n",
       "      <td>804</td>\n",
       "      <td>378</td>\n",
       "      <td>None</td>\n",
       "      <td>2169807.25</td>\n",
       "      <td>[6838672]</td>\n",
       "      <td>1 nanometer</td>\n",
       "    </tr>\n",
       "    <tr>\n",
       "      <th>8</th>\n",
       "      <td>CatmaidNeuron</td>\n",
       "      <td>Uniglomerular mALT DA1 lPN 57312 LK</td>\n",
       "      <td>57311</td>\n",
       "      <td>5543</td>\n",
       "      <td>463</td>\n",
       "      <td>211</td>\n",
       "      <td>None</td>\n",
       "      <td>1364103.25</td>\n",
       "      <td>[3059181]</td>\n",
       "      <td>1 nanometer</td>\n",
       "    </tr>\n",
       "  </tbody>\n",
       "</table>\n",
       "</div>"
      ],
      "text/plain": [
       "<class 'pymaid.core.CatmaidNeuronList'> of 9 neurons\n",
       "             type                                               name  \\\n",
       "0  CatmaidNeuron        Uniglomerular mALT DA1 lPN 57316 2863105 ML   \n",
       "1  CatmaidNeuron                Uniglomerular mALT DA1 lPN 57382 ML   \n",
       "2  CatmaidNeuron                Uniglomerular mALT DA1 lPN 61222 AJ   \n",
       "3  CatmaidNeuron                Uniglomerular mALT DA1 lPN 57354 GA   \n",
       "4  CatmaidNeuron            Uniglomerular mALT DA1 lPN 57324 LK JSL   \n",
       "5  CatmaidNeuron               Uniglomerular mALT DA1 lPN 57358 IJA   \n",
       "6  CatmaidNeuron                Uniglomerular mALT DA1 lPN 27296 BH   \n",
       "7  CatmaidNeuron  Uniglomerular mlALT DA1 vPN mlALTed Milk 18114...   \n",
       "8  CatmaidNeuron                Uniglomerular mALT DA1 lPN 57312 LK   \n",
       "\n",
       "  skeleton_id  n_nodes  n_connectors  n_branches n_leafs  cable_length  \\\n",
       "0     2863104     6774           470         280    None    1522064.50   \n",
       "1       57381     8243           382         195    None    1337348.75   \n",
       "2       61221     8578           556         199    None    1353478.75   \n",
       "3       57353     6985           370         225    None    1539364.25   \n",
       "4       57323     6223           481         256    None    1483462.50   \n",
       "5      755022     7453           515         230    None    1401414.75   \n",
       "6       27295    10216           507         304    None    1806000.25   \n",
       "7     1811442    11769           804         378    None    2169807.25   \n",
       "8       57311     5543           463         211    None    1364103.25   \n",
       "\n",
       "        soma        units  \n",
       "0  [3245741]  1 nanometer  \n",
       "1  [3364368]  1 nanometer  \n",
       "2  [3254492]  1 nanometer  \n",
       "3  [3254736]  1 nanometer  \n",
       "4  [3251355]  1 nanometer  \n",
       "5  [3252148]  1 nanometer  \n",
       "6  [3005291]  1 nanometer  \n",
       "7  [6838672]  1 nanometer  \n",
       "8  [3059181]  1 nanometer  "
      ]
     },
     "execution_count": 14,
     "metadata": {},
     "output_type": "execute_result"
    }
   ],
   "source": [
    "da1 = pymaid.get_neuron('annotation:glomerulus DA1 right')\n",
    "da1"
   ]
  },
  {
   "cell_type": "code",
   "execution_count": 26,
   "metadata": {},
   "outputs": [
    {
     "data": {
      "application/vnd.jupyter.widget-view+json": {
       "model_id": "",
       "version_major": 2,
       "version_minor": 0
      },
      "text/plain": [
       "HBox(children=(HTML(value='Plot neurons'), FloatProgress(value=0.0, max=9.0), HTML(value='')))"
      ]
     },
     "metadata": {},
     "output_type": "display_data"
    },
    {
     "data": {
      "image/png": "[encoded data removed]",
      "text/plain": [
       "<Figure size 432x432 with 1 Axes>"
      ]
     },
     "metadata": {
      "needs_background": "light"
     },
     "output_type": "display_data"
    }
   ],
   "source": [
    "fig, ax = da1.plot2d(lw=1.5)"
   ]
  },
  {
   "cell_type": "raw",
   "metadata": {
    "raw_mimetype": "text/restructuredtext"
   },
   "source": [
    "Fetching volumes\n",
    "================\n",
    "Lets also fetch a volume to put those neurons into context:"
   ]
  },
  {
   "cell_type": "code",
   "execution_count": 18,
   "metadata": {},
   "outputs": [
    {
     "data": {
      "text/plain": [
       "<navis.Volume(name=v14.neuropil, color=(120, 120, 120, 0.6), vertices.shape=(8997, 3), faces.shape=(18000, 3))>"
      ]
     },
     "execution_count": 18,
     "metadata": {},
     "output_type": "execute_result"
    }
   ],
   "source": [
    "vol = pymaid.get_volume('v14.neuropil')\n",
    "vol"
   ]
  },
  {
   "cell_type": "code",
   "execution_count": 25,
   "metadata": {},
   "outputs": [
    {
     "data": {
      "application/vnd.jupyter.widget-view+json": {
       "model_id": "",
       "version_major": 2,
       "version_minor": 0
      },
      "text/plain": [
       "HBox(children=(HTML(value='Plot neurons'), FloatProgress(value=0.0, max=9.0), HTML(value='')))"
      ]
     },
     "metadata": {},
     "output_type": "display_data"
    },
    {
     "data": {
      "image/png": "[encoded data removed]",
      "text/plain": [
       "<Figure size 432x432 with 1 Axes>"
      ]
     },
     "metadata": {
      "needs_background": "light"
     },
     "output_type": "display_data"
    }
   ],
   "source": [
    "# For visualization we rely on navis\n",
    "import navis\n",
    "\n",
    "# Make the volume more transparent\n",
    "vol.color = (230, 230, 230, .2)\n",
    "\n",
    "# Plot\n",
    "fig, ax = navis.plot2d([da1, vol], lw=2)\n",
    "\n",
    "# Rotate to frontal view\n",
    "ax.elev = ax.azim = -90\n",
    "ax.dist = 5"
   ]
  },
  {
   "cell_type": "raw",
   "metadata": {
    "raw_mimetype": "text/restructuredtext"
   },
   "source": [
    "Obscure functions\n",
    "=================\n",
    "Fetching skeletons and volumes is pretty standard, and fetching connectivity is covered in a :ref:`separate tutorial <cn_tut>`. Let's have a look at some more obscure functions.\n",
    "\n",
    "Find out who contributed to the DA1 neurons we loaded above:"
   ]
  },
  {
   "cell_type": "code",
   "execution_count": 31,
   "metadata": {},
   "outputs": [
    {
     "name": "stderr",
     "output_type": "stream",
     "text": [
      "                                                   \r"
     ]
    },
    {
     "data": {
      "text/plain": [
       "{'harrisonb': 2587,\n",
       " 'jefferis': 2031,\n",
       " 'schlegelp': 9977,\n",
       " 'koppenhaverb': 3355,\n",
       " 'ratliffj': 2177,\n",
       " 'hallouc': 3328,\n",
       " 'robertsr': 14537,\n",
       " 'masoodpanahn': 1436,\n",
       " 'kmecoval': 5203,\n",
       " 'alij': 3740,\n",
       " 'ranftp': 5930,\n",
       " 'fisherc': 2286,\n",
       " 'imtiazs': 2029,\n",
       " 'adamjohn': 2791,\n",
       " 'allredg': 1696,\n",
       " 'michaelLingelbach': 4253}"
      ]
     },
     "execution_count": 31,
     "metadata": {},
     "output_type": "execute_result"
    }
   ],
   "source": [
    "cont = pymaid.get_contributor_statistics(da1)\n",
    "\n",
    "# `cont` is a pandas.Series containing e.g. nodes contributed\n",
    "# Let's plot only people with >1000 nodes contributed\n",
    "{k: v for k, v in cont.node_contributors.items() if v > 1000}"
   ]
  },
  {
   "cell_type": "raw",
   "metadata": {
    "raw_mimetype": "text/restructuredtext"
   },
   "source": [
    "Have any of these nodes been imported (as opposed to being manually placed):"
   ]
  },
  {
   "cell_type": "code",
   "execution_count": 33,
   "metadata": {},
   "outputs": [
    {
     "name": "stderr",
     "output_type": "stream",
     "text": [
      "Fetching info: 100%|██████████| 1/1 [00:02<00:00,  2.37s/it]\n"
     ]
    },
    {
     "data": {
      "text/plain": [
       "{'2863104': {'n_imported_treenodes': 1524},\n",
       " '57381': {'n_imported_treenodes': 502},\n",
       " '61221': {'n_imported_treenodes': 679},\n",
       " '57353': {'n_imported_treenodes': 1005},\n",
       " '57323': {'n_imported_treenodes': 951},\n",
       " '755022': {'n_imported_treenodes': 1271},\n",
       " '27295': {'n_imported_treenodes': 1161},\n",
       " '1811442': {'n_imported_treenodes': 916},\n",
       " '57311': {'n_imported_treenodes': 608}}"
      ]
     },
     "execution_count": 33,
     "metadata": {},
     "output_type": "execute_result"
    }
   ],
   "source": [
    "iinfo = pymaid.get_import_info(da1)\n",
    "iinfo"
   ]
  },
  {
   "cell_type": "raw",
   "metadata": {
    "raw_mimetype": "text/restructuredtext"
   },
   "source": [
    "Looks like some parts of these neurons have been imported. \n",
    "\n",
    "Last but not least, let's check who has reviewed these neurons:"
   ]
  },
  {
   "cell_type": "code",
   "execution_count": 38,
   "metadata": {},
   "outputs": [
    {
     "data": {
      "text/html": [
       "<div>\n",
       "<style scoped>\n",
       "    .dataframe tbody tr th:only-of-type {\n",
       "        vertical-align: middle;\n",
       "    }\n",
       "\n",
       "    .dataframe tbody tr th {\n",
       "        vertical-align: top;\n",
       "    }\n",
       "\n",
       "    .dataframe thead th {\n",
       "        text-align: right;\n",
       "    }\n",
       "</style>\n",
       "<table border=\"1\" class=\"dataframe\">\n",
       "  <thead>\n",
       "    <tr style=\"text-align: right;\">\n",
       "      <th></th>\n",
       "      <th>node_id</th>\n",
       "      <th>imtiazs</th>\n",
       "      <th>masoodpanahn</th>\n",
       "      <th>kmecoval</th>\n",
       "      <th>fisherc</th>\n",
       "      <th>ratliffj</th>\n",
       "      <th>helmickl</th>\n",
       "      <th>alij</th>\n",
       "      <th>sharifin</th>\n",
       "      <th>robertsr</th>\n",
       "      <th>...</th>\n",
       "      <th>meechank</th>\n",
       "      <th>edmondsona</th>\n",
       "      <th>jamasba</th>\n",
       "      <th>schlegelp</th>\n",
       "      <th>calles</th>\n",
       "      <th>hallouc</th>\n",
       "      <th>adesinaa</th>\n",
       "      <th>lovef</th>\n",
       "      <th>mooree</th>\n",
       "      <th>skeleton_id</th>\n",
       "    </tr>\n",
       "  </thead>\n",
       "  <tbody>\n",
       "    <tr>\n",
       "      <th>0</th>\n",
       "      <td>3047214</td>\n",
       "      <td>2016-05-04 21:05:00</td>\n",
       "      <td>NaT</td>\n",
       "      <td>NaT</td>\n",
       "      <td>NaT</td>\n",
       "      <td>NaT</td>\n",
       "      <td>NaT</td>\n",
       "      <td>NaT</td>\n",
       "      <td>NaT</td>\n",
       "      <td>NaT</td>\n",
       "      <td>...</td>\n",
       "      <td>NaT</td>\n",
       "      <td>NaT</td>\n",
       "      <td>NaT</td>\n",
       "      <td>NaT</td>\n",
       "      <td>NaT</td>\n",
       "      <td>NaT</td>\n",
       "      <td>NaT</td>\n",
       "      <td>NaT</td>\n",
       "      <td>NaT</td>\n",
       "      <td>2863104</td>\n",
       "    </tr>\n",
       "    <tr>\n",
       "      <th>1</th>\n",
       "      <td>3047212</td>\n",
       "      <td>2016-05-04 21:05:00</td>\n",
       "      <td>NaT</td>\n",
       "      <td>NaT</td>\n",
       "      <td>NaT</td>\n",
       "      <td>NaT</td>\n",
       "      <td>NaT</td>\n",
       "      <td>NaT</td>\n",
       "      <td>NaT</td>\n",
       "      <td>NaT</td>\n",
       "      <td>...</td>\n",
       "      <td>NaT</td>\n",
       "      <td>NaT</td>\n",
       "      <td>NaT</td>\n",
       "      <td>NaT</td>\n",
       "      <td>NaT</td>\n",
       "      <td>NaT</td>\n",
       "      <td>NaT</td>\n",
       "      <td>NaT</td>\n",
       "      <td>NaT</td>\n",
       "      <td>2863104</td>\n",
       "    </tr>\n",
       "    <tr>\n",
       "      <th>2</th>\n",
       "      <td>3047210</td>\n",
       "      <td>2016-05-04 21:05:00</td>\n",
       "      <td>NaT</td>\n",
       "      <td>NaT</td>\n",
       "      <td>NaT</td>\n",
       "      <td>NaT</td>\n",
       "      <td>NaT</td>\n",
       "      <td>NaT</td>\n",
       "      <td>NaT</td>\n",
       "      <td>NaT</td>\n",
       "      <td>...</td>\n",
       "      <td>NaT</td>\n",
       "      <td>NaT</td>\n",
       "      <td>NaT</td>\n",
       "      <td>NaT</td>\n",
       "      <td>NaT</td>\n",
       "      <td>NaT</td>\n",
       "      <td>NaT</td>\n",
       "      <td>NaT</td>\n",
       "      <td>NaT</td>\n",
       "      <td>2863104</td>\n",
       "    </tr>\n",
       "  </tbody>\n",
       "</table>\n",
       "<p>3 rows × 24 columns</p>\n",
       "</div>"
      ],
      "text/plain": [
       "   node_id             imtiazs masoodpanahn kmecoval fisherc ratliffj  \\\n",
       "0  3047214 2016-05-04 21:05:00          NaT      NaT     NaT      NaT   \n",
       "1  3047212 2016-05-04 21:05:00          NaT      NaT     NaT      NaT   \n",
       "2  3047210 2016-05-04 21:05:00          NaT      NaT     NaT      NaT   \n",
       "\n",
       "  helmickl alij sharifin robertsr  ... meechank edmondsona jamasba schlegelp  \\\n",
       "0      NaT  NaT      NaT      NaT  ...      NaT        NaT     NaT       NaT   \n",
       "1      NaT  NaT      NaT      NaT  ...      NaT        NaT     NaT       NaT   \n",
       "2      NaT  NaT      NaT      NaT  ...      NaT        NaT     NaT       NaT   \n",
       "\n",
       "  calles hallouc adesinaa lovef mooree skeleton_id  \n",
       "0    NaT     NaT      NaT   NaT    NaT     2863104  \n",
       "1    NaT     NaT      NaT   NaT    NaT     2863104  \n",
       "2    NaT     NaT      NaT   NaT    NaT     2863104  \n",
       "\n",
       "[3 rows x 24 columns]"
      ]
     },
     "execution_count": 38,
     "metadata": {},
     "output_type": "execute_result"
    }
   ],
   "source": [
    "rev = pymaid.get_review_details(da1)\n",
    "\n",
    "# `rev` is a DataFrame that contains timestamps of when a user has reviewed a given node\n",
    "rev.head(3)"
   ]
  },
  {
   "cell_type": "raw",
   "metadata": {
    "raw_mimetype": "text/restructuredtext"
   },
   "source": [
    "Scaling things up\n",
    "=================\n",
    "So far, the examples have pulled only a small amount of data but ``pymaid`` scales really well. Let's demonstrate how to fetch all neurons in the FAFB dataset, shall we?\n",
    "\n",
    "First we need to compile a list of neurons above a certain size and with a soma using :func:`pymaid.find_neurons`:"
   ]
  },
  {
   "cell_type": "code",
   "execution_count": 3,
   "metadata": {},
   "outputs": [
    {
     "name": "stderr",
     "output_type": "stream",
     "text": [
      "INFO  : Get all neurons with >= 1000 nodes (pymaid)\n"
     ]
    },
    {
     "data": {
      "application/vnd.jupyter.widget-view+json": {
       "model_id": "",
       "version_major": 2,
       "version_minor": 0
      },
      "text/plain": [
       "HBox(children=(HTML(value='Make nrn'), FloatProgress(value=0.0, max=11939.0), HTML(value='')))"
      ]
     },
     "metadata": {},
     "output_type": "display_data"
    },
    {
     "name": "stderr",
     "output_type": "stream",
     "text": [
      "INFO  : Found 7920 neurons matching the search parameters (pymaid)\n"
     ]
    }
   ],
   "source": [
    "all_fafb = pymaid.find_neurons(min_size=1000, only_soma=True)"
   ]
  },
  {
   "cell_type": "raw",
   "metadata": {
    "raw_mimetype": "text/restructuredtext"
   },
   "source": [
    "``all_fafb`` is now a list of 7920 neurons. At the moment these neurons only consist of skeleton ID and a name - any other data such as nodes or connectors are not (yet) loaded. Note the ``NAs``:"
   ]
  },
  {
   "cell_type": "code",
   "execution_count": 5,
   "metadata": {},
   "outputs": [
    {
     "data": {
      "text/html": [
       "<div>\n",
       "<style scoped>\n",
       "    .dataframe tbody tr th:only-of-type {\n",
       "        vertical-align: middle;\n",
       "    }\n",
       "\n",
       "    .dataframe tbody tr th {\n",
       "        vertical-align: top;\n",
       "    }\n",
       "\n",
       "    .dataframe thead th {\n",
       "        text-align: right;\n",
       "    }\n",
       "</style>\n",
       "<table border=\"1\" class=\"dataframe\">\n",
       "  <thead>\n",
       "    <tr style=\"text-align: right;\">\n",
       "      <th></th>\n",
       "      <th>type</th>\n",
       "      <th>name</th>\n",
       "      <th>skeleton_id</th>\n",
       "      <th>n_nodes</th>\n",
       "      <th>n_connectors</th>\n",
       "      <th>n_branches</th>\n",
       "      <th>n_leafs</th>\n",
       "      <th>cable_length</th>\n",
       "      <th>soma</th>\n",
       "      <th>units</th>\n",
       "    </tr>\n",
       "  </thead>\n",
       "  <tbody>\n",
       "    <tr>\n",
       "      <th>0</th>\n",
       "      <td>CatmaidNeuron</td>\n",
       "      <td>PD5g1_L#3 8880132 ECM Tarly family left</td>\n",
       "      <td>8880131</td>\n",
       "      <td>NA</td>\n",
       "      <td>NA</td>\n",
       "      <td>NA</td>\n",
       "      <td>NA</td>\n",
       "      <td>NA</td>\n",
       "      <td>NA</td>\n",
       "      <td>1 nanometer</td>\n",
       "    </tr>\n",
       "    <tr>\n",
       "      <th>1</th>\n",
       "      <td>CatmaidNeuron</td>\n",
       "      <td>KCaBx 12719 CF</td>\n",
       "      <td>10190852</td>\n",
       "      <td>NA</td>\n",
       "      <td>NA</td>\n",
       "      <td>NA</td>\n",
       "      <td>NA</td>\n",
       "      <td>NA</td>\n",
       "      <td>NA</td>\n",
       "      <td>1 nanometer</td>\n",
       "    </tr>\n",
       "    <tr>\n",
       "      <th>2</th>\n",
       "      <td>CatmaidNeuron</td>\n",
       "      <td>aSP-g type tract crossing alpha lobe neuron 98...</td>\n",
       "      <td>983054</td>\n",
       "      <td>NA</td>\n",
       "      <td>NA</td>\n",
       "      <td>NA</td>\n",
       "      <td>NA</td>\n",
       "      <td>NA</td>\n",
       "      <td>NA</td>\n",
       "      <td>1 nanometer</td>\n",
       "    </tr>\n",
       "    <tr>\n",
       "      <th>3</th>\n",
       "      <td>CatmaidNeuron</td>\n",
       "      <td>Uniglomerular mALT VA6 adPN 017 DB</td>\n",
       "      <td>16</td>\n",
       "      <td>NA</td>\n",
       "      <td>NA</td>\n",
       "      <td>NA</td>\n",
       "      <td>NA</td>\n",
       "      <td>NA</td>\n",
       "      <td>NA</td>\n",
       "      <td>1 nanometer</td>\n",
       "    </tr>\n",
       "    <tr>\n",
       "      <th>4</th>\n",
       "      <td>CatmaidNeuron</td>\n",
       "      <td>Multiglomerular mALT l2PN VM1+VP2+VP3+23 LTS 0...</td>\n",
       "      <td>32793</td>\n",
       "      <td>NA</td>\n",
       "      <td>NA</td>\n",
       "      <td>NA</td>\n",
       "      <td>NA</td>\n",
       "      <td>NA</td>\n",
       "      <td>NA</td>\n",
       "      <td>1 nanometer</td>\n",
       "    </tr>\n",
       "  </tbody>\n",
       "</table>\n",
       "</div>"
      ],
      "text/plain": [
       "<class 'pymaid.core.CatmaidNeuronList'> of 5 neurons\n",
       "             type                                               name  \\\n",
       "0  CatmaidNeuron            PD5g1_L#3 8880132 ECM Tarly family left   \n",
       "1  CatmaidNeuron                                     KCaBx 12719 CF   \n",
       "2  CatmaidNeuron  aSP-g type tract crossing alpha lobe neuron 98...   \n",
       "3  CatmaidNeuron                 Uniglomerular mALT VA6 adPN 017 DB   \n",
       "4  CatmaidNeuron  Multiglomerular mALT l2PN VM1+VP2+VP3+23 LTS 0...   \n",
       "\n",
       "  skeleton_id n_nodes n_connectors n_branches n_leafs cable_length soma  \\\n",
       "0     8880131      NA           NA         NA      NA           NA   NA   \n",
       "1    10190852      NA           NA         NA      NA           NA   NA   \n",
       "2      983054      NA           NA         NA      NA           NA   NA   \n",
       "3          16      NA           NA         NA      NA           NA   NA   \n",
       "4       32793      NA           NA         NA      NA           NA   NA   \n",
       "\n",
       "         units  \n",
       "0  1 nanometer  \n",
       "1  1 nanometer  \n",
       "2  1 nanometer  \n",
       "3  1 nanometer  \n",
       "4  1 nanometer  "
      ]
     },
     "execution_count": 5,
     "metadata": {},
     "output_type": "execute_result"
    }
   ],
   "source": [
    "all_fafb[:5]"
   ]
  },
  {
   "cell_type": "raw",
   "metadata": {
    "raw_mimetype": "text/restructuredtext"
   },
   "source": [
    "The not-yet-available data is lazily loaded on request:"
   ]
  },
  {
   "cell_type": "code",
   "execution_count": 6,
   "metadata": {},
   "outputs": [
    {
     "data": {
      "text/html": [
       "<div>\n",
       "<style scoped>\n",
       "    .dataframe tbody tr th:only-of-type {\n",
       "        vertical-align: middle;\n",
       "    }\n",
       "\n",
       "    .dataframe tbody tr th {\n",
       "        vertical-align: top;\n",
       "    }\n",
       "\n",
       "    .dataframe thead th {\n",
       "        text-align: right;\n",
       "    }\n",
       "</style>\n",
       "<table border=\"1\" class=\"dataframe\">\n",
       "  <thead>\n",
       "    <tr style=\"text-align: right;\">\n",
       "      <th></th>\n",
       "      <th>node_id</th>\n",
       "      <th>parent_id</th>\n",
       "      <th>creator_id</th>\n",
       "      <th>x</th>\n",
       "      <th>y</th>\n",
       "      <th>z</th>\n",
       "      <th>radius</th>\n",
       "      <th>confidence</th>\n",
       "      <th>type</th>\n",
       "    </tr>\n",
       "  </thead>\n",
       "  <tbody>\n",
       "    <tr>\n",
       "      <th>0</th>\n",
       "      <td>38680419</td>\n",
       "      <td>38680415</td>\n",
       "      <td>127</td>\n",
       "      <td>649397.0</td>\n",
       "      <td>128668.0</td>\n",
       "      <td>170760.0</td>\n",
       "      <td>51.0</td>\n",
       "      <td>5</td>\n",
       "      <td>slab</td>\n",
       "    </tr>\n",
       "    <tr>\n",
       "      <th>1</th>\n",
       "      <td>38680424</td>\n",
       "      <td>38680419</td>\n",
       "      <td>127</td>\n",
       "      <td>649497.0</td>\n",
       "      <td>128728.0</td>\n",
       "      <td>170840.0</td>\n",
       "      <td>51.0</td>\n",
       "      <td>5</td>\n",
       "      <td>slab</td>\n",
       "    </tr>\n",
       "    <tr>\n",
       "      <th>2</th>\n",
       "      <td>38680426</td>\n",
       "      <td>38680424</td>\n",
       "      <td>127</td>\n",
       "      <td>649733.0</td>\n",
       "      <td>128876.0</td>\n",
       "      <td>170920.0</td>\n",
       "      <td>51.0</td>\n",
       "      <td>5</td>\n",
       "      <td>slab</td>\n",
       "    </tr>\n",
       "    <tr>\n",
       "      <th>3</th>\n",
       "      <td>38680436</td>\n",
       "      <td>38680432</td>\n",
       "      <td>127</td>\n",
       "      <td>649945.0</td>\n",
       "      <td>129012.0</td>\n",
       "      <td>171040.0</td>\n",
       "      <td>51.0</td>\n",
       "      <td>5</td>\n",
       "      <td>slab</td>\n",
       "    </tr>\n",
       "    <tr>\n",
       "      <th>4</th>\n",
       "      <td>38680432</td>\n",
       "      <td>38680426</td>\n",
       "      <td>127</td>\n",
       "      <td>649901.0</td>\n",
       "      <td>128984.0</td>\n",
       "      <td>171000.0</td>\n",
       "      <td>51.0</td>\n",
       "      <td>5</td>\n",
       "      <td>slab</td>\n",
       "    </tr>\n",
       "  </tbody>\n",
       "</table>\n",
       "</div>"
      ],
      "text/plain": [
       "    node_id  parent_id creator_id         x         y         z  radius  \\\n",
       "0  38680419   38680415        127  649397.0  128668.0  170760.0    51.0   \n",
       "1  38680424   38680419        127  649497.0  128728.0  170840.0    51.0   \n",
       "2  38680426   38680424        127  649733.0  128876.0  170920.0    51.0   \n",
       "3  38680436   38680432        127  649945.0  129012.0  171040.0    51.0   \n",
       "4  38680432   38680426        127  649901.0  128984.0  171000.0    51.0   \n",
       "\n",
       "  confidence  type  \n",
       "0          5  slab  \n",
       "1          5  slab  \n",
       "2          5  slab  \n",
       "3          5  slab  \n",
       "4          5  slab  "
      ]
     },
     "execution_count": 6,
     "metadata": {},
     "output_type": "execute_result"
    }
   ],
   "source": [
    "all_fafb[0].nodes.head()"
   ]
  },
  {
   "cell_type": "raw",
   "metadata": {
    "raw_mimetype": "text/restructuredtext"
   },
   "source": [
    "Note how the first neuron is now the only one with more detailed info in the summary:"
   ]
  },
  {
   "cell_type": "code",
   "execution_count": 7,
   "metadata": {},
   "outputs": [
    {
     "data": {
      "text/html": [
       "<div>\n",
       "<style scoped>\n",
       "    .dataframe tbody tr th:only-of-type {\n",
       "        vertical-align: middle;\n",
       "    }\n",
       "\n",
       "    .dataframe tbody tr th {\n",
       "        vertical-align: top;\n",
       "    }\n",
       "\n",
       "    .dataframe thead th {\n",
       "        text-align: right;\n",
       "    }\n",
       "</style>\n",
       "<table border=\"1\" class=\"dataframe\">\n",
       "  <thead>\n",
       "    <tr style=\"text-align: right;\">\n",
       "      <th></th>\n",
       "      <th>type</th>\n",
       "      <th>name</th>\n",
       "      <th>skeleton_id</th>\n",
       "      <th>n_nodes</th>\n",
       "      <th>n_connectors</th>\n",
       "      <th>n_branches</th>\n",
       "      <th>n_leafs</th>\n",
       "      <th>cable_length</th>\n",
       "      <th>soma</th>\n",
       "      <th>units</th>\n",
       "    </tr>\n",
       "  </thead>\n",
       "  <tbody>\n",
       "    <tr>\n",
       "      <th>0</th>\n",
       "      <td>CatmaidNeuron</td>\n",
       "      <td>PD5g1_L#3 8880132 ECM Tarly family left</td>\n",
       "      <td>8880131</td>\n",
       "      <td>3129</td>\n",
       "      <td>96</td>\n",
       "      <td>126</td>\n",
       "      <td>None</td>\n",
       "      <td>883607</td>\n",
       "      <td>[38712262]</td>\n",
       "      <td>1 nanometer</td>\n",
       "    </tr>\n",
       "    <tr>\n",
       "      <th>1</th>\n",
       "      <td>CatmaidNeuron</td>\n",
       "      <td>KCaBx 12719 CF</td>\n",
       "      <td>10190852</td>\n",
       "      <td>NA</td>\n",
       "      <td>NA</td>\n",
       "      <td>NA</td>\n",
       "      <td>NA</td>\n",
       "      <td>NA</td>\n",
       "      <td>NA</td>\n",
       "      <td>1 nanometer</td>\n",
       "    </tr>\n",
       "    <tr>\n",
       "      <th>2</th>\n",
       "      <td>CatmaidNeuron</td>\n",
       "      <td>aSP-g type tract crossing alpha lobe neuron 98...</td>\n",
       "      <td>983054</td>\n",
       "      <td>NA</td>\n",
       "      <td>NA</td>\n",
       "      <td>NA</td>\n",
       "      <td>NA</td>\n",
       "      <td>NA</td>\n",
       "      <td>NA</td>\n",
       "      <td>1 nanometer</td>\n",
       "    </tr>\n",
       "    <tr>\n",
       "      <th>3</th>\n",
       "      <td>CatmaidNeuron</td>\n",
       "      <td>Uniglomerular mALT VA6 adPN 017 DB</td>\n",
       "      <td>16</td>\n",
       "      <td>NA</td>\n",
       "      <td>NA</td>\n",
       "      <td>NA</td>\n",
       "      <td>NA</td>\n",
       "      <td>NA</td>\n",
       "      <td>NA</td>\n",
       "      <td>1 nanometer</td>\n",
       "    </tr>\n",
       "    <tr>\n",
       "      <th>4</th>\n",
       "      <td>CatmaidNeuron</td>\n",
       "      <td>Multiglomerular mALT l2PN VM1+VP2+VP3+23 LTS 0...</td>\n",
       "      <td>32793</td>\n",
       "      <td>NA</td>\n",
       "      <td>NA</td>\n",
       "      <td>NA</td>\n",
       "      <td>NA</td>\n",
       "      <td>NA</td>\n",
       "      <td>NA</td>\n",
       "      <td>1 nanometer</td>\n",
       "    </tr>\n",
       "  </tbody>\n",
       "</table>\n",
       "</div>"
      ],
      "text/plain": [
       "<class 'pymaid.core.CatmaidNeuronList'> of 5 neurons\n",
       "             type                                               name  \\\n",
       "0  CatmaidNeuron            PD5g1_L#3 8880132 ECM Tarly family left   \n",
       "1  CatmaidNeuron                                     KCaBx 12719 CF   \n",
       "2  CatmaidNeuron  aSP-g type tract crossing alpha lobe neuron 98...   \n",
       "3  CatmaidNeuron                 Uniglomerular mALT VA6 adPN 017 DB   \n",
       "4  CatmaidNeuron  Multiglomerular mALT l2PN VM1+VP2+VP3+23 LTS 0...   \n",
       "\n",
       "  skeleton_id n_nodes n_connectors n_branches n_leafs cable_length  \\\n",
       "0     8880131    3129           96        126    None       883607   \n",
       "1    10190852      NA           NA         NA      NA           NA   \n",
       "2      983054      NA           NA         NA      NA           NA   \n",
       "3          16      NA           NA         NA      NA           NA   \n",
       "4       32793      NA           NA         NA      NA           NA   \n",
       "\n",
       "         soma        units  \n",
       "0  [38712262]  1 nanometer  \n",
       "1          NA  1 nanometer  \n",
       "2          NA  1 nanometer  \n",
       "3          NA  1 nanometer  \n",
       "4          NA  1 nanometer  "
      ]
     },
     "execution_count": 7,
     "metadata": {},
     "output_type": "execute_result"
    }
   ],
   "source": [
    "all_fafb[:5]"
   ]
  },
  {
   "cell_type": "raw",
   "metadata": {
    "raw_mimetype": "text/restructuredtext"
   },
   "source": [
    "So in theory, you now have about ~8k neurons to work with. But while the lazy loading is neat, it is also rather slow because it is done sequentially (i.e. one neuron at a time). If you want skeleton information (nodes + connectors) for all these neurons, you are best off triggering a full download which will use parallel threads:"
   ]
  },
  {
   "cell_type": "code",
   "execution_count": null,
   "metadata": {},
   "outputs": [],
   "source": [
    "all_fafb.get_skeletons()"
   ]
  },
  {
   "cell_type": "raw",
   "metadata": {
    "raw_mimetype": "text/restructuredtext"
   },
   "source": [
    "By default, ``pymaid`` uses 100 parallel threads to fetch that data. On slow internet connections, this can cause errors. To reduce the maximum number of parallel threads, you can do this:"
   ]
  },
  {
   "cell_type": "code",
   "execution_count": null,
   "metadata": {},
   "outputs": [],
   "source": [
    "rm.max_threads = 10"
   ]
  },
  {
   "cell_type": "raw",
   "metadata": {
    "raw_mimetype": "text/restructuredtext"
   },
   "source": [
    "That's it for now. Check out the :ref:`API reference <api>` for a full list of available functions."
   ]
  }
 ],
 "metadata": {
  "celltoolbar": "Raw Cell Format",
  "kernelspec": {
   "display_name": "Python 3",
   "language": "python",
   "name": "python3"
  },
  "language_info": {
   "codemirror_mode": {
    "name": "ipython",
    "version": 3
   },
   "file_extension": ".py",
   "mimetype": "text/x-python",
   "name": "python",
   "nbconvert_exporter": "python",
   "pygments_lexer": "ipython3",
   "version": "3.7.5"
  }
 },
 "nbformat": 4,
 "nbformat_minor": 2
}
