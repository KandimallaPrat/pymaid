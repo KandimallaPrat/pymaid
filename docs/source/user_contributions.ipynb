{
   "cells": [
      {
         "cell_type": "raw",
         "metadata": {
            "raw_mimetype": "text/restructuredtext"
         },
         "source": [
            "Calculating user contributions\n",
            "==============================\n",
            "\n",
            "When gearing up for publication, you will find that due to the collaborative approach of CATMAID a great many people will have contributed to the data you would like to publish. In order to come up with a sensible author list, it is useful to quantify how much a user has contributed to the reconstruction of a set of neurons. CATMAID provides you a broad summary of contributions e.g. via the selection table. Pymaid let's you fetch that data and more.\n",
            "\n",
            "First, let's get a set of olfactory projection neurons to demonstrate user statistics on:"
         ]
      },
      {
         "cell_type": "code",
         "execution_count": 1,
         "metadata": {},
         "outputs": [
            {
               "name": "stderr",
               "output_type": "stream",
               "text": [
                  "INFO  : Found 9 skeletons with matching annotation(s) (pymaid)\n"
               ]
            }
         ],
         "source": [
            "import pymaid\n",
            "\n",
            "# Initialize connection\n",
            "rm = pymaid.connect_catmaid()\n",
            "\n",
            "# Fetch some neurons\n",
            "nl = pymaid.get_neurons('annotation:glomerulus DA1 right')"
         ]
      },
      {
         "cell_type": "raw",
         "metadata": {
            "raw_mimetype": "text/restructuredtext"
         },
         "source": [
            "First some basic stats:"
         ]
      },
      {
         "cell_type": "code",
         "execution_count": 2,
         "metadata": {},
         "outputs": [
            {
               "data": {
                  "text/html": [
                     "<div>\n",
                     "<style scoped>\n",
                     "    .dataframe tbody tr th:only-of-type {\n",
                     "        vertical-align: middle;\n",
                     "    }\n",
                     "\n",
                     "    .dataframe tbody tr th {\n",
                     "        vertical-align: top;\n",
                     "    }\n",
                     "\n",
                     "    .dataframe thead th {\n",
                     "        text-align: right;\n",
                     "    }\n",
                     "</style>\n",
                     "<table border=\"1\" class=\"dataframe\">\n",
                     "  <thead>\n",
                     "    <tr style=\"text-align: right;\">\n",
                     "      <th></th>\n",
                     "      <th>skeleton_id</th>\n",
                     "      <th>n_nodes</th>\n",
                     "      <th>node_contributors</th>\n",
                     "      <th>n_presynapses</th>\n",
                     "      <th>pre_contributors</th>\n",
                     "      <th>n_postsynapses</th>\n",
                     "      <th>post_contributors</th>\n",
                     "      <th>review_contributors</th>\n",
                     "      <th>multiuser_review_minutes</th>\n",
                     "      <th>construction_minutes</th>\n",
                     "      <th>min_review_minutes</th>\n",
                     "    </tr>\n",
                     "  </thead>\n",
                     "  <tbody>\n",
                     "    <tr>\n",
                     "      <th>0</th>\n",
                     "      <td>61221</td>\n",
                     "      <td>7875</td>\n",
                     "      <td>{'adamjohn': 2442, 'ranftp': 4109, 'ratliffj':...</td>\n",
                     "      <td>404</td>\n",
                     "      <td>{'hsuj': 1, 'adamjohn': 10, 'ranftp': 249, 'ha...</td>\n",
                     "      <td>128</td>\n",
                     "      <td>{'ranftp': 89, 'alij': 1, 'koppenhaverb': 5, '...</td>\n",
                     "      <td>{'ratliffj': 2834, 'masoodpanahn': 84, 'koppen...</td>\n",
                     "      <td>165</td>\n",
                     "      <td>416</td>\n",
                     "      <td>135</td>\n",
                     "    </tr>\n",
                     "    <tr>\n",
                     "      <th>1</th>\n",
                     "      <td>27295</td>\n",
                     "      <td>9975</td>\n",
                     "      <td>{'koppenhaverb': 102, 'robertsr': 53, 'lovef':...</td>\n",
                     "      <td>412</td>\n",
                     "      <td>{'robertsr': 32, 'alij': 6, 'schlegelp': 205, ...</td>\n",
                     "      <td>59</td>\n",
                     "      <td>{'alij': 2, 'heatha': 2, 'hallouc': 2, 'schleg...</td>\n",
                     "      <td>{'schlegelp': 517, 'adesinaa': 2586, 'kmecoval...</td>\n",
                     "      <td>367</td>\n",
                     "      <td>502</td>\n",
                     "      <td>313</td>\n",
                     "    </tr>\n",
                     "    <tr>\n",
                     "      <th>2</th>\n",
                     "      <td>57323</td>\n",
                     "      <td>4585</td>\n",
                     "      <td>{'kmecoval': 2194, 'robertsr': 159, 'koppenhav...</td>\n",
                     "      <td>361</td>\n",
                     "      <td>{'calles': 2, 'michaelLingelbach': 1, 'kmecova...</td>\n",
                     "      <td>76</td>\n",
                     "      <td>{'vallas': 1, 'ranftp': 1, 'edmondsona': 20, '...</td>\n",
                     "      <td>{'ratliffj': 2116, 'kmecoval': 350, 'masoodpan...</td>\n",
                     "      <td>176</td>\n",
                     "      <td>208</td>\n",
                     "      <td>84</td>\n",
                     "    </tr>\n",
                     "    <tr>\n",
                     "      <th>3</th>\n",
                     "      <td>57311</td>\n",
                     "      <td>4882</td>\n",
                     "      <td>{'kmecoval': 1376, 'robertsr': 24, 'lovef': 75...</td>\n",
                     "      <td>371</td>\n",
                     "      <td>{'robertsr': 18, 'lovef': 220, 'jamasba': 4, '...</td>\n",
                     "      <td>58</td>\n",
                     "      <td>{'robertsr': 10, 'ranftp': 1, 'heatha': 1, 'lo...</td>\n",
                     "      <td>{'mooree': 2308, 'adamjohn': 1231, 'kmecoval':...</td>\n",
                     "      <td>390</td>\n",
                     "      <td>241</td>\n",
                     "      <td>163</td>\n",
                     "    </tr>\n",
                     "    <tr>\n",
                     "      <th>4</th>\n",
                     "      <td>57353</td>\n",
                     "      <td>4898</td>\n",
                     "      <td>{'kmecoval': 1054, 'hsuj': 1, 'koppenhaverb': ...</td>\n",
                     "      <td>302</td>\n",
                     "      <td>{'hsuj': 1, 'robertsr': 13, 'kmecoval': 17, 's...</td>\n",
                     "      <td>24</td>\n",
                     "      <td>{'robertsr': 7, 'kmecoval': 2, 'meechank': 13,...</td>\n",
                     "      <td>{'adamjohn': 1843, 'sharifin': 1231, 'masoodpa...</td>\n",
                     "      <td>177</td>\n",
                     "      <td>247</td>\n",
                     "      <td>101</td>\n",
                     "    </tr>\n",
                     "  </tbody>\n",
                     "</table>\n",
                     "</div>"
                  ],
                  "text/plain": [
                     "  skeleton_id n_nodes                                  node_contributors  \\\n",
                     "0       61221    7875  {'adamjohn': 2442, 'ranftp': 4109, 'ratliffj':...   \n",
                     "1       27295    9975  {'koppenhaverb': 102, 'robertsr': 53, 'lovef':...   \n",
                     "2       57323    4585  {'kmecoval': 2194, 'robertsr': 159, 'koppenhav...   \n",
                     "3       57311    4882  {'kmecoval': 1376, 'robertsr': 24, 'lovef': 75...   \n",
                     "4       57353    4898  {'kmecoval': 1054, 'hsuj': 1, 'koppenhaverb': ...   \n",
                     "\n",
                     "  n_presynapses                                   pre_contributors  \\\n",
                     "0           404  {'hsuj': 1, 'adamjohn': 10, 'ranftp': 249, 'ha...   \n",
                     "1           412  {'robertsr': 32, 'alij': 6, 'schlegelp': 205, ...   \n",
                     "2           361  {'calles': 2, 'michaelLingelbach': 1, 'kmecova...   \n",
                     "3           371  {'robertsr': 18, 'lovef': 220, 'jamasba': 4, '...   \n",
                     "4           302  {'hsuj': 1, 'robertsr': 13, 'kmecoval': 17, 's...   \n",
                     "\n",
                     "  n_postsynapses                                  post_contributors  \\\n",
                     "0            128  {'ranftp': 89, 'alij': 1, 'koppenhaverb': 5, '...   \n",
                     "1             59  {'alij': 2, 'heatha': 2, 'hallouc': 2, 'schleg...   \n",
                     "2             76  {'vallas': 1, 'ranftp': 1, 'edmondsona': 20, '...   \n",
                     "3             58  {'robertsr': 10, 'ranftp': 1, 'heatha': 1, 'lo...   \n",
                     "4             24  {'robertsr': 7, 'kmecoval': 2, 'meechank': 13,...   \n",
                     "\n",
                     "                                 review_contributors multiuser_review_minutes  \\\n",
                     "0  {'ratliffj': 2834, 'masoodpanahn': 84, 'koppen...                      165   \n",
                     "1  {'schlegelp': 517, 'adesinaa': 2586, 'kmecoval...                      367   \n",
                     "2  {'ratliffj': 2116, 'kmecoval': 350, 'masoodpan...                      176   \n",
                     "3  {'mooree': 2308, 'adamjohn': 1231, 'kmecoval':...                      390   \n",
                     "4  {'adamjohn': 1843, 'sharifin': 1231, 'masoodpa...                      177   \n",
                     "\n",
                     "  construction_minutes min_review_minutes  \n",
                     "0                  416                135  \n",
                     "1                  502                313  \n",
                     "2                  208                 84  \n",
                     "3                  241                163  \n",
                     "4                  247                101  "
                  ]
               },
               "execution_count": 2,
               "metadata": {},
               "output_type": "execute_result"
            }
         ],
         "source": [
            "cont = pymaid.get_contributor_statistics(nl, separate=True)\n",
            "cont.head()"
         ]
      },
      {
         "cell_type": "raw",
         "metadata": {
            "raw_mimetype": "text/restructuredtext"
         },
         "source": [
            "For convencience, there is another function that shows contributions per-user instead of per-neuron:"
         ]
      },
      {
         "cell_type": "code",
         "execution_count": 3,
         "metadata": {},
         "outputs": [
            {
               "data": {
                  "text/html": [
                     "<div>\n",
                     "<style scoped>\n",
                     "    .dataframe tbody tr th:only-of-type {\n",
                     "        vertical-align: middle;\n",
                     "    }\n",
                     "\n",
                     "    .dataframe tbody tr th {\n",
                     "        vertical-align: top;\n",
                     "    }\n",
                     "\n",
                     "    .dataframe thead th {\n",
                     "        text-align: right;\n",
                     "    }\n",
                     "</style>\n",
                     "<table border=\"1\" class=\"dataframe\">\n",
                     "  <thead>\n",
                     "    <tr style=\"text-align: right;\">\n",
                     "      <th></th>\n",
                     "      <th>user</th>\n",
                     "      <th>nodes</th>\n",
                     "      <th>presynapses</th>\n",
                     "      <th>postsynapses</th>\n",
                     "      <th>nodes_reviewed</th>\n",
                     "    </tr>\n",
                     "  </thead>\n",
                     "  <tbody>\n",
                     "    <tr>\n",
                     "      <th>0</th>\n",
                     "      <td>robertsr</td>\n",
                     "      <td>14527</td>\n",
                     "      <td>1038</td>\n",
                     "      <td>481</td>\n",
                     "      <td>4729</td>\n",
                     "    </tr>\n",
                     "    <tr>\n",
                     "      <th>1</th>\n",
                     "      <td>ranftp</td>\n",
                     "      <td>5927</td>\n",
                     "      <td>401</td>\n",
                     "      <td>132</td>\n",
                     "      <td>0</td>\n",
                     "    </tr>\n",
                     "    <tr>\n",
                     "      <th>2</th>\n",
                     "      <td>kmecoval</td>\n",
                     "      <td>5204</td>\n",
                     "      <td>87</td>\n",
                     "      <td>4</td>\n",
                     "      <td>5177</td>\n",
                     "    </tr>\n",
                     "    <tr>\n",
                     "      <th>3</th>\n",
                     "      <td>hallouc</td>\n",
                     "      <td>4267</td>\n",
                     "      <td>61</td>\n",
                     "      <td>11</td>\n",
                     "      <td>8047</td>\n",
                     "    </tr>\n",
                     "    <tr>\n",
                     "      <th>4</th>\n",
                     "      <td>michaelLingelbach</td>\n",
                     "      <td>4253</td>\n",
                     "      <td>1</td>\n",
                     "      <td>0</td>\n",
                     "      <td>0</td>\n",
                     "    </tr>\n",
                     "  </tbody>\n",
                     "</table>\n",
                     "</div>"
                  ],
                  "text/plain": [
                     "                user  nodes  presynapses  postsynapses  nodes_reviewed\n",
                     "0           robertsr  14527         1038           481            4729\n",
                     "1             ranftp   5927          401           132               0\n",
                     "2           kmecoval   5204           87             4            5177\n",
                     "3            hallouc   4267           61            11            8047\n",
                     "4  michaelLingelbach   4253            1             0               0"
                  ]
               },
               "execution_count": 3,
               "metadata": {},
               "output_type": "execute_result"
            }
         ],
         "source": [
            "by_user = pymaid.get_user_contributions(nl)\n",
            "by_user.head()"
         ]
      },
      {
         "cell_type": "raw",
         "metadata": {
            "raw_mimetype": "text/restructuredtext"
         },
         "source": [
            "Sometimes the plain number of nodes (or cable length) are not very helpful. Did a person trace mostly backbone (fast) or did they scramble tracing fine terminal branches (slow)? Personally, I consider time invested to be a better metric:"
         ]
      },
      {
         "cell_type": "code",
         "execution_count": 4,
         "metadata": {},
         "outputs": [
            {
               "data": {
                  "text/html": [
                     "<div>\n",
                     "<style scoped>\n",
                     "    .dataframe tbody tr th:only-of-type {\n",
                     "        vertical-align: middle;\n",
                     "    }\n",
                     "\n",
                     "    .dataframe tbody tr th {\n",
                     "        vertical-align: top;\n",
                     "    }\n",
                     "\n",
                     "    .dataframe thead th {\n",
                     "        text-align: right;\n",
                     "    }\n",
                     "</style>\n",
                     "<table border=\"1\" class=\"dataframe\">\n",
                     "  <thead>\n",
                     "    <tr style=\"text-align: right;\">\n",
                     "      <th></th>\n",
                     "      <th>total</th>\n",
                     "      <th>creation</th>\n",
                     "      <th>edition</th>\n",
                     "      <th>review</th>\n",
                     "    </tr>\n",
                     "    <tr>\n",
                     "      <th>user</th>\n",
                     "      <th></th>\n",
                     "      <th></th>\n",
                     "      <th></th>\n",
                     "      <th></th>\n",
                     "    </tr>\n",
                     "  </thead>\n",
                     "  <tbody>\n",
                     "    <tr>\n",
                     "      <th>robertsr</th>\n",
                     "      <td>1113</td>\n",
                     "      <td>690</td>\n",
                     "      <td>420</td>\n",
                     "      <td>198</td>\n",
                     "    </tr>\n",
                     "    <tr>\n",
                     "      <th>hallouc</th>\n",
                     "      <td>627</td>\n",
                     "      <td>183</td>\n",
                     "      <td>180</td>\n",
                     "      <td>333</td>\n",
                     "    </tr>\n",
                     "    <tr>\n",
                     "      <th>koppenhaverb</th>\n",
                     "      <td>378</td>\n",
                     "      <td>108</td>\n",
                     "      <td>15</td>\n",
                     "      <td>144</td>\n",
                     "    </tr>\n",
                     "    <tr>\n",
                     "      <th>ranftp</th>\n",
                     "      <td>357</td>\n",
                     "      <td>219</td>\n",
                     "      <td>189</td>\n",
                     "      <td>0</td>\n",
                     "    </tr>\n",
                     "    <tr>\n",
                     "      <th>kmecoval</th>\n",
                     "      <td>333</td>\n",
                     "      <td>147</td>\n",
                     "      <td>72</td>\n",
                     "      <td>126</td>\n",
                     "    </tr>\n",
                     "  </tbody>\n",
                     "</table>\n",
                     "</div>"
                  ],
                  "text/plain": [
                     "              total  creation  edition  review\n",
                     "user                                          \n",
                     "robertsr       1113       690      420     198\n",
                     "hallouc         627       183      180     333\n",
                     "koppenhaverb    378       108       15     144\n",
                     "ranftp          357       219      189       0\n",
                     "kmecoval        333       147       72     126"
                  ]
               },
               "execution_count": 4,
               "metadata": {},
               "output_type": "execute_result"
            }
         ],
         "source": [
            "time_inv = pymaid.get_time_invested(nl)\n",
            "time_inv.head()"
         ]
      },
      {
         "cell_type": "raw",
         "metadata": {
            "raw_mimetype": "text/restructuredtext"
         },
         "source": [
            "Notice how the order of contributors changes whether we look at e.g. nodes created vs total time invested?\n",
            "\n",
            ":func:`pymaid.get_time_invested` takes timestamps from node creation, edits and reviews and calculates the time invested in minutes. In brief, pymaid sums up the minutes in which a user has performed 10+ actions. You can tweak this behaviour - have a look at the documentation!\n",
            "\n",
            "Compartmentalizing contributions \n",
            "--------------------------------\n",
            "\n",
            "You might end up publishing only reconstructions in a certain neuropil. In that case will want to subset contribution accordingly.\n",
            "\n",
            "Let's first prune the projection neurons to the lateral horn"
         ]
      },
      {
         "cell_type": "code",
         "execution_count": 5,
         "metadata": {},
         "outputs": [
            {
               "data": {
                  "image/png": "[encoded data removed]",
                  "text/plain": [
                     "<Figure size 576x576 with 1 Axes>"
                  ]
               },
               "metadata": {},
               "output_type": "display_data"
            }
         ],
         "source": [
            "import matplotlib.pyplot as plt\n",
            "\n",
            "lh = pymaid.get_volume('LH_R')\n",
            "lh.color = (240,240,240,.5)\n",
            "\n",
            "nl_lh = nl.prune_by_volume(lh, inplace=False)\n",
            "\n",
            "fig, ax = pymaid.plot2d([nl_lh, lh], connectors=False, linewidth=1.5)\n",
            "plt.show()"
         ]
      },
      {
         "cell_type": "raw",
         "metadata": {
            "raw_mimetype": "text/restructuredtext"
         },
         "source": [
            "You must **not** use :func:`pymaid.get_user_contributions` or :func:`pymaid.get_contributor_statistics` with neuron fragments as they are not \"`fragment-safe`\". That's because these functions use only skeleton IDs to query the CATMAID server which is totally oblivious to the local changes to these neurons.\n",
            "\n",
            "For our purposes, :func:`pymaid.get_time_invested` and :func:`pymaid.get_team_contributions` are `fragment-safe`:"
         ]
      },
      {
         "cell_type": "code",
         "execution_count": 6,
         "metadata": {},
         "outputs": [
            {
               "data": {
                  "text/html": [
                     "<div>\n",
                     "<style scoped>\n",
                     "    .dataframe tbody tr th:only-of-type {\n",
                     "        vertical-align: middle;\n",
                     "    }\n",
                     "\n",
                     "    .dataframe tbody tr th {\n",
                     "        vertical-align: top;\n",
                     "    }\n",
                     "\n",
                     "    .dataframe thead th {\n",
                     "        text-align: right;\n",
                     "    }\n",
                     "</style>\n",
                     "<table border=\"1\" class=\"dataframe\">\n",
                     "  <thead>\n",
                     "    <tr style=\"text-align: right;\">\n",
                     "      <th></th>\n",
                     "      <th>total</th>\n",
                     "      <th>creation</th>\n",
                     "      <th>edition</th>\n",
                     "      <th>review</th>\n",
                     "    </tr>\n",
                     "    <tr>\n",
                     "      <th>user</th>\n",
                     "      <th></th>\n",
                     "      <th></th>\n",
                     "      <th></th>\n",
                     "      <th></th>\n",
                     "    </tr>\n",
                     "  </thead>\n",
                     "  <tbody>\n",
                     "    <tr>\n",
                     "      <th>robertsr</th>\n",
                     "      <td>588</td>\n",
                     "      <td>249</td>\n",
                     "      <td>210</td>\n",
                     "      <td>177</td>\n",
                     "    </tr>\n",
                     "    <tr>\n",
                     "      <th>koppenhaverb</th>\n",
                     "      <td>225</td>\n",
                     "      <td>96</td>\n",
                     "      <td>9</td>\n",
                     "      <td>33</td>\n",
                     "    </tr>\n",
                     "    <tr>\n",
                     "      <th>lovef</th>\n",
                     "      <td>198</td>\n",
                     "      <td>0</td>\n",
                     "      <td>15</td>\n",
                     "      <td>162</td>\n",
                     "    </tr>\n",
                     "    <tr>\n",
                     "      <th>schlegelp</th>\n",
                     "      <td>171</td>\n",
                     "      <td>27</td>\n",
                     "      <td>30</td>\n",
                     "      <td>66</td>\n",
                     "    </tr>\n",
                     "    <tr>\n",
                     "      <th>ranftp</th>\n",
                     "      <td>105</td>\n",
                     "      <td>69</td>\n",
                     "      <td>39</td>\n",
                     "      <td>0</td>\n",
                     "    </tr>\n",
                     "  </tbody>\n",
                     "</table>\n",
                     "</div>"
                  ],
                  "text/plain": [
                     "              total  creation  edition  review\n",
                     "user                                          \n",
                     "robertsr        588       249      210     177\n",
                     "koppenhaverb    225        96        9      33\n",
                     "lovef           198         0       15     162\n",
                     "schlegelp       171        27       30      66\n",
                     "ranftp          105        69       39       0"
                  ]
               },
               "execution_count": 6,
               "metadata": {},
               "output_type": "execute_result"
            }
         ],
         "source": [
            "time_lh = pymaid.get_time_invested(nl_lh)\n",
            "time_lh.head()"
         ]
      },
      {
         "cell_type": "raw",
         "metadata": {
            "raw_mimetype": "text/restructuredtext"
         },
         "source": [
            "There is currently no pymaid wrapper for the number of nodes/connectors/etc per user but that's no problem:"
         ]
      },
      {
         "cell_type": "code",
         "execution_count": 7,
         "metadata": {},
         "outputs": [
            {
               "data": {
                  "text/html": [
                     "<div>\n",
                     "<style scoped>\n",
                     "    .dataframe tbody tr th:only-of-type {\n",
                     "        vertical-align: middle;\n",
                     "    }\n",
                     "\n",
                     "    .dataframe tbody tr th {\n",
                     "        vertical-align: top;\n",
                     "    }\n",
                     "\n",
                     "    .dataframe thead th {\n",
                     "        text-align: right;\n",
                     "    }\n",
                     "</style>\n",
                     "<table border=\"1\" class=\"dataframe\">\n",
                     "  <thead>\n",
                     "    <tr style=\"text-align: right;\">\n",
                     "      <th></th>\n",
                     "      <th>node_id</th>\n",
                     "      <th>creation_time</th>\n",
                     "      <th>creator</th>\n",
                     "      <th>edition_time</th>\n",
                     "      <th>editor</th>\n",
                     "      <th>reviewers</th>\n",
                     "      <th>review_times</th>\n",
                     "    </tr>\n",
                     "  </thead>\n",
                     "  <tbody>\n",
                     "    <tr>\n",
                     "      <th>0</th>\n",
                     "      <td>331812</td>\n",
                     "      <td>2015-05-12 12:31:00</td>\n",
                     "      <td>13</td>\n",
                     "      <td>2015-10-20 06:44:00</td>\n",
                     "      <td>13</td>\n",
                     "      <td>[53, 13]</td>\n",
                     "      <td>[2016-05-03 14:43:00, 2015-05-12 12:32:00]</td>\n",
                     "    </tr>\n",
                     "    <tr>\n",
                     "      <th>1</th>\n",
                     "      <td>331813</td>\n",
                     "      <td>2015-05-12 12:31:00</td>\n",
                     "      <td>13</td>\n",
                     "      <td>2015-10-20 06:44:00</td>\n",
                     "      <td>13</td>\n",
                     "      <td>[13, 53]</td>\n",
                     "      <td>[2015-05-12 12:32:00, 2016-05-03 14:43:00]</td>\n",
                     "    </tr>\n",
                     "    <tr>\n",
                     "      <th>2</th>\n",
                     "      <td>331814</td>\n",
                     "      <td>2015-05-12 12:31:00</td>\n",
                     "      <td>13</td>\n",
                     "      <td>2015-10-20 06:44:00</td>\n",
                     "      <td>13</td>\n",
                     "      <td>[13, 53]</td>\n",
                     "      <td>[2015-05-12 12:32:00, 2016-05-03 14:43:00]</td>\n",
                     "    </tr>\n",
                     "    <tr>\n",
                     "      <th>3</th>\n",
                     "      <td>331815</td>\n",
                     "      <td>2015-05-12 12:31:00</td>\n",
                     "      <td>13</td>\n",
                     "      <td>2015-10-20 06:44:00</td>\n",
                     "      <td>13</td>\n",
                     "      <td>[13, 53]</td>\n",
                     "      <td>[2015-05-12 12:32:00, 2016-05-03 14:43:00]</td>\n",
                     "    </tr>\n",
                     "    <tr>\n",
                     "      <th>4</th>\n",
                     "      <td>331816</td>\n",
                     "      <td>2015-05-12 12:31:00</td>\n",
                     "      <td>13</td>\n",
                     "      <td>2015-10-20 06:44:00</td>\n",
                     "      <td>13</td>\n",
                     "      <td>[53, 13]</td>\n",
                     "      <td>[2016-05-03 14:43:00, 2015-05-12 12:32:00]</td>\n",
                     "    </tr>\n",
                     "  </tbody>\n",
                     "</table>\n",
                     "</div>"
                  ],
                  "text/plain": [
                     "  node_id       creation_time creator        edition_time editor reviewers  \\\n",
                     "0  331812 2015-05-12 12:31:00      13 2015-10-20 06:44:00     13  [53, 13]   \n",
                     "1  331813 2015-05-12 12:31:00      13 2015-10-20 06:44:00     13  [13, 53]   \n",
                     "2  331814 2015-05-12 12:31:00      13 2015-10-20 06:44:00     13  [13, 53]   \n",
                     "3  331815 2015-05-12 12:31:00      13 2015-10-20 06:44:00     13  [13, 53]   \n",
                     "4  331816 2015-05-12 12:31:00      13 2015-10-20 06:44:00     13  [53, 13]   \n",
                     "\n",
                     "                                 review_times  \n",
                     "0  [2016-05-03 14:43:00, 2015-05-12 12:32:00]  \n",
                     "1  [2015-05-12 12:32:00, 2016-05-03 14:43:00]  \n",
                     "2  [2015-05-12 12:32:00, 2016-05-03 14:43:00]  \n",
                     "3  [2015-05-12 12:32:00, 2016-05-03 14:43:00]  \n",
                     "4  [2016-05-03 14:43:00, 2015-05-12 12:32:00]  "
                  ]
               },
               "execution_count": 7,
               "metadata": {},
               "output_type": "execute_result"
            }
         ],
         "source": [
            "node_details = pymaid.get_node_details(nl_lh.nodes.treenode_id.values)\n",
            "connector_details = pymaid.get_node_details(nl_lh.connectors.connector_id.values)"
         ]
      },
      {
         "cell_type": "raw",
         "metadata": {
            "raw_mimetype": "text/restructuredtext"
         },
         "source": [
            "Next, map user IDs to names:"
         ]
      },
      {
         "cell_type": "code",
         "execution_count": 8,
         "metadata": {},
         "outputs": [
            {
               "data": {
                  "text/html": [
                     "<div>\n",
                     "<style scoped>\n",
                     "    .dataframe tbody tr th:only-of-type {\n",
                     "        vertical-align: middle;\n",
                     "    }\n",
                     "\n",
                     "    .dataframe tbody tr th {\n",
                     "        vertical-align: top;\n",
                     "    }\n",
                     "\n",
                     "    .dataframe thead th {\n",
                     "        text-align: right;\n",
                     "    }\n",
                     "</style>\n",
                     "<table border=\"1\" class=\"dataframe\">\n",
                     "  <thead>\n",
                     "    <tr style=\"text-align: right;\">\n",
                     "      <th></th>\n",
                     "      <th>node_id</th>\n",
                     "      <th>creation_time</th>\n",
                     "      <th>creator</th>\n",
                     "      <th>edition_time</th>\n",
                     "      <th>editor</th>\n",
                     "      <th>reviewers</th>\n",
                     "      <th>review_times</th>\n",
                     "      <th>creator2</th>\n",
                     "    </tr>\n",
                     "  </thead>\n",
                     "  <tbody>\n",
                     "    <tr>\n",
                     "      <th>0</th>\n",
                     "      <td>331812</td>\n",
                     "      <td>2015-05-12 12:31:00</td>\n",
                     "      <td>13</td>\n",
                     "      <td>2015-10-20 06:44:00</td>\n",
                     "      <td>13</td>\n",
                     "      <td>[53, 13]</td>\n",
                     "      <td>[2016-05-03 14:43:00, 2015-05-12 12:32:00]</td>\n",
                     "      <td>adesinaa</td>\n",
                     "    </tr>\n",
                     "    <tr>\n",
                     "      <th>1</th>\n",
                     "      <td>331813</td>\n",
                     "      <td>2015-05-12 12:31:00</td>\n",
                     "      <td>13</td>\n",
                     "      <td>2015-10-20 06:44:00</td>\n",
                     "      <td>13</td>\n",
                     "      <td>[13, 53]</td>\n",
                     "      <td>[2015-05-12 12:32:00, 2016-05-03 14:43:00]</td>\n",
                     "      <td>adesinaa</td>\n",
                     "    </tr>\n",
                     "    <tr>\n",
                     "      <th>2</th>\n",
                     "      <td>331814</td>\n",
                     "      <td>2015-05-12 12:31:00</td>\n",
                     "      <td>13</td>\n",
                     "      <td>2015-10-20 06:44:00</td>\n",
                     "      <td>13</td>\n",
                     "      <td>[13, 53]</td>\n",
                     "      <td>[2015-05-12 12:32:00, 2016-05-03 14:43:00]</td>\n",
                     "      <td>adesinaa</td>\n",
                     "    </tr>\n",
                     "    <tr>\n",
                     "      <th>3</th>\n",
                     "      <td>331815</td>\n",
                     "      <td>2015-05-12 12:31:00</td>\n",
                     "      <td>13</td>\n",
                     "      <td>2015-10-20 06:44:00</td>\n",
                     "      <td>13</td>\n",
                     "      <td>[13, 53]</td>\n",
                     "      <td>[2015-05-12 12:32:00, 2016-05-03 14:43:00]</td>\n",
                     "      <td>adesinaa</td>\n",
                     "    </tr>\n",
                     "    <tr>\n",
                     "      <th>4</th>\n",
                     "      <td>331816</td>\n",
                     "      <td>2015-05-12 12:31:00</td>\n",
                     "      <td>13</td>\n",
                     "      <td>2015-10-20 06:44:00</td>\n",
                     "      <td>13</td>\n",
                     "      <td>[53, 13]</td>\n",
                     "      <td>[2016-05-03 14:43:00, 2015-05-12 12:32:00]</td>\n",
                     "      <td>adesinaa</td>\n",
                     "    </tr>\n",
                     "  </tbody>\n",
                     "</table>\n",
                     "</div>"
                  ],
                  "text/plain": [
                     "  node_id       creation_time creator        edition_time editor reviewers  \\\n",
                     "0  331812 2015-05-12 12:31:00      13 2015-10-20 06:44:00     13  [53, 13]   \n",
                     "1  331813 2015-05-12 12:31:00      13 2015-10-20 06:44:00     13  [13, 53]   \n",
                     "2  331814 2015-05-12 12:31:00      13 2015-10-20 06:44:00     13  [13, 53]   \n",
                     "3  331815 2015-05-12 12:31:00      13 2015-10-20 06:44:00     13  [13, 53]   \n",
                     "4  331816 2015-05-12 12:31:00      13 2015-10-20 06:44:00     13  [53, 13]   \n",
                     "\n",
                     "                                 review_times  creator2  \n",
                     "0  [2016-05-03 14:43:00, 2015-05-12 12:32:00]  adesinaa  \n",
                     "1  [2015-05-12 12:32:00, 2016-05-03 14:43:00]  adesinaa  \n",
                     "2  [2015-05-12 12:32:00, 2016-05-03 14:43:00]  adesinaa  \n",
                     "3  [2015-05-12 12:32:00, 2016-05-03 14:43:00]  adesinaa  \n",
                     "4  [2016-05-03 14:43:00, 2015-05-12 12:32:00]  adesinaa  "
                  ]
               },
               "execution_count": 8,
               "metadata": {},
               "output_type": "execute_result"
            }
         ],
         "source": [
            "user_list = pymaid.get_user_list().set_index('id').login.to_dict()\n",
            "\n",
            "node_details['creator2'] = node_details.creator.map(user_list)\n",
            "connector_details['creator2'] = connector_details.creator.map(user_list)\n",
            "\n",
            "node_details.head()"
         ]
      },
      {
         "cell_type": "raw",
         "metadata": {
            "raw_mimetype": "text/restructuredtext"
         },
         "source": [
            "Group by user and count:"
         ]
      },
      {
         "cell_type": "code",
         "execution_count": 9,
         "metadata": {},
         "outputs": [
            {
               "data": {
                  "text/html": [
                     "<div>\n",
                     "<style scoped>\n",
                     "    .dataframe tbody tr th:only-of-type {\n",
                     "        vertical-align: middle;\n",
                     "    }\n",
                     "\n",
                     "    .dataframe tbody tr th {\n",
                     "        vertical-align: top;\n",
                     "    }\n",
                     "\n",
                     "    .dataframe thead th {\n",
                     "        text-align: right;\n",
                     "    }\n",
                     "</style>\n",
                     "<table border=\"1\" class=\"dataframe\">\n",
                     "  <thead>\n",
                     "    <tr style=\"text-align: right;\">\n",
                     "      <th></th>\n",
                     "      <th>nodes</th>\n",
                     "      <th>connectors</th>\n",
                     "    </tr>\n",
                     "  </thead>\n",
                     "  <tbody>\n",
                     "    <tr>\n",
                     "      <th>robertsr</th>\n",
                     "      <td>5527</td>\n",
                     "      <td>1091</td>\n",
                     "    </tr>\n",
                     "    <tr>\n",
                     "      <th>koppenhaverb</th>\n",
                     "      <td>2847</td>\n",
                     "      <td>0</td>\n",
                     "    </tr>\n",
                     "    <tr>\n",
                     "      <th>ranftp</th>\n",
                     "      <td>2496</td>\n",
                     "      <td>349</td>\n",
                     "    </tr>\n",
                     "    <tr>\n",
                     "      <th>jefferis</th>\n",
                     "      <td>947</td>\n",
                     "      <td>11</td>\n",
                     "    </tr>\n",
                     "    <tr>\n",
                     "      <th>schlegelp</th>\n",
                     "      <td>914</td>\n",
                     "      <td>333</td>\n",
                     "    </tr>\n",
                     "  </tbody>\n",
                     "</table>\n",
                     "</div>"
                  ],
                  "text/plain": [
                     "              nodes  connectors\n",
                     "robertsr       5527        1091\n",
                     "koppenhaverb   2847           0\n",
                     "ranftp         2496         349\n",
                     "jefferis        947          11\n",
                     "schlegelp       914         333"
                  ]
               },
               "execution_count": 9,
               "metadata": {},
               "output_type": "execute_result"
            }
         ],
         "source": [
            "import pandas as pd\n",
            "\n",
            "node_counts = node_details.groupby('creator2').node_id.count()\n",
            "cn_counts = connector_details.groupby('creator2').node_id.count()\n",
            "\n",
            "lh_counts = pd.concat([node_counts, cn_counts], axis=1, sort=True).fillna(0).astype(int)\n",
            "\n",
            "lh_counts.columns=['nodes', 'connectors']\n",
            "\n",
            "lh_counts.sort_values('nodes', ascending=False).head()"
         ]
      },
      {
         "cell_type": "raw",
         "metadata": {
            "raw_mimetype": "text/restructuredtext"
         },
         "source": [
            "Contributions by date\n",
            "---------------------\n",
            "\n",
            "You might find yourself in a situation where your neurons of interested have already been published in the past. In that case, you could consider crediting only reconstructions that have been done since.\n",
            "\n",
            "For this, we need to subset neurons to nodes/connectors that have been created/reviewed/edited after a certain date:"
         ]
      },
      {
         "cell_type": "code",
         "execution_count": 10,
         "metadata": {},
         "outputs": [],
         "source": [
            "import numpy as np\n",
            "\n",
            "after_date = np.datetime64('2017-01-01')\n",
            "\n",
            "# Get node details\n",
            "node_details = pymaid.get_node_details(nl.nodes.treenode_id.values)\n",
            "cn_details = pymaid.get_node_details(nl.connectors.connector_id.values)\n",
            "\n",
            "# Subset to nodes/connectors created after given date\n",
            "new_nodes = node_details[node_details.creation_time >= after_date].node_id.values\n",
            "new_connectors = cn_details[cn_details.creation_time >= after_date].node_id.values\n",
            "\n",
            "# Subset neurons to the new nodes/connectors\n",
            "nl_new = nl.copy()\n",
            "for n in nl_new:\n",
            "    pymaid.subset_neuron(n, new_nodes, inplace=True, remove_disconnected=False)\n",
            "    n.connectors = n.connectors[n.connectors.connector_id.isin(new_connectors)]"
         ]
      },
      {
         "cell_type": "raw",
         "metadata": {
            "raw_mimetype": "text/restructuredtext"
         },
         "source": [
            "Let's visualize this: old neuron in grey, recent additions in red."
         ]
      },
      {
         "cell_type": "code",
         "execution_count": 11,
         "metadata": {},
         "outputs": [
            {
               "data": {
                  "image/png": "[encoded data removed]",
                  "text/plain": [
                     "<Figure size 576x576 with 1 Axes>"
                  ]
               },
               "metadata": {},
               "output_type": "display_data"
            }
         ],
         "source": [
            "fig, ax = pymaid.plot2d(nl, color=(.8,.8,.8), connectors=False)\n",
            "_ = pymaid.plot2d(nl_new, color='r', ax=ax, connectors=False, linewidth=1)\n",
            "\n",
            "plt.show()"
         ]
      },
      {
         "cell_type": "raw",
         "metadata": {
            "raw_mimetype": "text/restructuredtext"
         },
         "source": [
            "Now that we have subset our neurons of interest, we can use :func:`pymaid.get_time_invested` and :func:`pymaid.get_team_contributions` just like we did before:"
         ]
      },
      {
         "cell_type": "code",
         "execution_count": 12,
         "metadata": {},
         "outputs": [
            {
               "data": {
                  "text/html": [
                     "<div>\n",
                     "<style scoped>\n",
                     "    .dataframe tbody tr th:only-of-type {\n",
                     "        vertical-align: middle;\n",
                     "    }\n",
                     "\n",
                     "    .dataframe tbody tr th {\n",
                     "        vertical-align: top;\n",
                     "    }\n",
                     "\n",
                     "    .dataframe thead th {\n",
                     "        text-align: right;\n",
                     "    }\n",
                     "</style>\n",
                     "<table border=\"1\" class=\"dataframe\">\n",
                     "  <thead>\n",
                     "    <tr style=\"text-align: right;\">\n",
                     "      <th></th>\n",
                     "      <th>total</th>\n",
                     "      <th>creation</th>\n",
                     "      <th>edition</th>\n",
                     "      <th>review</th>\n",
                     "    </tr>\n",
                     "    <tr>\n",
                     "      <th>user</th>\n",
                     "      <th></th>\n",
                     "      <th></th>\n",
                     "      <th></th>\n",
                     "      <th></th>\n",
                     "    </tr>\n",
                     "  </thead>\n",
                     "  <tbody>\n",
                     "    <tr>\n",
                     "      <th>robertsr</th>\n",
                     "      <td>168</td>\n",
                     "      <td>81</td>\n",
                     "      <td>51</td>\n",
                     "      <td>9</td>\n",
                     "    </tr>\n",
                     "    <tr>\n",
                     "      <th>schlegelp</th>\n",
                     "      <td>30</td>\n",
                     "      <td>9</td>\n",
                     "      <td>9</td>\n",
                     "      <td>9</td>\n",
                     "    </tr>\n",
                     "    <tr>\n",
                     "      <th>alij</th>\n",
                     "      <td>6</td>\n",
                     "      <td>0</td>\n",
                     "      <td>0</td>\n",
                     "      <td>0</td>\n",
                     "    </tr>\n",
                     "    <tr>\n",
                     "      <th>sharifin</th>\n",
                     "      <td>6</td>\n",
                     "      <td>0</td>\n",
                     "      <td>3</td>\n",
                     "      <td>0</td>\n",
                     "    </tr>\n",
                     "    <tr>\n",
                     "      <th>edmondsona</th>\n",
                     "      <td>6</td>\n",
                     "      <td>3</td>\n",
                     "      <td>3</td>\n",
                     "      <td>0</td>\n",
                     "    </tr>\n",
                     "  </tbody>\n",
                     "</table>\n",
                     "</div>"
                  ],
                  "text/plain": [
                     "            total  creation  edition  review\n",
                     "user                                        \n",
                     "robertsr      168        81       51       9\n",
                     "schlegelp      30         9        9       9\n",
                     "alij            6         0        0       0\n",
                     "sharifin        6         0        3       0\n",
                     "edmondsona      6         3        3       0"
                  ]
               },
               "execution_count": 12,
               "metadata": {},
               "output_type": "execute_result"
            }
         ],
         "source": [
            "time_new = pymaid.get_time_invested(nl_new)\n",
            "time_new.head()"
         ]
      },
      {
         "cell_type": "raw",
         "metadata": {
            "raw_mimetype": "text/restructuredtext"
         },
         "source": [
            "Relevant functions:\n",
            "    \n",
            ".. autosummary::\n",
            "\n",
            "    pymaid.get_contributor_statistics\n",
            "    pymaid.get_user_contributions\n",
            "    pymaid.get_time_invested\n",
            "    pymaid.get_team_contributions"
         ]
      }
   ],
   "metadata": {
      "celltoolbar": "Raw Cell Format",
      "kernelspec": {
         "display_name": "Python 3",
         "language": "python",
         "name": "python3"
      },
      "language_info": {
         "codemirror_mode": {
            "name": "ipython",
            "version": 3
         },
         "file_extension": ".py",
         "mimetype": "text/x-python",
         "name": "python",
         "nbconvert_exporter": "python",
         "pygments_lexer": "ipython3",
         "version": "3.7.5"
      }
   },
   "nbformat": 4,
   "nbformat_minor": 2
}