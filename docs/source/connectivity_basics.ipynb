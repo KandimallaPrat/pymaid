{
   "cells": [
      {
         "cell_type": "raw",
         "metadata": {
            "raw_mimetype": "text/restructuredtext"
         },
         "source": [
            "Basic connectivity analyses\n",
            "+++++++++++++++++++++++++++\n",
            "\n",
            "Getting connectivity information for a set of neurons is pretty straight forward. You can get connectivity tables, edges between neurons, connectors between neurons. Make sure to check out the :ref:`API <api_con>`.\n",
            "\n",
            "In this example, we will focus on fetching and visualising basic connectivity data. Check out the advanced tutorial for e.g. compartmentalizing connectivity."
         ]
      },
      {
         "cell_type": "code",
         "execution_count": 1,
         "metadata": {},
         "outputs": [
            {
               "data": {
                  "text/html": [
                     "        <script type=\"text/javascript\">\n",
                     "        window.PlotlyConfig = {MathJaxConfig: 'local'};\n",
                     "        if (window.MathJax) {MathJax.Hub.Config({SVG: {font: \"STIX-Web\"}});}\n",
                     "        if (typeof require !== 'undefined') {\n",
                     "        require.undef(\"plotly\");\n",
                     "        requirejs.config({\n",
                     "            paths: {\n",
                     "                'plotly': ['https://cdn.plot.ly/plotly-latest.min']\n",
                     "            }\n",
                     "        });\n",
                     "        require(['plotly'], function(Plotly) {\n",
                     "            window._Plotly = Plotly;\n",
                     "        });\n",
                     "        }\n",
                     "        </script>\n",
                     "        "
                  ]
               },
               "metadata": {},
               "output_type": "display_data"
            },
            {
               "name": "stderr",
               "output_type": "stream",
               "text": [
                  "INFO  : Global CATMAID instance set. Caching is ON. (pymaid)\n"
               ]
            }
         ],
         "source": [
            "import pymaid\n",
            "\n",
            "# Initialize connection\n",
            "rm = pymaid.connect_catmaid()"
         ]
      },
      {
         "cell_type": "raw",
         "metadata": {
            "raw_mimetype": "text/restructuredtext"
         },
         "source": [
            "Let's start by fetching a connectivity table for some olfactory projection neurons:"
         ]
      },
      {
         "cell_type": "code",
         "execution_count": 2,
         "metadata": {},
         "outputs": [
            {
               "name": "stderr",
               "output_type": "stream",
               "text": [
                  "INFO  : Fetching connectivity table for 8 neurons (pymaid)\n",
                  "INFO  : Done. Found 134 pre-, 710 postsynaptic and 0 gap junction-connected neurons (pymaid)\n"
               ]
            },
            {
               "data": {
                  "text/html": [
                     "<div>\n",
                     "<style scoped>\n",
                     "    .dataframe tbody tr th:only-of-type {\n",
                     "        vertical-align: middle;\n",
                     "    }\n",
                     "\n",
                     "    .dataframe tbody tr th {\n",
                     "        vertical-align: top;\n",
                     "    }\n",
                     "\n",
                     "    .dataframe thead th {\n",
                     "        text-align: right;\n",
                     "    }\n",
                     "</style>\n",
                     "<table border=\"1\" class=\"dataframe\">\n",
                     "  <thead>\n",
                     "    <tr style=\"text-align: right;\">\n",
                     "      <th></th>\n",
                     "      <th>neuron_name</th>\n",
                     "      <th>skeleton_id</th>\n",
                     "      <th>num_nodes</th>\n",
                     "      <th>relation</th>\n",
                     "      <th>2863104</th>\n",
                     "      <th>57381</th>\n",
                     "      <th>61221</th>\n",
                     "      <th>57353</th>\n",
                     "      <th>57323</th>\n",
                     "      <th>755022</th>\n",
                     "      <th>27295</th>\n",
                     "      <th>57311</th>\n",
                     "      <th>total</th>\n",
                     "    </tr>\n",
                     "  </thead>\n",
                     "  <tbody>\n",
                     "    <tr>\n",
                     "      <th>0</th>\n",
                     "      <td>AV4 [LH.R] 1803749 CH RJVR Vegito - check</td>\n",
                     "      <td>1803748</td>\n",
                     "      <td>6394</td>\n",
                     "      <td>upstream</td>\n",
                     "      <td>10</td>\n",
                     "      <td>3</td>\n",
                     "      <td>8</td>\n",
                     "      <td>4</td>\n",
                     "      <td>21</td>\n",
                     "      <td>17</td>\n",
                     "      <td>7</td>\n",
                     "      <td>8</td>\n",
                     "      <td>78.0</td>\n",
                     "    </tr>\n",
                     "    <tr>\n",
                     "      <th>1</th>\n",
                     "      <td>LHAV4a4#2 1853424 Accursed RJVR - check FML</td>\n",
                     "      <td>1853423</td>\n",
                     "      <td>10266</td>\n",
                     "      <td>upstream</td>\n",
                     "      <td>7</td>\n",
                     "      <td>6</td>\n",
                     "      <td>6</td>\n",
                     "      <td>4</td>\n",
                     "      <td>12</td>\n",
                     "      <td>18</td>\n",
                     "      <td>6</td>\n",
                     "      <td>8</td>\n",
                     "      <td>67.0</td>\n",
                     "    </tr>\n",
                     "    <tr>\n",
                     "      <th>2</th>\n",
                     "      <td>AV4 [LH.R] 1095415 ARH RJVR Static</td>\n",
                     "      <td>1095414</td>\n",
                     "      <td>3983</td>\n",
                     "      <td>upstream</td>\n",
                     "      <td>5</td>\n",
                     "      <td>2</td>\n",
                     "      <td>9</td>\n",
                     "      <td>1</td>\n",
                     "      <td>9</td>\n",
                     "      <td>16</td>\n",
                     "      <td>12</td>\n",
                     "      <td>9</td>\n",
                     "      <td>63.0</td>\n",
                     "    </tr>\n",
                     "    <tr>\n",
                     "      <th>3</th>\n",
                     "      <td>LHAV4a4#1 1911125 FML PS RJVR</td>\n",
                     "      <td>1911124</td>\n",
                     "      <td>6969</td>\n",
                     "      <td>upstream</td>\n",
                     "      <td>8</td>\n",
                     "      <td>0</td>\n",
                     "      <td>4</td>\n",
                     "      <td>2</td>\n",
                     "      <td>4</td>\n",
                     "      <td>4</td>\n",
                     "      <td>7</td>\n",
                     "      <td>3</td>\n",
                     "      <td>32.0</td>\n",
                     "    </tr>\n",
                     "    <tr>\n",
                     "      <th>4</th>\n",
                     "      <td>APL 203841 MR JSL</td>\n",
                     "      <td>203840</td>\n",
                     "      <td>144725</td>\n",
                     "      <td>upstream</td>\n",
                     "      <td>4</td>\n",
                     "      <td>0</td>\n",
                     "      <td>6</td>\n",
                     "      <td>2</td>\n",
                     "      <td>2</td>\n",
                     "      <td>3</td>\n",
                     "      <td>2</td>\n",
                     "      <td>4</td>\n",
                     "      <td>23.0</td>\n",
                     "    </tr>\n",
                     "  </tbody>\n",
                     "</table>\n",
                     "</div>"
                  ],
                  "text/plain": [
                     "                                   neuron_name skeleton_id num_nodes  \\\n",
                     "0    AV4 [LH.R] 1803749 CH RJVR Vegito - check     1803748      6394   \n",
                     "1  LHAV4a4#2 1853424 Accursed RJVR - check FML     1853423     10266   \n",
                     "2           AV4 [LH.R] 1095415 ARH RJVR Static     1095414      3983   \n",
                     "3                LHAV4a4#1 1911125 FML PS RJVR     1911124      6969   \n",
                     "4                            APL 203841 MR JSL      203840    144725   \n",
                     "\n",
                     "   relation 2863104 57381 61221 57353 57323 755022 27295 57311  total  \n",
                     "0  upstream      10     3     8     4    21     17     7     8   78.0  \n",
                     "1  upstream       7     6     6     4    12     18     6     8   67.0  \n",
                     "2  upstream       5     2     9     1     9     16    12     9   63.0  \n",
                     "3  upstream       8     0     4     2     4      4     7     3   32.0  \n",
                     "4  upstream       4     0     6     2     2      3     2     4   23.0  "
                  ]
               },
               "execution_count": 2,
               "metadata": {},
               "output_type": "execute_result"
            }
         ],
         "source": [
            "pns = pymaid.get_skids_by_annotation('glomerulus DA1 right excitatory')\n",
            "\n",
            "cn_table = pymaid.get_partners(pns)\n",
            "cn_table.head()"
         ]
      },
      {
         "cell_type": "raw",
         "metadata": {
            "raw_mimetype": "text/restructuredtext"
         },
         "source": [
            "This table is similar to the connectivity table in CATMAID: each number-column (e.g. ``755022``) represents connections from/to the neuron with that skeleton ID.\n",
            "\n",
            "Since this is a pandas DataFrame, we can work pandas magic to subset it:"
         ]
      },
      {
         "cell_type": "code",
         "execution_count": 3,
         "metadata": {},
         "outputs": [],
         "source": [
            "downstream_only = cn_table[cn_table.relation == 'downstream']\n",
            "\n",
            "strong_only = cn_table[cn_table.total >= 10]\n",
            "\n",
            "large_only = cn_table[cn_table.num_nodes >= 2000]\n",
            "\n",
            "connected_to_all = cn_table[cn_table[['755022', '2863104', '27295', '61221', '57353', '57323', '57381', '57311']].min(axis=1) != 0]"
         ]
      },
      {
         "cell_type": "raw",
         "metadata": {
            "raw_mimetype": "text/restructuredtext"
         },
         "source": [
            "Make sure to also check out :func:`pymaid.get_partners` documenation too.\n",
            "\n",
            "Quick visualizations\n",
            "====================\n",
            "\n",
            "As example for a quick visualization, we will use the excellent library `seaborn <http://seaborn.pydata.org/>`_ to plot a heatmap of an adjacency matrix.\n",
            "\n",
            "First, get the adjacency matrix between our projection neurons and their strong downstream partners:"
         ]
      },
      {
         "cell_type": "code",
         "execution_count": 4,
         "metadata": {},
         "outputs": [
            {
               "data": {
                  "text/html": [
                     "<div>\n",
                     "<style scoped>\n",
                     "    .dataframe tbody tr th:only-of-type {\n",
                     "        vertical-align: middle;\n",
                     "    }\n",
                     "\n",
                     "    .dataframe tbody tr th {\n",
                     "        vertical-align: top;\n",
                     "    }\n",
                     "\n",
                     "    .dataframe thead th {\n",
                     "        text-align: right;\n",
                     "    }\n",
                     "</style>\n",
                     "<table border=\"1\" class=\"dataframe\">\n",
                     "  <thead>\n",
                     "    <tr style=\"text-align: right;\">\n",
                     "      <th>targets</th>\n",
                     "      <th>1811442</th>\n",
                     "      <th>1911124</th>\n",
                     "      <th>1870230</th>\n",
                     "      <th>1803748</th>\n",
                     "      <th>488055</th>\n",
                     "      <th>1853423</th>\n",
                     "      <th>6762450</th>\n",
                     "      <th>1812558</th>\n",
                     "      <th>1095414</th>\n",
                     "      <th>1796364</th>\n",
                     "      <th>...</th>\n",
                     "      <th>1812057</th>\n",
                     "      <th>9719560</th>\n",
                     "      <th>60445</th>\n",
                     "      <th>1415926</th>\n",
                     "      <th>9271871</th>\n",
                     "      <th>424553</th>\n",
                     "      <th>3828811</th>\n",
                     "      <th>10331589</th>\n",
                     "      <th>4205169</th>\n",
                     "      <th>55153</th>\n",
                     "    </tr>\n",
                     "    <tr>\n",
                     "      <th>sources</th>\n",
                     "      <th></th>\n",
                     "      <th></th>\n",
                     "      <th></th>\n",
                     "      <th></th>\n",
                     "      <th></th>\n",
                     "      <th></th>\n",
                     "      <th></th>\n",
                     "      <th></th>\n",
                     "      <th></th>\n",
                     "      <th></th>\n",
                     "      <th></th>\n",
                     "      <th></th>\n",
                     "      <th></th>\n",
                     "      <th></th>\n",
                     "      <th></th>\n",
                     "      <th></th>\n",
                     "      <th></th>\n",
                     "      <th></th>\n",
                     "      <th></th>\n",
                     "      <th></th>\n",
                     "      <th></th>\n",
                     "    </tr>\n",
                     "  </thead>\n",
                     "  <tbody>\n",
                     "    <tr>\n",
                     "      <th>2863104</th>\n",
                     "      <td>30.0</td>\n",
                     "      <td>23.0</td>\n",
                     "      <td>5.0</td>\n",
                     "      <td>15.0</td>\n",
                     "      <td>15.0</td>\n",
                     "      <td>12.0</td>\n",
                     "      <td>18.0</td>\n",
                     "      <td>6.0</td>\n",
                     "      <td>8.0</td>\n",
                     "      <td>0.0</td>\n",
                     "      <td>...</td>\n",
                     "      <td>1.0</td>\n",
                     "      <td>0.0</td>\n",
                     "      <td>2.0</td>\n",
                     "      <td>0.0</td>\n",
                     "      <td>0.0</td>\n",
                     "      <td>0.0</td>\n",
                     "      <td>0.0</td>\n",
                     "      <td>0.0</td>\n",
                     "      <td>10.0</td>\n",
                     "      <td>10.0</td>\n",
                     "    </tr>\n",
                     "    <tr>\n",
                     "      <th>57381</th>\n",
                     "      <td>4.0</td>\n",
                     "      <td>9.0</td>\n",
                     "      <td>28.0</td>\n",
                     "      <td>7.0</td>\n",
                     "      <td>0.0</td>\n",
                     "      <td>3.0</td>\n",
                     "      <td>0.0</td>\n",
                     "      <td>3.0</td>\n",
                     "      <td>1.0</td>\n",
                     "      <td>36.0</td>\n",
                     "      <td>...</td>\n",
                     "      <td>1.0</td>\n",
                     "      <td>0.0</td>\n",
                     "      <td>1.0</td>\n",
                     "      <td>0.0</td>\n",
                     "      <td>0.0</td>\n",
                     "      <td>0.0</td>\n",
                     "      <td>0.0</td>\n",
                     "      <td>10.0</td>\n",
                     "      <td>0.0</td>\n",
                     "      <td>0.0</td>\n",
                     "    </tr>\n",
                     "    <tr>\n",
                     "      <th>61221</th>\n",
                     "      <td>26.0</td>\n",
                     "      <td>13.0</td>\n",
                     "      <td>7.0</td>\n",
                     "      <td>13.0</td>\n",
                     "      <td>15.0</td>\n",
                     "      <td>15.0</td>\n",
                     "      <td>4.0</td>\n",
                     "      <td>4.0</td>\n",
                     "      <td>16.0</td>\n",
                     "      <td>0.0</td>\n",
                     "      <td>...</td>\n",
                     "      <td>1.0</td>\n",
                     "      <td>0.0</td>\n",
                     "      <td>1.0</td>\n",
                     "      <td>1.0</td>\n",
                     "      <td>0.0</td>\n",
                     "      <td>0.0</td>\n",
                     "      <td>0.0</td>\n",
                     "      <td>0.0</td>\n",
                     "      <td>0.0</td>\n",
                     "      <td>0.0</td>\n",
                     "    </tr>\n",
                     "    <tr>\n",
                     "      <th>57353</th>\n",
                     "      <td>3.0</td>\n",
                     "      <td>6.0</td>\n",
                     "      <td>23.0</td>\n",
                     "      <td>3.0</td>\n",
                     "      <td>3.0</td>\n",
                     "      <td>5.0</td>\n",
                     "      <td>4.0</td>\n",
                     "      <td>5.0</td>\n",
                     "      <td>5.0</td>\n",
                     "      <td>0.0</td>\n",
                     "      <td>...</td>\n",
                     "      <td>0.0</td>\n",
                     "      <td>0.0</td>\n",
                     "      <td>5.0</td>\n",
                     "      <td>0.0</td>\n",
                     "      <td>10.0</td>\n",
                     "      <td>10.0</td>\n",
                     "      <td>10.0</td>\n",
                     "      <td>0.0</td>\n",
                     "      <td>0.0</td>\n",
                     "      <td>0.0</td>\n",
                     "    </tr>\n",
                     "    <tr>\n",
                     "      <th>57323</th>\n",
                     "      <td>20.0</td>\n",
                     "      <td>15.0</td>\n",
                     "      <td>7.0</td>\n",
                     "      <td>22.0</td>\n",
                     "      <td>11.0</td>\n",
                     "      <td>19.0</td>\n",
                     "      <td>15.0</td>\n",
                     "      <td>18.0</td>\n",
                     "      <td>9.0</td>\n",
                     "      <td>26.0</td>\n",
                     "      <td>...</td>\n",
                     "      <td>3.0</td>\n",
                     "      <td>0.0</td>\n",
                     "      <td>0.0</td>\n",
                     "      <td>2.0</td>\n",
                     "      <td>0.0</td>\n",
                     "      <td>0.0</td>\n",
                     "      <td>0.0</td>\n",
                     "      <td>0.0</td>\n",
                     "      <td>0.0</td>\n",
                     "      <td>0.0</td>\n",
                     "    </tr>\n",
                     "  </tbody>\n",
                     "</table>\n",
                     "<p>5 rows \u00d7 176 columns</p>\n",
                     "</div>"
                  ],
                  "text/plain": [
                     "targets  1811442   1911124   1870230   1803748   488055    1853423   6762450   \\\n",
                     "sources                                                                         \n",
                     "2863104      30.0      23.0       5.0      15.0      15.0      12.0      18.0   \n",
                     "57381         4.0       9.0      28.0       7.0       0.0       3.0       0.0   \n",
                     "61221        26.0      13.0       7.0      13.0      15.0      15.0       4.0   \n",
                     "57353         3.0       6.0      23.0       3.0       3.0       5.0       4.0   \n",
                     "57323        20.0      15.0       7.0      22.0      11.0      19.0      15.0   \n",
                     "\n",
                     "targets  1812558   1095414   1796364   ...  1812057   9719560   60445     \\\n",
                     "sources                                ...                                 \n",
                     "2863104       6.0       8.0       0.0  ...       1.0       0.0       2.0   \n",
                     "57381         3.0       1.0      36.0  ...       1.0       0.0       1.0   \n",
                     "61221         4.0      16.0       0.0  ...       1.0       0.0       1.0   \n",
                     "57353         5.0       5.0       0.0  ...       0.0       0.0       5.0   \n",
                     "57323        18.0       9.0      26.0  ...       3.0       0.0       0.0   \n",
                     "\n",
                     "targets  1415926   9271871   424553    3828811   10331589  4205169   55153     \n",
                     "sources                                                                        \n",
                     "2863104       0.0       0.0       0.0       0.0       0.0      10.0      10.0  \n",
                     "57381         0.0       0.0       0.0       0.0      10.0       0.0       0.0  \n",
                     "61221         1.0       0.0       0.0       0.0       0.0       0.0       0.0  \n",
                     "57353         0.0      10.0      10.0      10.0       0.0       0.0       0.0  \n",
                     "57323         2.0       0.0       0.0       0.0       0.0       0.0       0.0  \n",
                     "\n",
                     "[5 rows x 176 columns]"
                  ]
               },
               "execution_count": 4,
               "metadata": {},
               "output_type": "execute_result"
            }
         ],
         "source": [
            "adj_mat = pymaid.adjacency_matrix(pns, downstream_only[downstream_only.total >= 10])\n",
            "adj_mat.head()"
         ]
      },
      {
         "cell_type": "raw",
         "metadata": {
            "raw_mimetype": "text/restructuredtext"
         },
         "source": [
            "Now we will use seaborn's `clustermap <https://seaborn.pydata.org/generated/seaborn.clustermap.html>`_ to visualize this adjacency matrix:"
         ]
      },
      {
         "cell_type": "code",
         "execution_count": 5,
         "metadata": {},
         "outputs": [
            {
               "data": {
                  "image/png": "[encoded data removed]",
                  "text/plain": [
                     "<Figure size 720x720 with 4 Axes>"
                  ]
               },
               "metadata": {},
               "output_type": "display_data"
            }
         ],
         "source": [
            "import seaborn as sns\n",
            "import matplotlib.pyplot as plt\n",
            "\n",
            "cm = sns.clustermap(adj_mat,\n",
            "                    cmap='Greys')\n",
            "\n",
            "plt.show()"
         ]
      },
      {
         "cell_type": "raw",
         "metadata": {
            "raw_mimetype": "text/restructuredtext"
         },
         "source": [
            "Network analyses\n",
            "================\n",
            "``pymaid`` and ``navis`` come with a few tools to analyse connectivity, like :func:`navis:navis.cluster_by_connectivity` or :func:`pymaid.predict_connectivity`. If you are looking to run some proper network analyses, there is no need to reinvent the wheel though: `networkX <https://networkx.github.io/>`_ will most likely do the trick."
         ]
      },
      {
         "cell_type": "code",
         "execution_count": 6,
         "metadata": {},
         "outputs": [
            {
               "name": "stdout",
               "output_type": "stream",
               "text": [
                  "Node centrality for some of the nodes in the network: 0.9617486338797814 0.9617486338797814 0.9617486338797814\n"
               ]
            }
         ],
         "source": [
            "import networkx as nx\n",
            "import navis\n",
            "\n",
            "# Turn the adjacency matrix into a networkX Graph\n",
            "g = navis.network2nx(adj_mat)\n",
            "\n",
            "# As example: get the degree centrality for each node\n",
            "dc = nx.degree_centrality(g)\n",
            "print('Node centrality for some of the nodes in the network:', dc[755022], dc[2863104], dc[27295])"
         ]
      },
      {
         "cell_type": "raw",
         "metadata": {
            "raw_mimetype": "text/restructuredtext"
         },
         "source": [
            "Have a look at the available `algorithms <https://networkx.github.io/documentation/stable/reference/algorithms/index.html>`_ in networkX.\n",
            "\n",
            "Exporting connectivity\n",
            "======================\n",
            "\n",
            "There are several excellent tools out there to visualize and analyze connectivity graphs outside of the Python ecosystem. Here, we will demonstrate how to export connectivity to formats that you can import somewhere else."
         ]
      },
      {
         "cell_type": "raw",
         "metadata": {
            "raw_mimetype": "text/restructuredtext"
         },
         "source": [
            "We can use ``g``, the networkX Graph we created above, to export the graph to all kinds of different `formats <https://networkx.github.io/documentation/stable/reference/readwrite/index.html>`_. \n",
            "\n",
            "For demonstration, let's export to the GraphML format which is widely used."
         ]
      },
      {
         "cell_type": "code",
         "execution_count": 7,
         "metadata": {},
         "outputs": [],
         "source": [
            "nx.write_graphml(g, 'graph.graphml')"
         ]
      }
   ],
   "metadata": {
      "celltoolbar": "Raw Cell Format",
      "kernelspec": {
         "display_name": "Python 3",
         "language": "python",
         "name": "python3"
      },
      "language_info": {
         "codemirror_mode": {
            "name": "ipython",
            "version": 3
         },
         "file_extension": ".py",
         "mimetype": "text/x-python",
         "name": "python",
         "nbconvert_exporter": "python",
         "pygments_lexer": "ipython3",
         "version": "3.7.5"
      }
   },
   "nbformat": 4,
   "nbformat_minor": 2
}