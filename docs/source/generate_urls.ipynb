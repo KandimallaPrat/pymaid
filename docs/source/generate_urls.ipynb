{
   "metadata": {
      "language_info": {
         "mimetype": "text/x-python",
         "file_extension": ".py",
         "name": "python",
         "version": "3.5.3",
         "nbconvert_exporter": "python",
         "pygments_lexer": "ipython3",
         "codemirror_mode": {
            "version": 3,
            "name": "ipython"
         }
      },
      "kernelspec": {
         "language": "python",
         "display_name": "Python 3",
         "name": "python3"
      },
      "celltoolbar": "Raw Cell Format"
   },
   "cells": [
      {
         "metadata": {
            "raw_mimetype": "text/restructuredtext"
         },
         "cell_type": "raw",
         "source": [
            "Generating CATMAID URLs\n",
            "-----------------------\n",
            "\n",
            "This example will demonstrate how to use pymaid to generate URLs to a set of connectors. You can use this, for example, to perform random sampling of up- or downstream partners."
         ]
      },
      {
         "outputs": [],
         "execution_count": 1,
         "metadata": {},
         "cell_type": "code",
         "source": [
            "import pandas as pd\n",
            "import pymaid\n",
            "\n",
            "rm = pymaid.CatmaidInstancepymaid.CatmaidInstance('server_url', 'api_token', 'http_user', 'http_password')"
         ]
      },
      {
         "metadata": {
            "raw_mimetype": "text/restructuredtext"
         },
         "cell_type": "raw",
         "source": [
            "First get your neuron of interest:"
         ]
      },
      {
         "outputs": [],
         "execution_count": 2,
         "metadata": {},
         "cell_type": "code",
         "source": [
            "n = pymaid.get_neuron(16)"
         ]
      },
      {
         "metadata": {
            "raw_mimetype": "text/restructuredtext"
         },
         "cell_type": "raw",
         "source": [
            "A simple example: Downstream sampling by connectors\n",
            "==================================================="
         ]
      },
      {
         "outputs": [
            {
               "data": {
                  "text/plain": [
                     "   treenode_id  connector_id  relation       x       y       z  \\\n",
                     "0       127234        999188         0  438817  164242  217440   \n",
                     "1         2591         97954         0  437120  160998  211920   \n",
                     "2         2665         98300         0  437184  162324  214880   \n",
                     "3         2646         98373         0  437042  162452  214120   \n",
                     "4         2654         98415         0  436761  163690  214440   \n",
                     "\n",
                     "                                                 URL  \n",
                     "0  https://neuropil.janelia.org/tracing/fafb/v14/...  \n",
                     "1  https://neuropil.janelia.org/tracing/fafb/v14/...  \n",
                     "2  https://neuropil.janelia.org/tracing/fafb/v14/...  \n",
                     "3  https://neuropil.janelia.org/tracing/fafb/v14/...  \n",
                     "4  https://neuropil.janelia.org/tracing/fafb/v14/...  "
                  ],
                  "text/html": [
                     "<div>\n",
                     "<style scoped>\n",
                     "    .dataframe tbody tr th:only-of-type {\n",
                     "        vertical-align: middle;\n",
                     "    }\n",
                     "\n",
                     "    .dataframe tbody tr th {\n",
                     "        vertical-align: top;\n",
                     "    }\n",
                     "\n",
                     "    .dataframe thead th {\n",
                     "        text-align: right;\n",
                     "    }\n",
                     "</style>\n",
                     "<table border=\"1\" class=\"dataframe\">\n",
                     "  <thead>\n",
                     "    <tr style=\"text-align: right;\">\n",
                     "      <th></th>\n",
                     "      <th>treenode_id</th>\n",
                     "      <th>connector_id</th>\n",
                     "      <th>relation</th>\n",
                     "      <th>x</th>\n",
                     "      <th>y</th>\n",
                     "      <th>z</th>\n",
                     "      <th>URL</th>\n",
                     "    </tr>\n",
                     "  </thead>\n",
                     "  <tbody>\n",
                     "    <tr>\n",
                     "      <th>0</th>\n",
                     "      <td>127234</td>\n",
                     "      <td>999188</td>\n",
                     "      <td>0</td>\n",
                     "      <td>438817</td>\n",
                     "      <td>164242</td>\n",
                     "      <td>217440</td>\n",
                     "      <td>https://neuropil.janelia.org/tracing/fafb/v14/...</td>\n",
                     "    </tr>\n",
                     "    <tr>\n",
                     "      <th>1</th>\n",
                     "      <td>2591</td>\n",
                     "      <td>97954</td>\n",
                     "      <td>0</td>\n",
                     "      <td>437120</td>\n",
                     "      <td>160998</td>\n",
                     "      <td>211920</td>\n",
                     "      <td>https://neuropil.janelia.org/tracing/fafb/v14/...</td>\n",
                     "    </tr>\n",
                     "    <tr>\n",
                     "      <th>2</th>\n",
                     "      <td>2665</td>\n",
                     "      <td>98300</td>\n",
                     "      <td>0</td>\n",
                     "      <td>437184</td>\n",
                     "      <td>162324</td>\n",
                     "      <td>214880</td>\n",
                     "      <td>https://neuropil.janelia.org/tracing/fafb/v14/...</td>\n",
                     "    </tr>\n",
                     "    <tr>\n",
                     "      <th>3</th>\n",
                     "      <td>2646</td>\n",
                     "      <td>98373</td>\n",
                     "      <td>0</td>\n",
                     "      <td>437042</td>\n",
                     "      <td>162452</td>\n",
                     "      <td>214120</td>\n",
                     "      <td>https://neuropil.janelia.org/tracing/fafb/v14/...</td>\n",
                     "    </tr>\n",
                     "    <tr>\n",
                     "      <th>4</th>\n",
                     "      <td>2654</td>\n",
                     "      <td>98415</td>\n",
                     "      <td>0</td>\n",
                     "      <td>436761</td>\n",
                     "      <td>163690</td>\n",
                     "      <td>214440</td>\n",
                     "      <td>https://neuropil.janelia.org/tracing/fafb/v14/...</td>\n",
                     "    </tr>\n",
                     "  </tbody>\n",
                     "</table>\n",
                     "</div>"
                  ]
               },
               "execution_count": 3,
               "output_type": "execute_result",
               "metadata": {}
            }
         ],
         "execution_count": 3,
         "metadata": {},
         "cell_type": "code",
         "source": [
            "# Get all connectors\n",
            "cn = n.connectors\n",
            "\n",
            "# Add a column with the URL to coordinates\n",
            "cn['URL'] = pymaid.url_to_coordinates(cn, \n",
            "                                      stack_id = 5,\n",
            "                                      active_node_id = cn.connector_id.values)\n",
            "cn.head()"
         ]
      },
      {
         "metadata": {
            "raw_mimetype": "text/restructuredtext"
         },
         "cell_type": "raw",
         "source": [
            "In above example we are using ``stack_id = 5``. This is the ID of your image mirror and is encoded in the URL as ``sid0=5``. Depending on what your fastest mirror is, you might want to change this. \n",
            "\n",
            "Now you can export this DataFrame. Two quick examples.\n",
            "\n",
            "To CSV:"
         ]
      },
      {
         "outputs": [],
         "execution_count": 4,
         "metadata": {},
         "cell_type": "code",
         "source": [
            "cn.to_csv('filename.csv')"
         ]
      },
      {
         "metadata": {
            "raw_mimetype": "text/restructuredtext"
         },
         "cell_type": "raw",
         "source": [
            "To clipboard:"
         ]
      },
      {
         "outputs": [],
         "execution_count": 5,
         "metadata": {},
         "cell_type": "code",
         "source": [
            "cn.to_clipboard()"
         ]
      },
      {
         "metadata": {
            "raw_mimetype": "text/restructuredtext"
         },
         "cell_type": "raw",
         "source": [
            "Randomizing\n",
            "===========\n",
            "Randomizing the order e.g. for random sampling of downstream partners is straight forward:\n",
            "\n",
            "Subset to presynapses:"
         ]
      },
      {
         "outputs": [],
         "execution_count": 6,
         "metadata": {},
         "cell_type": "code",
         "source": [
            "pre = cn[cn.relation == 0]"
         ]
      },
      {
         "metadata": {
            "raw_mimetype": "text/restructuredtext"
         },
         "cell_type": "raw",
         "source": [
            "Randomize order:"
         ]
      },
      {
         "outputs": [
            {
               "data": {
                  "text/plain": [
                     "      treenode_id  connector_id  relation       x       y       z  \\\n",
                     "868      10350265      10350269         0  358255  151135  167240   \n",
                     "1423     10366582      10366581         0  336551  159297  177360   \n",
                     "785      10345534      10345533         0  375162  146617  170760   \n",
                     "597      10337834      10337835         0  385421  134986  173200   \n",
                     "1591     10370697      10370695         0  341188  153709  169440   \n",
                     "\n",
                     "                                                    URL  \n",
                     "868   https://neuropil.janelia.org/tracing/fafb/v14/...  \n",
                     "1423  https://neuropil.janelia.org/tracing/fafb/v14/...  \n",
                     "785   https://neuropil.janelia.org/tracing/fafb/v14/...  \n",
                     "597   https://neuropil.janelia.org/tracing/fafb/v14/...  \n",
                     "1591  https://neuropil.janelia.org/tracing/fafb/v14/...  "
                  ],
                  "text/html": [
                     "<div>\n",
                     "<style scoped>\n",
                     "    .dataframe tbody tr th:only-of-type {\n",
                     "        vertical-align: middle;\n",
                     "    }\n",
                     "\n",
                     "    .dataframe tbody tr th {\n",
                     "        vertical-align: top;\n",
                     "    }\n",
                     "\n",
                     "    .dataframe thead th {\n",
                     "        text-align: right;\n",
                     "    }\n",
                     "</style>\n",
                     "<table border=\"1\" class=\"dataframe\">\n",
                     "  <thead>\n",
                     "    <tr style=\"text-align: right;\">\n",
                     "      <th></th>\n",
                     "      <th>treenode_id</th>\n",
                     "      <th>connector_id</th>\n",
                     "      <th>relation</th>\n",
                     "      <th>x</th>\n",
                     "      <th>y</th>\n",
                     "      <th>z</th>\n",
                     "      <th>URL</th>\n",
                     "    </tr>\n",
                     "  </thead>\n",
                     "  <tbody>\n",
                     "    <tr>\n",
                     "      <th>868</th>\n",
                     "      <td>10350265</td>\n",
                     "      <td>10350269</td>\n",
                     "      <td>0</td>\n",
                     "      <td>358255</td>\n",
                     "      <td>151135</td>\n",
                     "      <td>167240</td>\n",
                     "      <td>https://neuropil.janelia.org/tracing/fafb/v14/...</td>\n",
                     "    </tr>\n",
                     "    <tr>\n",
                     "      <th>1423</th>\n",
                     "      <td>10366582</td>\n",
                     "      <td>10366581</td>\n",
                     "      <td>0</td>\n",
                     "      <td>336551</td>\n",
                     "      <td>159297</td>\n",
                     "      <td>177360</td>\n",
                     "      <td>https://neuropil.janelia.org/tracing/fafb/v14/...</td>\n",
                     "    </tr>\n",
                     "    <tr>\n",
                     "      <th>785</th>\n",
                     "      <td>10345534</td>\n",
                     "      <td>10345533</td>\n",
                     "      <td>0</td>\n",
                     "      <td>375162</td>\n",
                     "      <td>146617</td>\n",
                     "      <td>170760</td>\n",
                     "      <td>https://neuropil.janelia.org/tracing/fafb/v14/...</td>\n",
                     "    </tr>\n",
                     "    <tr>\n",
                     "      <th>597</th>\n",
                     "      <td>10337834</td>\n",
                     "      <td>10337835</td>\n",
                     "      <td>0</td>\n",
                     "      <td>385421</td>\n",
                     "      <td>134986</td>\n",
                     "      <td>173200</td>\n",
                     "      <td>https://neuropil.janelia.org/tracing/fafb/v14/...</td>\n",
                     "    </tr>\n",
                     "    <tr>\n",
                     "      <th>1591</th>\n",
                     "      <td>10370697</td>\n",
                     "      <td>10370695</td>\n",
                     "      <td>0</td>\n",
                     "      <td>341188</td>\n",
                     "      <td>153709</td>\n",
                     "      <td>169440</td>\n",
                     "      <td>https://neuropil.janelia.org/tracing/fafb/v14/...</td>\n",
                     "    </tr>\n",
                     "  </tbody>\n",
                     "</table>\n",
                     "</div>"
                  ]
               },
               "execution_count": 7,
               "output_type": "execute_result",
               "metadata": {}
            }
         ],
         "execution_count": 7,
         "metadata": {},
         "cell_type": "code",
         "source": [
            "ran = pre.sample(frac=1)\n",
            "ran.head()"
         ]
      },
      {
         "metadata": {
            "raw_mimetype": "text/restructuredtext"
         },
         "cell_type": "raw",
         "source": [
            "A more complex example: sampling inputs by treenode\n",
            "===================================================\n",
            "\n",
            "First we have to get the presynaptic treenode IDs:"
         ]
      },
      {
         "outputs": [
            {
               "text": [
                  "INFO  : Data for 412 of 412 unique connector IDs retrieved (pymaid)\n"
               ],
               "output_type": "stream",
               "name": "stderr"
            },
            {
               "data": {
                  "text/plain": [
                     "  connector_id presynaptic_to  \\\n",
                     "0       474311         203840   \n",
                     "1       573905          54753   \n",
                     "2      1335332          55153   \n",
                     "3      1482374         203840   \n",
                     "4      1510194         288558   \n",
                     "\n",
                     "                                     postsynaptic_to presynaptic_to_node  \\\n",
                     "0                       [7911576, 8638, 16, 6483677]              474312   \n",
                     "1  [7634, 279469, 30358, 17238, 16, 597080, 39182...              573904   \n",
                     "2                                      [8408275, 16]             1326548   \n",
                     "3  [10379190, 9052688, 279469, 597085, 597100, 59...             1277055   \n",
                     "4                                       [16, 203840]             1510193   \n",
                     "\n",
                     "                                postsynaptic_to_node  \n",
                     "0                [2736161, 474295, 124991, 21109788]  \n",
                     "1  [573902, 1482460, 1670909, 2875768, 127266, 28...  \n",
                     "2                                 [27245140, 125650]  \n",
                     "3  [2875773, 30223253, 1482362, 2875771, 2875774,...  \n",
                     "4                                  [124597, 1510195]  "
                  ],
                  "text/html": [
                     "<div>\n",
                     "<style scoped>\n",
                     "    .dataframe tbody tr th:only-of-type {\n",
                     "        vertical-align: middle;\n",
                     "    }\n",
                     "\n",
                     "    .dataframe tbody tr th {\n",
                     "        vertical-align: top;\n",
                     "    }\n",
                     "\n",
                     "    .dataframe thead th {\n",
                     "        text-align: right;\n",
                     "    }\n",
                     "</style>\n",
                     "<table border=\"1\" class=\"dataframe\">\n",
                     "  <thead>\n",
                     "    <tr style=\"text-align: right;\">\n",
                     "      <th></th>\n",
                     "      <th>connector_id</th>\n",
                     "      <th>presynaptic_to</th>\n",
                     "      <th>postsynaptic_to</th>\n",
                     "      <th>presynaptic_to_node</th>\n",
                     "      <th>postsynaptic_to_node</th>\n",
                     "    </tr>\n",
                     "  </thead>\n",
                     "  <tbody>\n",
                     "    <tr>\n",
                     "      <th>0</th>\n",
                     "      <td>474311</td>\n",
                     "      <td>203840</td>\n",
                     "      <td>[7911576, 8638, 16, 6483677]</td>\n",
                     "      <td>474312</td>\n",
                     "      <td>[2736161, 474295, 124991, 21109788]</td>\n",
                     "    </tr>\n",
                     "    <tr>\n",
                     "      <th>1</th>\n",
                     "      <td>573905</td>\n",
                     "      <td>54753</td>\n",
                     "      <td>[7634, 279469, 30358, 17238, 16, 597080, 39182...</td>\n",
                     "      <td>573904</td>\n",
                     "      <td>[573902, 1482460, 1670909, 2875768, 127266, 28...</td>\n",
                     "    </tr>\n",
                     "    <tr>\n",
                     "      <th>2</th>\n",
                     "      <td>1335332</td>\n",
                     "      <td>55153</td>\n",
                     "      <td>[8408275, 16]</td>\n",
                     "      <td>1326548</td>\n",
                     "      <td>[27245140, 125650]</td>\n",
                     "    </tr>\n",
                     "    <tr>\n",
                     "      <th>3</th>\n",
                     "      <td>1482374</td>\n",
                     "      <td>203840</td>\n",
                     "      <td>[10379190, 9052688, 279469, 597085, 597100, 59...</td>\n",
                     "      <td>1277055</td>\n",
                     "      <td>[2875773, 30223253, 1482362, 2875771, 2875774,...</td>\n",
                     "    </tr>\n",
                     "    <tr>\n",
                     "      <th>4</th>\n",
                     "      <td>1510194</td>\n",
                     "      <td>288558</td>\n",
                     "      <td>[16, 203840]</td>\n",
                     "      <td>1510193</td>\n",
                     "      <td>[124597, 1510195]</td>\n",
                     "    </tr>\n",
                     "  </tbody>\n",
                     "</table>\n",
                     "</div>"
                  ]
               },
               "execution_count": 8,
               "output_type": "execute_result",
               "metadata": {}
            }
         ],
         "execution_count": 8,
         "metadata": {},
         "cell_type": "code",
         "source": [
            "post_details = pymaid.get_connector_details(n.postsynapses)\n",
            "post_details.head()"
         ]
      },
      {
         "metadata": {
            "raw_mimetype": "text/restructuredtext"
         },
         "cell_type": "raw",
         "source": [
            "If you have connectors without a presynaptic treenode, you will have to fix that and rerun above code before moving on!"
         ]
      },
      {
         "outputs": [
            {
               "data": {
                  "text/plain": [
                     "    connector_id presynaptic_to postsynaptic_to presynaptic_to_node  \\\n",
                     "401     20041670           None   [4954519, 16]                None   \n",
                     "\n",
                     "     postsynaptic_to_node  \n",
                     "401  [20041667, 18719343]  "
                  ],
                  "text/html": [
                     "<div>\n",
                     "<style scoped>\n",
                     "    .dataframe tbody tr th:only-of-type {\n",
                     "        vertical-align: middle;\n",
                     "    }\n",
                     "\n",
                     "    .dataframe tbody tr th {\n",
                     "        vertical-align: top;\n",
                     "    }\n",
                     "\n",
                     "    .dataframe thead th {\n",
                     "        text-align: right;\n",
                     "    }\n",
                     "</style>\n",
                     "<table border=\"1\" class=\"dataframe\">\n",
                     "  <thead>\n",
                     "    <tr style=\"text-align: right;\">\n",
                     "      <th></th>\n",
                     "      <th>connector_id</th>\n",
                     "      <th>presynaptic_to</th>\n",
                     "      <th>postsynaptic_to</th>\n",
                     "      <th>presynaptic_to_node</th>\n",
                     "      <th>postsynaptic_to_node</th>\n",
                     "    </tr>\n",
                     "  </thead>\n",
                     "  <tbody>\n",
                     "    <tr>\n",
                     "      <th>401</th>\n",
                     "      <td>20041670</td>\n",
                     "      <td>None</td>\n",
                     "      <td>[4954519, 16]</td>\n",
                     "      <td>None</td>\n",
                     "      <td>[20041667, 18719343]</td>\n",
                     "    </tr>\n",
                     "  </tbody>\n",
                     "</table>\n",
                     "</div>"
                  ]
               },
               "execution_count": 9,
               "output_type": "execute_result",
               "metadata": {}
            }
         ],
         "execution_count": 9,
         "metadata": {},
         "cell_type": "code",
         "source": [
            "post_details[post_details.presynaptic_to_node.isnull()]"
         ]
      },
      {
         "metadata": {
            "raw_mimetype": "text/restructuredtext"
         },
         "cell_type": "raw",
         "source": [
            "Next we need to get the coordinates for those treenodes."
         ]
      },
      {
         "outputs": [
            {
               "data": {
                  "text/plain": [
                     "    node_id         x         y         z\n",
                     "0  10362880  367320.0  152292.0  177760.0\n",
                     "1  18804742  466093.0  234873.0   38560.0\n",
                     "2  18802702  466727.0  233599.0   33640.0\n",
                     "3  10342419  381419.0  140309.0  180280.0\n",
                     "4  10315798  345150.0  159327.0  186640.0"
                  ],
                  "text/html": [
                     "<div>\n",
                     "<style scoped>\n",
                     "    .dataframe tbody tr th:only-of-type {\n",
                     "        vertical-align: middle;\n",
                     "    }\n",
                     "\n",
                     "    .dataframe tbody tr th {\n",
                     "        vertical-align: top;\n",
                     "    }\n",
                     "\n",
                     "    .dataframe thead th {\n",
                     "        text-align: right;\n",
                     "    }\n",
                     "</style>\n",
                     "<table border=\"1\" class=\"dataframe\">\n",
                     "  <thead>\n",
                     "    <tr style=\"text-align: right;\">\n",
                     "      <th></th>\n",
                     "      <th>node_id</th>\n",
                     "      <th>x</th>\n",
                     "      <th>y</th>\n",
                     "      <th>z</th>\n",
                     "    </tr>\n",
                     "  </thead>\n",
                     "  <tbody>\n",
                     "    <tr>\n",
                     "      <th>0</th>\n",
                     "      <td>10362880</td>\n",
                     "      <td>367320.0</td>\n",
                     "      <td>152292.0</td>\n",
                     "      <td>177760.0</td>\n",
                     "    </tr>\n",
                     "    <tr>\n",
                     "      <th>1</th>\n",
                     "      <td>18804742</td>\n",
                     "      <td>466093.0</td>\n",
                     "      <td>234873.0</td>\n",
                     "      <td>38560.0</td>\n",
                     "    </tr>\n",
                     "    <tr>\n",
                     "      <th>2</th>\n",
                     "      <td>18802702</td>\n",
                     "      <td>466727.0</td>\n",
                     "      <td>233599.0</td>\n",
                     "      <td>33640.0</td>\n",
                     "    </tr>\n",
                     "    <tr>\n",
                     "      <th>3</th>\n",
                     "      <td>10342419</td>\n",
                     "      <td>381419.0</td>\n",
                     "      <td>140309.0</td>\n",
                     "      <td>180280.0</td>\n",
                     "    </tr>\n",
                     "    <tr>\n",
                     "      <th>4</th>\n",
                     "      <td>10315798</td>\n",
                     "      <td>345150.0</td>\n",
                     "      <td>159327.0</td>\n",
                     "      <td>186640.0</td>\n",
                     "    </tr>\n",
                     "  </tbody>\n",
                     "</table>\n",
                     "</div>"
                  ]
               },
               "execution_count": 10,
               "output_type": "execute_result",
               "metadata": {}
            }
         ],
         "execution_count": 10,
         "metadata": {},
         "cell_type": "code",
         "source": [
            "# Now get the locations\n",
            "locs = pymaid.get_node_location(post_details.presynaptic_to_node.values)\n",
            "locs.head()"
         ]
      },
      {
         "metadata": {
            "raw_mimetype": "text/restructuredtext"
         },
         "cell_type": "raw",
         "source": [
            "Now we have to merge the locations into the connector Dataframe"
         ]
      },
      {
         "outputs": [
            {
               "data": {
                  "text/plain": [
                     "        connector_id presynaptic_to  \\\n",
                     "437124       7265239         202541   \n",
                     "437172       7265176         202541   \n",
                     "474312        474311         203840   \n",
                     "573904        573905          54753   \n",
                     "1275576      2873212         203840   \n",
                     "\n",
                     "                                           postsynaptic_to  \\\n",
                     "437124                                [8680461, 16, 13782]   \n",
                     "437172                         [30571, 40637, 16, 4205169]   \n",
                     "474312                        [7911576, 8638, 16, 6483677]   \n",
                     "573904   [7634, 279469, 30358, 17238, 16, 597080, 39182...   \n",
                     "1275576                                       [595239, 16]   \n",
                     "\n",
                     "                                      postsynaptic_to_node         x  \\\n",
                     "437124                          [28458449, 1786, 22231380]  438062.0   \n",
                     "437172                    [6428950, 447292, 1819, 7265200]  437010.0   \n",
                     "474312                 [2736161, 474295, 124991, 21109788]  421574.0   \n",
                     "573904   [573902, 1482460, 1670909, 2875768, 127266, 28...  434460.0   \n",
                     "1275576                                  [2873213, 127687]  436480.0   \n",
                     "\n",
                     "                y         z  \n",
                     "437124   140370.0  203160.0  \n",
                     "437172   141171.0  204400.0  \n",
                     "474312   127771.0  194720.0  \n",
                     "573904   165646.0  216160.0  \n",
                     "1275576  147325.0  221360.0  "
                  ],
                  "text/html": [
                     "<div>\n",
                     "<style scoped>\n",
                     "    .dataframe tbody tr th:only-of-type {\n",
                     "        vertical-align: middle;\n",
                     "    }\n",
                     "\n",
                     "    .dataframe tbody tr th {\n",
                     "        vertical-align: top;\n",
                     "    }\n",
                     "\n",
                     "    .dataframe thead th {\n",
                     "        text-align: right;\n",
                     "    }\n",
                     "</style>\n",
                     "<table border=\"1\" class=\"dataframe\">\n",
                     "  <thead>\n",
                     "    <tr style=\"text-align: right;\">\n",
                     "      <th></th>\n",
                     "      <th>connector_id</th>\n",
                     "      <th>presynaptic_to</th>\n",
                     "      <th>postsynaptic_to</th>\n",
                     "      <th>postsynaptic_to_node</th>\n",
                     "      <th>x</th>\n",
                     "      <th>y</th>\n",
                     "      <th>z</th>\n",
                     "    </tr>\n",
                     "  </thead>\n",
                     "  <tbody>\n",
                     "    <tr>\n",
                     "      <th>437124</th>\n",
                     "      <td>7265239</td>\n",
                     "      <td>202541</td>\n",
                     "      <td>[8680461, 16, 13782]</td>\n",
                     "      <td>[28458449, 1786, 22231380]</td>\n",
                     "      <td>438062.0</td>\n",
                     "      <td>140370.0</td>\n",
                     "      <td>203160.0</td>\n",
                     "    </tr>\n",
                     "    <tr>\n",
                     "      <th>437172</th>\n",
                     "      <td>7265176</td>\n",
                     "      <td>202541</td>\n",
                     "      <td>[30571, 40637, 16, 4205169]</td>\n",
                     "      <td>[6428950, 447292, 1819, 7265200]</td>\n",
                     "      <td>437010.0</td>\n",
                     "      <td>141171.0</td>\n",
                     "      <td>204400.0</td>\n",
                     "    </tr>\n",
                     "    <tr>\n",
                     "      <th>474312</th>\n",
                     "      <td>474311</td>\n",
                     "      <td>203840</td>\n",
                     "      <td>[7911576, 8638, 16, 6483677]</td>\n",
                     "      <td>[2736161, 474295, 124991, 21109788]</td>\n",
                     "      <td>421574.0</td>\n",
                     "      <td>127771.0</td>\n",
                     "      <td>194720.0</td>\n",
                     "    </tr>\n",
                     "    <tr>\n",
                     "      <th>573904</th>\n",
                     "      <td>573905</td>\n",
                     "      <td>54753</td>\n",
                     "      <td>[7634, 279469, 30358, 17238, 16, 597080, 39182...</td>\n",
                     "      <td>[573902, 1482460, 1670909, 2875768, 127266, 28...</td>\n",
                     "      <td>434460.0</td>\n",
                     "      <td>165646.0</td>\n",
                     "      <td>216160.0</td>\n",
                     "    </tr>\n",
                     "    <tr>\n",
                     "      <th>1275576</th>\n",
                     "      <td>2873212</td>\n",
                     "      <td>203840</td>\n",
                     "      <td>[595239, 16]</td>\n",
                     "      <td>[2873213, 127687]</td>\n",
                     "      <td>436480.0</td>\n",
                     "      <td>147325.0</td>\n",
                     "      <td>221360.0</td>\n",
                     "    </tr>\n",
                     "  </tbody>\n",
                     "</table>\n",
                     "</div>"
                  ]
               },
               "execution_count": 11,
               "output_type": "execute_result",
               "metadata": {}
            }
         ],
         "execution_count": 11,
         "metadata": {},
         "cell_type": "code",
         "source": [
            "cn_merged = pd.merge(post_details.set_index('presynaptic_to_node'),\n",
            "                     locs.set_index('node_id'),\n",
            "                     left_index=True, right_index=True)\n",
            "cn_merged.head()"
         ]
      },
      {
         "metadata": {
            "raw_mimetype": "text/restructuredtext"
         },
         "cell_type": "raw",
         "source": [
            "Let's add the url to the presynaptic node and some additional info: the name of the presynaptic neuron and whether it already has a soma"
         ]
      },
      {
         "outputs": [
            {
               "data": {
                  "text/plain": [
                     "        connector_id presynaptic_to  \\\n",
                     "437124       7265239         202541   \n",
                     "437172       7265176         202541   \n",
                     "474312        474311         203840   \n",
                     "573904        573905          54753   \n",
                     "1275576      2873212         203840   \n",
                     "\n",
                     "                                           postsynaptic_to  \\\n",
                     "437124                                [8680461, 16, 13782]   \n",
                     "437172                         [30571, 40637, 16, 4205169]   \n",
                     "474312                        [7911576, 8638, 16, 6483677]   \n",
                     "573904   [7634, 279469, 30358, 17238, 16, 597080, 39182...   \n",
                     "1275576                                       [595239, 16]   \n",
                     "\n",
                     "                                      postsynaptic_to_node         x  \\\n",
                     "437124                          [28458449, 1786, 22231380]  438062.0   \n",
                     "437172                    [6428950, 447292, 1819, 7265200]  437010.0   \n",
                     "474312                 [2736161, 474295, 124991, 21109788]  421574.0   \n",
                     "573904   [573902, 1482460, 1670909, 2875768, 127266, 28...  434460.0   \n",
                     "1275576                                  [2873213, 127687]  436480.0   \n",
                     "\n",
                     "                y         z  \\\n",
                     "437124   140370.0  203160.0   \n",
                     "437172   141171.0  204400.0   \n",
                     "474312   127771.0  194720.0   \n",
                     "573904   165646.0  216160.0   \n",
                     "1275576  147325.0  221360.0   \n",
                     "\n",
                     "                                                       url  \\\n",
                     "437124   https://neuropil.janelia.org/tracing/fafb/v14/...   \n",
                     "437172   https://neuropil.janelia.org/tracing/fafb/v14/...   \n",
                     "474312   https://neuropil.janelia.org/tracing/fafb/v14/...   \n",
                     "573904   https://neuropil.janelia.org/tracing/fafb/v14/...   \n",
                     "1275576  https://neuropil.janelia.org/tracing/fafb/v14/...   \n",
                     "\n",
                     "                             neuron_name  has_soma  \n",
                     "437124   putative Gad1-F-600202 40613 AJ      True  \n",
                     "437172   putative Gad1-F-600202 40613 AJ      True  \n",
                     "474312                 APL 203841 MR JSL      True  \n",
                     "573904                      neuron 54754     False  \n",
                     "1275576                APL 203841 MR JSL      True  "
                  ],
                  "text/html": [
                     "<div>\n",
                     "<style scoped>\n",
                     "    .dataframe tbody tr th:only-of-type {\n",
                     "        vertical-align: middle;\n",
                     "    }\n",
                     "\n",
                     "    .dataframe tbody tr th {\n",
                     "        vertical-align: top;\n",
                     "    }\n",
                     "\n",
                     "    .dataframe thead th {\n",
                     "        text-align: right;\n",
                     "    }\n",
                     "</style>\n",
                     "<table border=\"1\" class=\"dataframe\">\n",
                     "  <thead>\n",
                     "    <tr style=\"text-align: right;\">\n",
                     "      <th></th>\n",
                     "      <th>connector_id</th>\n",
                     "      <th>presynaptic_to</th>\n",
                     "      <th>postsynaptic_to</th>\n",
                     "      <th>postsynaptic_to_node</th>\n",
                     "      <th>x</th>\n",
                     "      <th>y</th>\n",
                     "      <th>z</th>\n",
                     "      <th>url</th>\n",
                     "      <th>neuron_name</th>\n",
                     "      <th>has_soma</th>\n",
                     "    </tr>\n",
                     "  </thead>\n",
                     "  <tbody>\n",
                     "    <tr>\n",
                     "      <th>437124</th>\n",
                     "      <td>7265239</td>\n",
                     "      <td>202541</td>\n",
                     "      <td>[8680461, 16, 13782]</td>\n",
                     "      <td>[28458449, 1786, 22231380]</td>\n",
                     "      <td>438062.0</td>\n",
                     "      <td>140370.0</td>\n",
                     "      <td>203160.0</td>\n",
                     "      <td>https://neuropil.janelia.org/tracing/fafb/v14/...</td>\n",
                     "      <td>putative Gad1-F-600202 40613 AJ</td>\n",
                     "      <td>True</td>\n",
                     "    </tr>\n",
                     "    <tr>\n",
                     "      <th>437172</th>\n",
                     "      <td>7265176</td>\n",
                     "      <td>202541</td>\n",
                     "      <td>[30571, 40637, 16, 4205169]</td>\n",
                     "      <td>[6428950, 447292, 1819, 7265200]</td>\n",
                     "      <td>437010.0</td>\n",
                     "      <td>141171.0</td>\n",
                     "      <td>204400.0</td>\n",
                     "      <td>https://neuropil.janelia.org/tracing/fafb/v14/...</td>\n",
                     "      <td>putative Gad1-F-600202 40613 AJ</td>\n",
                     "      <td>True</td>\n",
                     "    </tr>\n",
                     "    <tr>\n",
                     "      <th>474312</th>\n",
                     "      <td>474311</td>\n",
                     "      <td>203840</td>\n",
                     "      <td>[7911576, 8638, 16, 6483677]</td>\n",
                     "      <td>[2736161, 474295, 124991, 21109788]</td>\n",
                     "      <td>421574.0</td>\n",
                     "      <td>127771.0</td>\n",
                     "      <td>194720.0</td>\n",
                     "      <td>https://neuropil.janelia.org/tracing/fafb/v14/...</td>\n",
                     "      <td>APL 203841 MR JSL</td>\n",
                     "      <td>True</td>\n",
                     "    </tr>\n",
                     "    <tr>\n",
                     "      <th>573904</th>\n",
                     "      <td>573905</td>\n",
                     "      <td>54753</td>\n",
                     "      <td>[7634, 279469, 30358, 17238, 16, 597080, 39182...</td>\n",
                     "      <td>[573902, 1482460, 1670909, 2875768, 127266, 28...</td>\n",
                     "      <td>434460.0</td>\n",
                     "      <td>165646.0</td>\n",
                     "      <td>216160.0</td>\n",
                     "      <td>https://neuropil.janelia.org/tracing/fafb/v14/...</td>\n",
                     "      <td>neuron 54754</td>\n",
                     "      <td>False</td>\n",
                     "    </tr>\n",
                     "    <tr>\n",
                     "      <th>1275576</th>\n",
                     "      <td>2873212</td>\n",
                     "      <td>203840</td>\n",
                     "      <td>[595239, 16]</td>\n",
                     "      <td>[2873213, 127687]</td>\n",
                     "      <td>436480.0</td>\n",
                     "      <td>147325.0</td>\n",
                     "      <td>221360.0</td>\n",
                     "      <td>https://neuropil.janelia.org/tracing/fafb/v14/...</td>\n",
                     "      <td>APL 203841 MR JSL</td>\n",
                     "      <td>True</td>\n",
                     "    </tr>\n",
                     "  </tbody>\n",
                     "</table>\n",
                     "</div>"
                  ]
               },
               "execution_count": 12,
               "output_type": "execute_result",
               "metadata": {}
            }
         ],
         "execution_count": 12,
         "metadata": {},
         "cell_type": "code",
         "source": [
            "cn_merged['url'] = pymaid.url_to_coordinates(cn_merged, stack_id=5)\n",
            "cn_merged['neuron_name'] = cn_merged.presynaptic_to.astype(str).map(pymaid.get_names(cn_merged.presynaptic_to.values))\n",
            "cn_merged['has_soma'] = cn_merged.presynaptic_to.map(pymaid.has_soma(cn_merged.presynaptic_to.values))\n",
            "\n",
            "cn_merged.head()"
         ]
      },
      {
         "metadata": {
            "raw_mimetype": "text/restructuredtext"
         },
         "cell_type": "raw",
         "source": [
            "OK, nice. Let's rearrange and get rid of superfluous columns:"
         ]
      },
      {
         "outputs": [
            {
               "data": {
                  "text/plain": [
                     "        presynaptic_to                      neuron_name  has_soma  \\\n",
                     "437124          202541  putative Gad1-F-600202 40613 AJ      True   \n",
                     "437172          202541  putative Gad1-F-600202 40613 AJ      True   \n",
                     "474312          203840                APL 203841 MR JSL      True   \n",
                     "573904           54753                     neuron 54754     False   \n",
                     "1275576         203840                APL 203841 MR JSL      True   \n",
                     "\n",
                     "        connector_id         x         y         z  \\\n",
                     "437124       7265239  438062.0  140370.0  203160.0   \n",
                     "437172       7265176  437010.0  141171.0  204400.0   \n",
                     "474312        474311  421574.0  127771.0  194720.0   \n",
                     "573904        573905  434460.0  165646.0  216160.0   \n",
                     "1275576      2873212  436480.0  147325.0  221360.0   \n",
                     "\n",
                     "                                                       url  \n",
                     "437124   https://neuropil.janelia.org/tracing/fafb/v14/...  \n",
                     "437172   https://neuropil.janelia.org/tracing/fafb/v14/...  \n",
                     "474312   https://neuropil.janelia.org/tracing/fafb/v14/...  \n",
                     "573904   https://neuropil.janelia.org/tracing/fafb/v14/...  \n",
                     "1275576  https://neuropil.janelia.org/tracing/fafb/v14/...  "
                  ],
                  "text/html": [
                     "<div>\n",
                     "<style scoped>\n",
                     "    .dataframe tbody tr th:only-of-type {\n",
                     "        vertical-align: middle;\n",
                     "    }\n",
                     "\n",
                     "    .dataframe tbody tr th {\n",
                     "        vertical-align: top;\n",
                     "    }\n",
                     "\n",
                     "    .dataframe thead th {\n",
                     "        text-align: right;\n",
                     "    }\n",
                     "</style>\n",
                     "<table border=\"1\" class=\"dataframe\">\n",
                     "  <thead>\n",
                     "    <tr style=\"text-align: right;\">\n",
                     "      <th></th>\n",
                     "      <th>presynaptic_to</th>\n",
                     "      <th>neuron_name</th>\n",
                     "      <th>has_soma</th>\n",
                     "      <th>connector_id</th>\n",
                     "      <th>x</th>\n",
                     "      <th>y</th>\n",
                     "      <th>z</th>\n",
                     "      <th>url</th>\n",
                     "    </tr>\n",
                     "  </thead>\n",
                     "  <tbody>\n",
                     "    <tr>\n",
                     "      <th>437124</th>\n",
                     "      <td>202541</td>\n",
                     "      <td>putative Gad1-F-600202 40613 AJ</td>\n",
                     "      <td>True</td>\n",
                     "      <td>7265239</td>\n",
                     "      <td>438062.0</td>\n",
                     "      <td>140370.0</td>\n",
                     "      <td>203160.0</td>\n",
                     "      <td>https://neuropil.janelia.org/tracing/fafb/v14/...</td>\n",
                     "    </tr>\n",
                     "    <tr>\n",
                     "      <th>437172</th>\n",
                     "      <td>202541</td>\n",
                     "      <td>putative Gad1-F-600202 40613 AJ</td>\n",
                     "      <td>True</td>\n",
                     "      <td>7265176</td>\n",
                     "      <td>437010.0</td>\n",
                     "      <td>141171.0</td>\n",
                     "      <td>204400.0</td>\n",
                     "      <td>https://neuropil.janelia.org/tracing/fafb/v14/...</td>\n",
                     "    </tr>\n",
                     "    <tr>\n",
                     "      <th>474312</th>\n",
                     "      <td>203840</td>\n",
                     "      <td>APL 203841 MR JSL</td>\n",
                     "      <td>True</td>\n",
                     "      <td>474311</td>\n",
                     "      <td>421574.0</td>\n",
                     "      <td>127771.0</td>\n",
                     "      <td>194720.0</td>\n",
                     "      <td>https://neuropil.janelia.org/tracing/fafb/v14/...</td>\n",
                     "    </tr>\n",
                     "    <tr>\n",
                     "      <th>573904</th>\n",
                     "      <td>54753</td>\n",
                     "      <td>neuron 54754</td>\n",
                     "      <td>False</td>\n",
                     "      <td>573905</td>\n",
                     "      <td>434460.0</td>\n",
                     "      <td>165646.0</td>\n",
                     "      <td>216160.0</td>\n",
                     "      <td>https://neuropil.janelia.org/tracing/fafb/v14/...</td>\n",
                     "    </tr>\n",
                     "    <tr>\n",
                     "      <th>1275576</th>\n",
                     "      <td>203840</td>\n",
                     "      <td>APL 203841 MR JSL</td>\n",
                     "      <td>True</td>\n",
                     "      <td>2873212</td>\n",
                     "      <td>436480.0</td>\n",
                     "      <td>147325.0</td>\n",
                     "      <td>221360.0</td>\n",
                     "      <td>https://neuropil.janelia.org/tracing/fafb/v14/...</td>\n",
                     "    </tr>\n",
                     "  </tbody>\n",
                     "</table>\n",
                     "</div>"
                  ]
               },
               "execution_count": 13,
               "output_type": "execute_result",
               "metadata": {}
            }
         ],
         "execution_count": 13,
         "metadata": {},
         "cell_type": "code",
         "source": [
            "cn_merged = cn_merged[['presynaptic_to', 'neuron_name', 'has_soma', 'connector_id', 'x', 'y', 'z', 'url']]\n",
            "cn_merged.head()"
         ]
      },
      {
         "metadata": {
            "raw_mimetype": "text/restructuredtext"
         },
         "cell_type": "raw",
         "source": [
            "Now you can randomize this table and start sampling:"
         ]
      },
      {
         "outputs": [],
         "execution_count": 14,
         "metadata": {},
         "cell_type": "code",
         "source": [
            "cn_merged.sample(frac=1).to_clipboard()"
         ]
      },
      {
         "metadata": {
            "raw_mimetype": "text/restructuredtext"
         },
         "cell_type": "raw",
         "source": [
            "These are the relevant functions:\n",
            "\n",
            ".. autosummary::\n",
            "    \n",
            "    pymaid.url_to_coordinates\n",
            "    pymaid.get_node_location"
         ]
      }
   ],
   "nbformat_minor": 2,
   "nbformat": 4
}
