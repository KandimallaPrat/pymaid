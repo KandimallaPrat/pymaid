{
   "metadata": {
      "language_info": {
         "mimetype": "text/x-python",
         "file_extension": ".py",
         "name": "python",
         "version": "3.5.3",
         "nbconvert_exporter": "python",
         "pygments_lexer": "ipython3",
         "codemirror_mode": {
            "version": 3,
            "name": "ipython"
         }
      },
      "celltoolbar": "Raw Cell Format",
      "kernelspec": {
         "language": "python",
         "display_name": "Python 3",
         "name": "python3"
      },
      "anaconda-cloud": {}
   },
   "cells": [
      {
         "metadata": {
            "raw_mimetype": "text/restructuredtext"
         },
         "cell_type": "raw",
         "source": [
            ".. _cytoscape_intro:\n",
            "\n",
            "Importing Networks into Cytoscape\n",
            "---------------------------------\n",
            "\n",
            "Setting up\n",
            "==========\n",
            "\n",
            "In this notebook we will explore how to use Cytoscape's cyREST API to programmatically import, layout and style networks from CATMAID into Cytoscape.\n",
            "\n",
            "What you need:\n",
            "\n",
            "1. `Cytoscape <http://www.cytoscape.org>`_ (> 3.5.0) with activated cyREST API (I think this is the default).\n",
            "   In OSX: make sure to allow Cytoscape to make connections via http if prompted!\n",
            "2. `py2cytoscape <https://github.com/cytoscape/py2cytoscape>`_::\n",
            "\n",
            "      pip3 install py2cytoscape\n",
            "\n",
            "Further reading:\n",
            "\n",
            "- some Jupyter notebook examples: https://github.com/cytoscape/cytoscape-automation/tree/master/for-scripters/Python\n",
            "- this one was especially useful: https://github.com/cytoscape/cytoscape-automation/blob/master/for-scripters/Python/basic-fundamentals.ipynb"
         ]
      },
      {
         "outputs": [
            {
               "text": [
                  "INFO  : Global CATMAID instance set. (pymaid)\n"
               ],
               "output_type": "stream",
               "name": "stderr"
            },
            {
               "text": [
                  "pymaid version: 0.89\n"
               ],
               "output_type": "stream",
               "name": "stdout"
            }
         ],
         "execution_count": 1,
         "metadata": {},
         "cell_type": "code",
         "source": [
            "from py2cytoscape.data.cyrest_client import CyRestClient\n",
            "\n",
            "from IPython.display import Image\n",
            "\n",
            "import networkx as nx\n",
            "import pandas as pd\n",
            "\n",
            "import pymaid\n",
            "\n",
            "rm = pymaid.CatmaidInstance('server_url', 'api_token', 'http_user', 'http_password')\n",
            "\n",
            "print('pymaid version:', pymaid.__version__)"
         ]
      },
      {
         "metadata": {
            "raw_mimetype": "text/restructuredtext"
         },
         "cell_type": "raw",
         "source": [
            ".. danger::\n",
            "    Make sure that Cytoscape is running before you proceed!\n",
            "    \n",
            "The hard way\n",
            "============\n",
            "The cyREST API lets you automate pretty much everything you can do by hand using the Cytoscape GUI. In order to illustrate the basic principles, we will demonstrate how to import a network from CATMAID *the hard way*. If you don't care about that, feel free to skip ahead and have a look at how pymaid facilitates basic imports."
         ]
      },
      {
         "outputs": [],
         "execution_count": 2,
         "metadata": {},
         "cell_type": "code",
         "source": [
            "# Fire up the cytoscape interface - this will throw an error if no connection is found (e.g. if Cytoscape is not running)\n",
            "cy = CyRestClient()\n",
            "\n",
            "# Clear running session (= delete existing networks and views)\n",
            "cy.session.delete()"
         ]
      },
      {
         "metadata": {
            "raw_mimetype": "text/restructuredtext"
         },
         "cell_type": "raw",
         "source": [
            "First, we will generate a network as NetworkX graph (see :func:`pymaid.network2nx` for more options). For illustration, we will use the connectivity between PD2a and MBON-a2sc published by `Dolan et al. (2017) <https://www.biorxiv.org/content/early/2017/08/29/167312>`_."
         ]
      },
      {
         "outputs": [
            {
               "text": [
                  "INFO  : Found 2 skeletons with matching annotation(s) (pymaid)\n",
                  "INFO  : Found 7 skeletons with matching annotation(s) (pymaid)\n",
                  "INFO  : Retrieving and filtering connectivity... (pymaid)\n",
                  "INFO  : Finished! (pymaid)\n"
               ],
               "output_type": "stream",
               "name": "stderr"
            }
         ],
         "execution_count": 3,
         "metadata": {},
         "cell_type": "code",
         "source": [
            "adj = pymaid.adjacency_matrix('annotation:MBON a2sc', 'annotation:PD2a1/b1')\n",
            "g = pymaid.network2nx(adj)"
         ]
      },
      {
         "metadata": {
            "raw_mimetype": "text/restructuredtext"
         },
         "cell_type": "raw",
         "source": [
            "If you want, you can now manipulate the Graph before uploading: e.g. deleted edges, add metadata"
         ]
      },
      {
         "outputs": [
            {
               "text": [
                  "Example node: {'neuron_name': 346114}\n",
                  "Example edge: {'weight': 18.0}\n"
               ],
               "output_type": "stream",
               "name": "stdout"
            }
         ],
         "execution_count": 4,
         "metadata": {},
         "cell_type": "code",
         "source": [
            "# By default, nodes use their skeleton ID as unique identifier and have their neuron name attached as custom attribute\n",
            "print('Example node:', g.node['346114'] )\n",
            "\n",
            "# Edges only have a 'weight' attribute\n",
            "print('Example edge:', g.edges['346114', '2205218'])"
         ]
      },
      {
         "metadata": {
            "raw_mimetype": "text/restructuredtext"
         },
         "cell_type": "raw",
         "source": [
            "For now, let's just go with what we have. Just keep in mind that all metadata will be imported into Cytoscape and can be used to style the graph.\n",
            "\n",
            "To understand what's happening, I recommend running below commands one-by-one while watching the cytoscape window."
         ]
      },
      {
         "outputs": [],
         "execution_count": 5,
         "metadata": {},
         "cell_type": "code",
         "source": [
            "# This generates the network in Cytoscape\n",
            "n = cy.network.create_from_networkx(g)"
         ]
      },
      {
         "outputs": [
            {
               "data": {
                  "text/plain": [
                     "<IPython.core.display.Image object>"
                  ],
                  "image/png": "[encoded data removed]"
               },
               "execution_count": 6,
               "output_type": "execute_result",
               "metadata": {}
            }
         ],
         "execution_count": 6,
         "metadata": {},
         "cell_type": "code",
         "source": [
            "# We can get an image from the current layout and show in this notebook:\n",
            "Image(n.get_png(height=400))"
         ]
      },
      {
         "metadata": {
            "raw_mimetype": "text/restructuredtext"
         },
         "cell_type": "raw",
         "source": [
            "Because we haven't applied any layout yet, all neurons sit on top of each other. Let's fix that:"
         ]
      },
      {
         "outputs": [
            {
               "data": {
                  "text/plain": [
                     "['attribute-circle',\n",
                     " 'stacked-node-layout',\n",
                     " 'degree-circle',\n",
                     " 'circular',\n",
                     " 'attributes-layout',\n",
                     " 'kamada-kawai',\n",
                     " 'force-directed',\n",
                     " 'cose',\n",
                     " 'grid',\n",
                     " 'hierarchical',\n",
                     " 'fruchterman-rheingold',\n",
                     " 'isom',\n",
                     " 'force-directed-cl']"
                  ]
               },
               "execution_count": 7,
               "output_type": "execute_result",
               "metadata": {}
            }
         ],
         "execution_count": 7,
         "metadata": {},
         "cell_type": "code",
         "source": [
            "# Get a list of available layouts:\n",
            "cy.layout.get_all()"
         ]
      },
      {
         "outputs": [
            {
               "data": {
                  "text/plain": [
                     "<IPython.core.display.Image object>"
                  ],
                  "image/png": "[encoded data removed]"
               },
               "execution_count": 8,
               "output_type": "execute_result",
               "metadata": {}
            }
         ],
         "execution_count": 8,
         "metadata": {},
         "cell_type": "code",
         "source": [
            "# Apply a layout\n",
            "cy.layout.apply(name='circular', network=n)\n",
            "\n",
            "# Plot again\n",
            "Image(n.get_png(height=400))"
         ]
      },
      {
         "metadata": {
            "raw_mimetype": "text/restructuredtext"
         },
         "cell_type": "raw",
         "source": [
            "Next, let's generate a custom style and apply it to our network."
         ]
      },
      {
         "outputs": [],
         "execution_count": 9,
         "metadata": {},
         "cell_type": "code",
         "source": [
            "# This will either retrieve the style \"my_style\" or generate one if it doesn't already exists\n",
            "#  You can get a list of available styles using cy.style.get_all()\n",
            "s = cy.style.create('my_style')"
         ]
      },
      {
         "outputs": [
            {
               "data": {
                  "text/plain": [
                     "COMPOUND_NODE_PADDING                                   Padding (Compound Node)\n",
                     "COMPOUND_NODE_SHAPE                                       Shape (Compound Node)\n",
                     "DING_RENDERING_ENGINE_ROOT            Ding Rndering Engine Root Visual Property\n",
                     "EDGE                                                       Edge Visual Property\n",
                     "EDGE_BEND                                                             Edge Bend\n",
                     "EDGE_CURVED                                                         Edge Curved\n",
                     "EDGE_LABEL                                                           Edge Label\n",
                     "EDGE_LABEL_COLOR                                               Edge Label Color\n",
                     "EDGE_LABEL_FONT_FACE                                       Edge Label Font Face\n",
                     "EDGE_LABEL_FONT_SIZE                                       Edge Label Font Size\n",
                     "EDGE_LABEL_TRANSPARENCY                                 Edge Label Transparency\n",
                     "EDGE_LABEL_WIDTH                                               Edge Label Width\n",
                     "EDGE_LINE_TYPE                                                   Edge Line Type\n",
                     "EDGE_PAINT                                                           Edge Paint\n",
                     "EDGE_SELECTED                                                     Edge Selected\n",
                     "EDGE_SELECTED_PAINT                                       Edge Color (Selected)\n",
                     "EDGE_SOURCE_ARROW_SELECTED_PAINT               Edge Source Arrow Selected Paint\n",
                     "EDGE_SOURCE_ARROW_SHAPE                                 Edge Source Arrow Shape\n",
                     "EDGE_SOURCE_ARROW_UNSELECTED_PAINT           Edge Source Arrow Unselected Paint\n",
                     "EDGE_STROKE_SELECTED_PAINT                         Edge Stroke Color (Selected)\n",
                     "EDGE_STROKE_UNSELECTED_PAINT                     Edge Stroke Color (Unselected)\n",
                     "EDGE_TARGET_ARROW_SELECTED_PAINT               Edge Target Arrow Selected Paint\n",
                     "EDGE_TARGET_ARROW_SHAPE                                 Edge Target Arrow Shape\n",
                     "EDGE_TARGET_ARROW_UNSELECTED_PAINT           Edge Target Arrow Unselected Paint\n",
                     "EDGE_TOOLTIP                                                       Edge Tooltip\n",
                     "EDGE_TRANSPARENCY                                             Edge Transparency\n",
                     "EDGE_UNSELECTED_PAINT                                   Edge Color (Unselected)\n",
                     "EDGE_VISIBLE                                                       Edge Visible\n",
                     "EDGE_WIDTH                                                           Edge Width\n",
                     "NETWORK                                                 Network Visual Property\n",
                     "                                                        ...                    \n",
                     "NODE_CUSTOMPAINT_3                                          Node Custom Paint 3\n",
                     "NODE_CUSTOMPAINT_4                                          Node Custom Paint 4\n",
                     "NODE_CUSTOMPAINT_5                                          Node Custom Paint 5\n",
                     "NODE_CUSTOMPAINT_6                                          Node Custom Paint 6\n",
                     "NODE_CUSTOMPAINT_7                                          Node Custom Paint 7\n",
                     "NODE_CUSTOMPAINT_8                                          Node Custom Paint 8\n",
                     "NODE_CUSTOMPAINT_9                                          Node Custom Paint 9\n",
                     "NODE_DEPTH                                                           Node Depth\n",
                     "NODE_FILL_COLOR                                                 Node Fill Color\n",
                     "NODE_HEIGHT                                                         Node Height\n",
                     "NODE_LABEL                                                           Node Label\n",
                     "NODE_LABEL_COLOR                                               Node Label Color\n",
                     "NODE_LABEL_FONT_FACE                                       Node Label Font Face\n",
                     "NODE_LABEL_FONT_SIZE                                       Node Label Font Size\n",
                     "NODE_LABEL_POSITION                                         Node Label Position\n",
                     "NODE_LABEL_TRANSPARENCY                                 Node Label Transparency\n",
                     "NODE_LABEL_WIDTH                                               Node Label Width\n",
                     "NODE_NESTED_NETWORK_IMAGE_VISIBLE                  Nested Network Image Visible\n",
                     "NODE_PAINT                                                           Node Paint\n",
                     "NODE_SELECTED                                                     Node Selected\n",
                     "NODE_SELECTED_PAINT                                         Node Selected Paint\n",
                     "NODE_SHAPE                                                           Node Shape\n",
                     "NODE_SIZE                                                             Node Size\n",
                     "NODE_TOOLTIP                                                       Node Tooltip\n",
                     "NODE_TRANSPARENCY                                             Node Transparency\n",
                     "NODE_VISIBLE                                                       Node Visible\n",
                     "NODE_WIDTH                                                           Node Width\n",
                     "NODE_X_LOCATION                                                 Node X Location\n",
                     "NODE_Y_LOCATION                                                 Node Y Location\n",
                     "NODE_Z_LOCATION                                                 Node Z Location\n",
                     "Length: 106, dtype: object"
                  ]
               },
               "execution_count": 10,
               "output_type": "execute_result",
               "metadata": {}
            }
         ],
         "execution_count": 10,
         "metadata": {},
         "cell_type": "code",
         "source": [
            "# To get a list of available parameters:\n",
            "pd.Series(cy.style.vps.get_all())"
         ]
      },
      {
         "outputs": [],
         "execution_count": 11,
         "metadata": {},
         "cell_type": "code",
         "source": [
            "# Define our own settings\n",
            "custom_settings = dict(       \n",
            "\n",
            "        NODE_FILL_COLOR= '#FEC44F',\n",
            "        NODE_SIZE= 18,\n",
            "        NODE_BORDER_WIDTH= 7,\n",
            "        NODE_BORDER_COLOR= '#999999',\n",
            "        NODE_LABEL_COLOR= '#555555',\n",
            "        NODE_LABEL_FONT_SIZE= 14,\n",
            "        NODE_LABEL_POSITION= 'S,NW,c,0.00,3.00',\n",
            "\n",
            "        EDGE_WIDTH= 2,\n",
            "        EDGE_TRANSPARENCY= 100,\n",
            "        EDGE_UNSELECTED_PAINT= '#CCCCCC',\n",
            "        EDGE_STROKE_UNSELECTED_PAINT= '#333333',\n",
            "        EDGE_TARGET_ARROW_SHAPE= 'DELTA',\n",
            "\n",
            "        NETWORK_BACKGROUND_PAINT= '#FFFFFF',\n",
            "    )\n",
            "\n",
            "# Apply settings to our style\n",
            "s.update_defaults(custom_settings)"
         ]
      },
      {
         "metadata": {
            "raw_mimetype": "text/restructuredtext"
         },
         "cell_type": "raw",
         "source": [
            "Next, we need to set up some mappings for our style:"
         ]
      },
      {
         "outputs": [],
         "execution_count": 12,
         "metadata": {},
         "cell_type": "code",
         "source": [
            "# Set the label to use the \"neuron_name\" column:\n",
            "s.create_passthrough_mapping(column='neuron_name', vp='NODE_LABEL', col_type='String')\n",
            "\n",
            "# Make edge width use the \"weight\" column and have it scale with 1/3 of the number of synapses\n",
            "max_edge_weight = n.get_edge_column('weight').max()\n",
            "s.create_continuous_mapping(column='weight', vp='EDGE_WIDTH', col_type='Double',\n",
            "                            points=[{'equal': '1.0', 'greater': '1.0', 'lesser': '1.0', 'value': 1.0},\n",
            "                                    {'equal': max_edge_weight/3, 'greater': 1.0, 'lesser': max_edge_weight/3, 'value': max_edge_weight}]\n",
            "                            )"
         ]
      },
      {
         "outputs": [
            {
               "data": {
                  "text/plain": [
                     "<IPython.core.display.Image object>"
                  ],
                  "image/png": "[encoded data removed]"
               },
               "execution_count": 13,
               "output_type": "execute_result",
               "metadata": {}
            }
         ],
         "execution_count": 13,
         "metadata": {},
         "cell_type": "code",
         "source": [
            "# Apply style and render again\n",
            "cy.style.apply(s, n)\n",
            "\n",
            "# Plot again\n",
            "Image(n.get_png(height=400))"
         ]
      },
      {
         "metadata": {
            "raw_mimetype": "text/restructuredtext"
         },
         "cell_type": "raw",
         "source": [
            "To wrap up, we will demonstrate how to use pymaid to *group neurons* in an adjacency matrix before generating a network and pushing it to Cytoscape."
         ]
      },
      {
         "outputs": [
            {
               "text": [
                  "INFO  : Found 7 skeletons with matching annotation(s) (pymaid)\n",
                  "INFO  : Found 2 skeletons with matching annotation(s) (pymaid)\n"
               ],
               "output_type": "stream",
               "name": "stderr"
            },
            {
               "data": {
                  "text/plain": [
                     "{'PD2a': ['1454234',\n",
                     "  '2205218',\n",
                     "  '3345012',\n",
                     "  '1299700',\n",
                     "  '3516953',\n",
                     "  '1415893',\n",
                     "  '1606113'],\n",
                     " 'a2sc': ['346114', '1420974']}"
                  ]
               },
               "execution_count": 14,
               "output_type": "execute_result",
               "metadata": {}
            }
         ],
         "execution_count": 14,
         "metadata": {},
         "cell_type": "code",
         "source": [
            "neuron_type = {'PD2a' : pymaid.get_skids_by_annotation('PD2a1/b1'),\n",
            "               'a2sc' : pymaid.get_skids_by_annotation('MBON a2sc')}\n",
            "neuron_type"
         ]
      },
      {
         "metadata": {
            "raw_mimetype": "text/restructuredtext"
         },
         "cell_type": "raw",
         "source": [
            "Now we will group the original matrix by neuron type:"
         ]
      },
      {
         "outputs": [
            {
               "data": {
                  "text/plain": [
                     "col_groups   PD2a\n",
                     "row_groups       \n",
                     "a2sc        110.0"
                  ],
                  "text/html": [
                     "<div>\n",
                     "<style scoped>\n",
                     "    .dataframe tbody tr th:only-of-type {\n",
                     "        vertical-align: middle;\n",
                     "    }\n",
                     "\n",
                     "    .dataframe tbody tr th {\n",
                     "        vertical-align: top;\n",
                     "    }\n",
                     "\n",
                     "    .dataframe thead th {\n",
                     "        text-align: right;\n",
                     "    }\n",
                     "</style>\n",
                     "<table border=\"1\" class=\"dataframe\">\n",
                     "  <thead>\n",
                     "    <tr style=\"text-align: right;\">\n",
                     "      <th>col_groups</th>\n",
                     "      <th>PD2a</th>\n",
                     "    </tr>\n",
                     "    <tr>\n",
                     "      <th>row_groups</th>\n",
                     "      <th></th>\n",
                     "    </tr>\n",
                     "  </thead>\n",
                     "  <tbody>\n",
                     "    <tr>\n",
                     "      <th>a2sc</th>\n",
                     "      <td>110.0</td>\n",
                     "    </tr>\n",
                     "  </tbody>\n",
                     "</table>\n",
                     "</div>"
                  ]
               },
               "execution_count": 15,
               "output_type": "execute_result",
               "metadata": {}
            }
         ],
         "execution_count": 15,
         "metadata": {},
         "cell_type": "code",
         "source": [
            "adj_grp = pymaid.group_matrix(adj, col_groups=neuron_type, row_groups=neuron_type)\n",
            "adj_grp.head()"
         ]
      },
      {
         "outputs": [],
         "execution_count": 16,
         "metadata": {},
         "cell_type": "code",
         "source": [
            "# Generate a NetworkX graph from the adjaceny matrix\n",
            "g = pymaid.network2nx(adj_grp)"
         ]
      },
      {
         "outputs": [
            {
               "data": {
                  "text/plain": [
                     "{'n_neurons': 2}"
                  ]
               },
               "execution_count": 17,
               "output_type": "execute_result",
               "metadata": {}
            }
         ],
         "execution_count": 17,
         "metadata": {},
         "cell_type": "code",
         "source": [
            "# Let's add the number of neurons in each \"compound\" node \n",
            "attrs = { g : { 'n_neurons' : len(v) } for g,v in neuron_type.items()}\n",
            "\n",
            "# Add attributes\n",
            "nx.set_node_attributes(g, attrs)\n",
            "\n",
            "g.nodes['a2sc']"
         ]
      },
      {
         "outputs": [],
         "execution_count": 18,
         "metadata": {},
         "cell_type": "code",
         "source": [
            "# Clear and Add network\n",
            "cy.session.delete()\n",
            "\n",
            "# This generates the network in Cytoscape\n",
            "n = cy.network.create_from_networkx(g)"
         ]
      },
      {
         "outputs": [],
         "execution_count": 19,
         "metadata": {},
         "cell_type": "code",
         "source": [
            "# Apply a layout\n",
            "cy.layout.apply(name='force-directed-cl', network=n)"
         ]
      },
      {
         "outputs": [],
         "execution_count": 20,
         "metadata": {},
         "cell_type": "code",
         "source": [
            "# Get our style again (remember we've deleted the session!)\n",
            "s = cy.style.create('my_style')\n",
            "s.update_defaults(custom_settings)\n",
            "\n",
            "# Set the label to use the \"name\" column:\n",
            "s.create_passthrough_mapping(column='name', vp='NODE_LABEL', col_type='String')\n",
            "\n",
            "# Make edge width use the \"weight\" column and have it scale with 1/3 of the number of synapses\n",
            "max_edge_weight = n.get_edge_column('weight').max()\n",
            "s.create_continuous_mapping(column='weight', vp='EDGE_WIDTH', col_type='Double',\n",
            "                            points=[{'equal': '1.0', 'greater': '1.0', 'lesser': '1.0', 'value': 1.0},\n",
            "                                    {'equal': max_edge_weight/8, 'greater': 1.0, 'lesser': max_edge_weight/8, 'value': max_edge_weight}]\n",
            "                            )\n",
            "\n",
            "# Add node size mapping to our style\n",
            "max_neurons = n.get_node_column('n_neurons').max()\n",
            "min_size = 10\n",
            "max_size = 30\n",
            "s.create_continuous_mapping(column='n_neurons', vp='NODE_SIZE', col_type='Double',\n",
            "                            points=[{'equal': min_size, 'greater': min_size, 'lesser': '1.0', 'value': 1.0},\n",
            "                                    {'equal': max_size, 'greater': 1.0, 'lesser': max_size, 'value': max_neurons}]\n",
            "                            )\n",
            "\n",
            "# Apply style\n",
            "cy.style.apply(s, n)"
         ]
      },
      {
         "outputs": [
            {
               "data": {
                  "text/plain": [
                     "<IPython.core.display.Image object>"
                  ],
                  "image/png": "[encoded data removed]"
               },
               "execution_count": 21,
               "output_type": "execute_result",
               "metadata": {}
            }
         ],
         "execution_count": 21,
         "metadata": {},
         "cell_type": "code",
         "source": [
            "# Plot again\n",
            "Image(n.get_png(height=400))"
         ]
      },
      {
         "metadata": {
            "raw_mimetype": "text/restructuredtext"
         },
         "cell_type": "raw",
         "source": [
            "The easy way\n",
            "============\n",
            "\n",
            "Now this has been a rather extensive excursion into the usage of the cyREST API. For simple imports, pymaid has a wrapper to quickly load data into Cytoscape:"
         ]
      },
      {
         "outputs": [
            {
               "data": {
                  "text/plain": [
                     "<IPython.core.display.Image object>"
                  ],
                  "image/png": "[encoded data removed]"
               },
               "execution_count": 22,
               "output_type": "execute_result",
               "metadata": {}
            }
         ],
         "execution_count": 22,
         "metadata": {
            "scrolled": false
         },
         "cell_type": "code",
         "source": [
            "from pymaid import cytoscape as cs\n",
            "\n",
            "g = pymaid.network2nx(adj)\n",
            "\n",
            "n = cs.generate_network(g, clear_session=True)\n",
            "\n",
            "# Plot again\n",
            "Image(n.get_png(height=400))"
         ]
      },
      {
         "metadata": {
            "raw_mimetype": "text/restructuredtext"
         },
         "cell_type": "raw",
         "source": [
            "Updating networks\n",
            "+++++++++++++++++\n",
            "\n",
            "Another powerful usage of the cyREST API is to have scripts running in the background to automatically update, layout or style networks. Pymaid's ``pymaid.cytoscape.watch_network`` lets you constantly update a defined network:\n",
            "\n",
            "In this example, we are watching a set of *\"seed\"* neurons and their direct downstream partners. "
         ]
      },
      {
         "outputs": [],
         "execution_count": 23,
         "metadata": {},
         "cell_type": "code",
         "source": [
            "from pymaid import cytoscape as cs\n",
            "\n",
            "cs.watch_network('annotation:glomerulus DA1',\n",
            "                 n_circles=1,   # increase to >1 for indirect partners or set to 0 for seed neurons-only\n",
            "                 min_pre=5,     # 5 synapse minimum from a seed neuron to be included\n",
            "                 min_post=-1,   # set threshold to -1 to exclude upstream partners\n",
            "                 sleep=5,       # sleep for 5s after each update\n",
            "                )"
         ]
      },
      {
         "metadata": {
            "raw_mimetype": "text/restructuredtext"
         },
         "cell_type": "raw",
         "source": [
            "This function runs in an infinite loop. In order to interupt it, simply press ``CTRL-C`` if you are in terminal. In a Jupyter notebook, hit the **stop** button in the top toolbar.\n",
            "\n",
            "Similar to the the earlier example, ``pymaid.cytoscape.watch_network`` also allows to collapse neurons into groups:"
         ]
      },
      {
         "outputs": [],
         "execution_count": 24,
         "metadata": {},
         "cell_type": "code",
         "source": [
            "# Same set up as above but we collapse all excitatory DA1 PNs into a single group\n",
            "cs.watch_network('annotation:glomerulus DA1',\n",
            "                 n_circles=1,   \n",
            "                 min_pre=5,     \n",
            "                 min_post=-1,   \n",
            "                 sleep=5,\n",
            "                 group_by={'exc DA1': pymaid.get_skids_by_annotation('glomerulus DA1 right excitatory')}\n",
            "                )"
         ]
      }
   ],
   "nbformat_minor": 2,
   "nbformat": 4
}
