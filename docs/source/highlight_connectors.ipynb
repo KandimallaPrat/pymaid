{
   "metadata": {
      "language_info": {
         "mimetype": "text/x-python",
         "file_extension": ".py",
         "name": "python",
         "version": "3.6.4",
         "nbconvert_exporter": "python",
         "pygments_lexer": "ipython3",
         "codemirror_mode": {
            "version": 3,
            "name": "ipython"
         }
      },
      "kernelspec": {
         "language": "python",
         "display_name": "Python 3",
         "name": "python3"
      },
      "celltoolbar": "Raw Cell Format"
   },
   "cells": [
      {
         "metadata": {
            "raw_mimetype": "text/restructuredtext"
         },
         "cell_type": "raw",
         "source": [
            "Highlight connectors\n",
            "********************\n",
            "\n",
            "In this example, we will use :func:`pymaid.plot2d` and :func:`pymaid.plot3d` to highlight a subset of connectors. In practice, the same workflow can be used to add arbitrary scatter plots."
         ]
      },
      {
         "outputs": [],
         "execution_count": 1,
         "metadata": {},
         "cell_type": "code",
         "source": [
            "import pymaid\n",
            "import matplotlib.pyplot as plt\n",
            "\n",
            "# Connect to CATMAID\n",
            "rm = pymaid.CatmaidInstance('https://www.your.catmaid-server.org',\n",
            "                            api_token='your_token' ,\n",
            "                            http_user='user', # omit if not required\n",
            "                            http_password='pw')\n",
            "\n",
            "# Get a neuron\n",
            "n = pymaid.get_neurons(16)"
         ]
      },
      {
         "metadata": {
            "raw_mimetype": "text/restructuredtext"
         },
         "cell_type": "raw",
         "source": [
            "First, we will define a subset of connectors in the lateral horn."
         ]
      },
      {
         "outputs": [
            {
               "data": {
                  "text/plain": [
                     "     treenode_id  connector_id  relation       x       y       z\n",
                     "340      5464238       5464237         0  343524  160024  188200\n",
                     "341     10369976      10370122         1  383883  147184  177600\n",
                     "368     20452694      11296577         1  335499  154147  188280\n",
                     "369     20452694      20452710         1  336487  153234  188280\n",
                     "390     10736254      10736250         0  385618  136047  172120"
                  ],
                  "text/html": [
                     "<div>\n",
                     "<style scoped>\n",
                     "    .dataframe tbody tr th:only-of-type {\n",
                     "        vertical-align: middle;\n",
                     "    }\n",
                     "\n",
                     "    .dataframe tbody tr th {\n",
                     "        vertical-align: top;\n",
                     "    }\n",
                     "\n",
                     "    .dataframe thead th {\n",
                     "        text-align: right;\n",
                     "    }\n",
                     "</style>\n",
                     "<table border=\"1\" class=\"dataframe\">\n",
                     "  <thead>\n",
                     "    <tr style=\"text-align: right;\">\n",
                     "      <th></th>\n",
                     "      <th>treenode_id</th>\n",
                     "      <th>connector_id</th>\n",
                     "      <th>relation</th>\n",
                     "      <th>x</th>\n",
                     "      <th>y</th>\n",
                     "      <th>z</th>\n",
                     "    </tr>\n",
                     "  </thead>\n",
                     "  <tbody>\n",
                     "    <tr>\n",
                     "      <th>340</th>\n",
                     "      <td>5464238</td>\n",
                     "      <td>5464237</td>\n",
                     "      <td>0</td>\n",
                     "      <td>343524</td>\n",
                     "      <td>160024</td>\n",
                     "      <td>188200</td>\n",
                     "    </tr>\n",
                     "    <tr>\n",
                     "      <th>341</th>\n",
                     "      <td>10369976</td>\n",
                     "      <td>10370122</td>\n",
                     "      <td>1</td>\n",
                     "      <td>383883</td>\n",
                     "      <td>147184</td>\n",
                     "      <td>177600</td>\n",
                     "    </tr>\n",
                     "    <tr>\n",
                     "      <th>368</th>\n",
                     "      <td>20452694</td>\n",
                     "      <td>11296577</td>\n",
                     "      <td>1</td>\n",
                     "      <td>335499</td>\n",
                     "      <td>154147</td>\n",
                     "      <td>188280</td>\n",
                     "    </tr>\n",
                     "    <tr>\n",
                     "      <th>369</th>\n",
                     "      <td>20452694</td>\n",
                     "      <td>20452710</td>\n",
                     "      <td>1</td>\n",
                     "      <td>336487</td>\n",
                     "      <td>153234</td>\n",
                     "      <td>188280</td>\n",
                     "    </tr>\n",
                     "    <tr>\n",
                     "      <th>390</th>\n",
                     "      <td>10736254</td>\n",
                     "      <td>10736250</td>\n",
                     "      <td>0</td>\n",
                     "      <td>385618</td>\n",
                     "      <td>136047</td>\n",
                     "      <td>172120</td>\n",
                     "    </tr>\n",
                     "  </tbody>\n",
                     "</table>\n",
                     "</div>"
                  ]
               },
               "execution_count": 2,
               "output_type": "execute_result",
               "metadata": {}
            }
         ],
         "execution_count": 2,
         "metadata": {},
         "cell_type": "code",
         "source": [
            "lh = pymaid.get_volume('LH_R')\n",
            "\n",
            "in_lh = n.connectors[pymaid.in_volume(n.connectors, lh)]\n",
            "in_lh.head()"
         ]
      },
      {
         "metadata": {
            "raw_mimetype": "text/restructuredtext"
         },
         "cell_type": "raw",
         "source": [
            "Next, we will plot the neuron and add these points on top."
         ]
      },
      {
         "outputs": [
            {
               "data": {
                  "text/plain": [
                     "<Figure size 432x432 with 1 Axes>"
                  ],
                  "image/png": "[encoded data removed]"
               },
               "output_type": "display_data",
               "metadata": {}
            }
         ],
         "execution_count": 3,
         "metadata": {},
         "cell_type": "code",
         "source": [
            "fig, ax = pymaid.plot2d(n, connectors=True,\n",
            "                        linewidth=1.5, method='3d',\n",
            "                        cn_size=2)\n",
            "\n",
            "cn_coords = in_lh[['x','y','z']].values\n",
            "\n",
            "fig,ax = pymaid.plot2d(cn_coords, method='3d', ax=ax,\n",
            "                       scatter_kws={'s': 20,\n",
            "                                    'color': 'g',\n",
            "                                    'marker': 'D'\n",
            "                                   })\n",
            "\n",
            "ax.dist = 5\n",
            "\n",
            "plt.show()"
         ]
      },
      {
         "metadata": {
            "raw_mimetype": "text/restructuredtext"
         },
         "cell_type": "raw",
         "source": [
            "The same also works in 3D plots (both, plotly and vispy backend):"
         ]
      },
      {
         "outputs": [
            {
               "data": {
                  "text/html": [
                     "<script>requirejs.config({paths: { 'plotly': ['https://cdn.plot.ly/plotly-latest.min']},});if(!window.Plotly) {{require(['plotly'],function(plotly) {window.Plotly=plotly;});}}</script>"
                  ],
                  "text/vnd.plotly.v1+html": [
                     "<script>requirejs.config({paths: { 'plotly': ['https://cdn.plot.ly/plotly-latest.min']},});if(!window.Plotly) {{require(['plotly'],function(plotly) {window.Plotly=plotly;});}}</script>"
                  ]
               },
               "output_type": "display_data",
               "metadata": {}
            }
         ],
         "execution_count": 4,
         "metadata": {},
         "cell_type": "code",
         "source": [
            "# Import plotly bindings\n",
            "import plotly.offline\n",
            "\n",
            "# Initialize notebook mode\n",
            "plotly.offline.init_notebook_mode(connected=True)"
         ]
      },
      {
         "outputs": [
            {
               "text": [
                  "WARNING : Looks like RGB values are 0-1. Converting to 0-255. (pymaid)\n",
                  "INFO  : Use plotly.offline.plot(fig, filename=\"3d_plot.html\") to plot. Optimised for Google Chrome. (pymaid)\n"
               ],
               "output_type": "stream",
               "name": "stderr"
            }
         ],
         "execution_count": 5,
         "metadata": {},
         "cell_type": "code",
         "source": [
            "# Generate a plotly figure\n",
            "fig = pymaid.plot3d([cn_coords, n] ,backend='plotly',\n",
            "                    connectors=True, width=800,\n",
            "                    scatter_kws={'color': (0,255,0), 'opacity': .5})\n",
            "\n",
            "plotly.offline.iplot(fig)"
         ]
      },
      {
         "metadata": {
            "raw_mimetype": "text/restructuredtext"
         },
         "cell_type": "raw",
         "source": [
            ".. raw:: html\n",
            "   :file: cn_highlight.html"
         ]
      }
   ],
   "nbformat_minor": 2,
   "nbformat": 4
}
