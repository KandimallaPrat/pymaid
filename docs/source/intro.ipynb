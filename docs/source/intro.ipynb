{
   "metadata": {
      "language_info": {
         "mimetype": "text/x-python",
         "file_extension": ".py",
         "name": "python",
         "version": "3.5.3",
         "nbconvert_exporter": "python",
         "pygments_lexer": "ipython3",
         "codemirror_mode": {
            "version": 3,
            "name": "ipython"
         }
      },
      "kernelspec": {
         "language": "python",
         "display_name": "Python 3",
         "name": "python3"
      },
      "celltoolbar": "Raw Cell Format"
   },
   "cells": [
      {
         "metadata": {
            "raw_mimetype": "text/restructuredtext"
         },
         "cell_type": "raw",
         "source": [
            ".. _tutorial:\n",
            "\n",
            "Tutorial\n",
            "********\n",
            "This tutorial will introduce you the basics of how to use pymaid. It is not supposed to be comprehensive but rather to give you a flavor of how things work. For inspiriation, explore the :ref:`example gallery <example_gallery>` and for detailed explanations have a look at the :ref:`API documentation <api>`."
         ]
      },
      {
         "metadata": {
            "raw_mimetype": "text/restructuredtext"
         },
         "cell_type": "raw",
         "source": [
            "Connecting to your Catmaid Server\n",
            "=================================\n",
            "At the beginning of each session, you have to initialise a :class:`~pymaid.CatmaidInstance` which holds the url and your credentials for the CATMAID server. In most examples, this instance is assigned to a variable called ``remote_instance`` or just ``rm``:"
         ]
      },
      {
         "outputs": [
            {
               "text": [
                  "INFO  : Global CATMAID instance set. (pymaid.fetch)\n"
               ],
               "output_type": "stream",
               "name": "stderr"
            }
         ],
         "execution_count": 1,
         "metadata": {},
         "cell_type": "code",
         "source": [
            "import pymaid\n",
            "\n",
            "rm = pymaid.CatmaidInstance('https://www.your.catmaid-server.org',\n",
            "                            api_token='YOURTOKEN',\n",
            "                            http_user='user', # omit if not required\n",
            "                            http_password='pw') # omit if not required"
         ]
      },
      {
         "metadata": {
            "raw_mimetype": "text/restructuredtext"
         },
         "cell_type": "raw",
         "source": [
            "``HTTP_USER`` and ``HTTP_PASSWORD`` are the credentials you use to get access to your server, **not** your CATMAID credentials. If your server does not require them, just leave them blank (``''``). Instead of your CATMAID credentials, you use an API ``TOKEN``. See `here <http://catmaid.readthedocs.io/en/stable/api.html#api-token>`_ how to get yours."
         ]
      },
      {
         "metadata": {
            "raw_mimetype": "text/restructuredtext"
         },
         "cell_type": "raw",
         "source": [
            "``rm`` now holds your credentials and mediates fetching data from your server. This :class:`~pymaid.CatmaidInstance` has a few perks: you can, for example, access different projects on your server or limit the number of parallel queries. Check out :class:`~pymaid.CatmaidInstance`'s docs for that.\n",
            "\n",
            "Fetching data\n",
            "=============\n",
            "Now that we have set up the connection, we can query the server for data. The examples below are by no means comprehensive! Have a look at all the functions for :ref:`fetching data <api_fetch>`. Most functions will follow a ``pymaid.get_{data}`` naming convention:"
         ]
      },
      {
         "metadata": {
            "raw_mimetype": "text/restructuredtext"
         },
         "cell_type": "raw",
         "source": [
            "For starters, let's get a list of skeleton IDs from a single annotation:"
         ]
      },
      {
         "outputs": [
            {
               "text": [
                  "INFO  : Found 5 skeletons with matching annotation(s) (pymaid)\n"
               ],
               "output_type": "stream",
               "name": "stderr"
            },
            {
               "data": {
                  "text/plain": [
                     "['6698696', '6170457', '57059', '23829', '483289']"
                  ]
               },
               "execution_count": 2,
               "output_type": "execute_result",
               "metadata": {}
            }
         ],
         "execution_count": 2,
         "metadata": {},
         "cell_type": "code",
         "source": [
            "skids = pymaid.get_skids_by_annotation('glomerulus DL4')\n",
            "skids"
         ]
      },
      {
         "metadata": {
            "raw_mimetype": "text/restructuredtext"
         },
         "cell_type": "raw",
         "source": [
            "Your Catmaid server will provide most data as simple list or dictionary, like the list of skeleton IDs above. Whenever this makes sense, pymaid will convert that data to a ``pandas.DataFrame``.\n",
            "\n",
            "`pandas <https://pandas.pydata.org>`_ is **the** data science library for Python and will help you analyze and visualize your data. **I highly recommend familiarizing yourself with pandas!** There are plenty of good tutorials out there but pandas' own `10 Minutes to pandas <https://pandas.pydata.org/pandas-docs/stable/10min.html>`_ is a good place to start.  "
         ]
      },
      {
         "metadata": {
            "raw_mimetype": "text/restructuredtext"
         },
         "cell_type": "raw",
         "source": [
            "As example, let's get the treenode table for one of the above neurons:"
         ]
      },
      {
         "outputs": [
            {
               "text": [
                  "INFO  : Retrieving 1 treenode table(s)... (pymaid)\n",
                  "INFO  : 1903 treenodes retrieved. Creating table... (pymaid)\n"
               ],
               "output_type": "stream",
               "name": "stderr"
            },
            {
               "data": {
                  "text/plain": [
                     "  skeleton_id treenode_id parent_node_id confidence       x       y       z  \\\n",
                     "0     6698696    22106010       30501406          5  378008  159302  158000   \n",
                     "1     6698696    30501406       22106009          5  378022  159331  158080   \n",
                     "2     6698696    25548795       25548717          5  434298  297110   59480   \n",
                     "3     6698696    25548717       25548650          5  435449  296530   60680   \n",
                     "4     6698696    25548650       25548645          5  436769  296642   61240   \n",
                     "\n",
                     "  radius   creator               last_edited reviewers    tags  \n",
                     "0     -1    batesa 2018-07-12 17:22:16+00:00        []      []  \n",
                     "1     -1  robertsr 2018-07-12 17:22:17+00:00        []      []  \n",
                     "2   1625    costam 2018-03-28 13:59:08+00:00        []  [soma]  \n",
                     "3     -1    costam 2018-03-28 13:58:04+00:00        []      []  \n",
                     "4     -1    costam 2018-03-28 13:57:41+00:00        []      []  "
                  ],
                  "text/html": [
                     "<div>\n",
                     "<style scoped>\n",
                     "    .dataframe tbody tr th:only-of-type {\n",
                     "        vertical-align: middle;\n",
                     "    }\n",
                     "\n",
                     "    .dataframe tbody tr th {\n",
                     "        vertical-align: top;\n",
                     "    }\n",
                     "\n",
                     "    .dataframe thead th {\n",
                     "        text-align: right;\n",
                     "    }\n",
                     "</style>\n",
                     "<table border=\"1\" class=\"dataframe\">\n",
                     "  <thead>\n",
                     "    <tr style=\"text-align: right;\">\n",
                     "      <th></th>\n",
                     "      <th>skeleton_id</th>\n",
                     "      <th>treenode_id</th>\n",
                     "      <th>parent_node_id</th>\n",
                     "      <th>confidence</th>\n",
                     "      <th>x</th>\n",
                     "      <th>y</th>\n",
                     "      <th>z</th>\n",
                     "      <th>radius</th>\n",
                     "      <th>creator</th>\n",
                     "      <th>last_edited</th>\n",
                     "      <th>reviewers</th>\n",
                     "      <th>tags</th>\n",
                     "    </tr>\n",
                     "  </thead>\n",
                     "  <tbody>\n",
                     "    <tr>\n",
                     "      <th>0</th>\n",
                     "      <td>6698696</td>\n",
                     "      <td>22106010</td>\n",
                     "      <td>30501406</td>\n",
                     "      <td>5</td>\n",
                     "      <td>378008</td>\n",
                     "      <td>159302</td>\n",
                     "      <td>158000</td>\n",
                     "      <td>-1</td>\n",
                     "      <td>batesa</td>\n",
                     "      <td>2018-07-12 17:22:16+00:00</td>\n",
                     "      <td>[]</td>\n",
                     "      <td>[]</td>\n",
                     "    </tr>\n",
                     "    <tr>\n",
                     "      <th>1</th>\n",
                     "      <td>6698696</td>\n",
                     "      <td>30501406</td>\n",
                     "      <td>22106009</td>\n",
                     "      <td>5</td>\n",
                     "      <td>378022</td>\n",
                     "      <td>159331</td>\n",
                     "      <td>158080</td>\n",
                     "      <td>-1</td>\n",
                     "      <td>robertsr</td>\n",
                     "      <td>2018-07-12 17:22:17+00:00</td>\n",
                     "      <td>[]</td>\n",
                     "      <td>[]</td>\n",
                     "    </tr>\n",
                     "    <tr>\n",
                     "      <th>2</th>\n",
                     "      <td>6698696</td>\n",
                     "      <td>25548795</td>\n",
                     "      <td>25548717</td>\n",
                     "      <td>5</td>\n",
                     "      <td>434298</td>\n",
                     "      <td>297110</td>\n",
                     "      <td>59480</td>\n",
                     "      <td>1625</td>\n",
                     "      <td>costam</td>\n",
                     "      <td>2018-03-28 13:59:08+00:00</td>\n",
                     "      <td>[]</td>\n",
                     "      <td>[soma]</td>\n",
                     "    </tr>\n",
                     "    <tr>\n",
                     "      <th>3</th>\n",
                     "      <td>6698696</td>\n",
                     "      <td>25548717</td>\n",
                     "      <td>25548650</td>\n",
                     "      <td>5</td>\n",
                     "      <td>435449</td>\n",
                     "      <td>296530</td>\n",
                     "      <td>60680</td>\n",
                     "      <td>-1</td>\n",
                     "      <td>costam</td>\n",
                     "      <td>2018-03-28 13:58:04+00:00</td>\n",
                     "      <td>[]</td>\n",
                     "      <td>[]</td>\n",
                     "    </tr>\n",
                     "    <tr>\n",
                     "      <th>4</th>\n",
                     "      <td>6698696</td>\n",
                     "      <td>25548650</td>\n",
                     "      <td>25548645</td>\n",
                     "      <td>5</td>\n",
                     "      <td>436769</td>\n",
                     "      <td>296642</td>\n",
                     "      <td>61240</td>\n",
                     "      <td>-1</td>\n",
                     "      <td>costam</td>\n",
                     "      <td>2018-03-28 13:57:41+00:00</td>\n",
                     "      <td>[]</td>\n",
                     "      <td>[]</td>\n",
                     "    </tr>\n",
                     "  </tbody>\n",
                     "</table>\n",
                     "</div>"
                  ]
               },
               "execution_count": 3,
               "output_type": "execute_result",
               "metadata": {}
            }
         ],
         "execution_count": 3,
         "metadata": {},
         "cell_type": "code",
         "source": [
            "tn_table = pymaid.get_treenode_table(skids[0])\n",
            "tn_table.head()"
         ]
      },
      {
         "metadata": {
            "raw_mimetype": "text/restructuredtext"
         },
         "cell_type": "raw",
         "source": [
            "Neurons\n",
            "=======\n",
            "Catmaid neurons are complex structures: they consist of treenodes and connectors, have names, annotations, review status, etc. We could query our Catmaid server for all these data separately and manage it using lists or dictionaries... a pain in the neck, trust me.\n",
            "\n",
            "Pymaid to the rescue! :class:`~pymaid.CatmaidNeuron` and their collections, :class:`~pymaid.CatmaidNeuronList`, make managing and accessing neuron data a breeze as you will see below."
         ]
      },
      {
         "metadata": {
            "raw_mimetype": "text/restructuredtext"
         },
         "cell_type": "raw",
         "source": [
            "Fetching CatmaidNeurons\n",
            "-----------------------\n",
            "\n",
            "There are two functions that will return ``CatmaidNeuron/Lists``: :func:`pymaid.get_neuron` and :func:`pymaid.find_neurons`. The latter is a bit more sophisticated and allows intersections of search criteria - we'll cover it elsewhere. For starters, let's get two neurons by their skeleton IDs:"
         ]
      },
      {
         "outputs": [],
         "execution_count": 4,
         "metadata": {},
         "cell_type": "code",
         "source": [
            "neuron_list = pymaid.get_neuron ( ['57311','27295'] )"
         ]
      },
      {
         "metadata": {
            "raw_mimetype": "text/restructuredtext"
         },
         "cell_type": "raw",
         "source": [
            "``neuron_list`` is a :class:`~pymaid.CatmaidNeuronList` containing our two neurons. Calling it will give us a small summary:"
         ]
      },
      {
         "outputs": [
            {
               "data": {
                  "text/plain": [
                     "<class 'pymaid.core.CatmaidNeuronList'> of 2 neurons \n",
                     "                   neuron_name skeleton_id  n_nodes  n_connectors  \\\n",
                     "0  PN glomerulus DA1 57312 LK       57311     4882           429   \n",
                     "1  PN glomerulus DA1 27296 BH       27295     9975           471   \n",
                     "\n",
                     "   n_branch_nodes  n_end_nodes  open_ends  cable_length review_status  soma  \n",
                     "0             157          164        105   1182.102458            NA  True  \n",
                     "1             212          219         58   1591.519823            NA  True  "
                  ],
                  "text/html": [
                     "<div>\n",
                     "<style scoped>\n",
                     "    .dataframe tbody tr th:only-of-type {\n",
                     "        vertical-align: middle;\n",
                     "    }\n",
                     "\n",
                     "    .dataframe tbody tr th {\n",
                     "        vertical-align: top;\n",
                     "    }\n",
                     "\n",
                     "    .dataframe thead th {\n",
                     "        text-align: right;\n",
                     "    }\n",
                     "</style>\n",
                     "<table border=\"1\" class=\"dataframe\">\n",
                     "  <thead>\n",
                     "    <tr style=\"text-align: right;\">\n",
                     "      <th></th>\n",
                     "      <th>neuron_name</th>\n",
                     "      <th>skeleton_id</th>\n",
                     "      <th>n_nodes</th>\n",
                     "      <th>n_connectors</th>\n",
                     "      <th>n_branch_nodes</th>\n",
                     "      <th>n_end_nodes</th>\n",
                     "      <th>open_ends</th>\n",
                     "      <th>cable_length</th>\n",
                     "      <th>review_status</th>\n",
                     "      <th>soma</th>\n",
                     "    </tr>\n",
                     "  </thead>\n",
                     "  <tbody>\n",
                     "    <tr>\n",
                     "      <th>0</th>\n",
                     "      <td>PN glomerulus DA1 57312 LK</td>\n",
                     "      <td>57311</td>\n",
                     "      <td>4882</td>\n",
                     "      <td>429</td>\n",
                     "      <td>157</td>\n",
                     "      <td>164</td>\n",
                     "      <td>105</td>\n",
                     "      <td>1182.102458</td>\n",
                     "      <td>NA</td>\n",
                     "      <td>True</td>\n",
                     "    </tr>\n",
                     "    <tr>\n",
                     "      <th>1</th>\n",
                     "      <td>PN glomerulus DA1 27296 BH</td>\n",
                     "      <td>27295</td>\n",
                     "      <td>9975</td>\n",
                     "      <td>471</td>\n",
                     "      <td>212</td>\n",
                     "      <td>219</td>\n",
                     "      <td>58</td>\n",
                     "      <td>1591.519823</td>\n",
                     "      <td>NA</td>\n",
                     "      <td>True</td>\n",
                     "    </tr>\n",
                     "  </tbody>\n",
                     "</table>\n",
                     "</div>"
                  ]
               },
               "execution_count": 5,
               "output_type": "execute_result",
               "metadata": {}
            }
         ],
         "execution_count": 5,
         "metadata": {},
         "cell_type": "code",
         "source": [
            "neuron_list"
         ]
      },
      {
         "metadata": {
            "raw_mimetype": "text/restructuredtext"
         },
         "cell_type": "raw",
         "source": [
            "You can access individual :class:`~pymaid.CatmaidNeuron` within the :class:`~pymaid.CatmaidNeuronList` by various means. See example gallery for an in-depth explanation. For now, the easiest is to just index the :class:`~pymaid.CatmaidNeuronList` like you would a ``list``:"
         ]
      },
      {
         "outputs": [
            {
               "data": {
                  "text/plain": [
                     "type              <class 'pymaid.core.CatmaidNeuron'>\n",
                     "neuron_name                PN glomerulus DA1 57312 LK\n",
                     "skeleton_id                                     57311\n",
                     "n_nodes                                          4882\n",
                     "n_connectors                                      429\n",
                     "n_branch_nodes                                    157\n",
                     "n_end_nodes                                       164\n",
                     "n_open_ends                                       105\n",
                     "cable_length                                   1182.1\n",
                     "review_status                                      NA\n",
                     "soma                                          3059181\n",
                     "dtype: object"
                  ],
                  "text/html": [
                     "<div>\n",
                     "<style scoped>\n",
                     "    .dataframe tbody tr th:only-of-type {\n",
                     "        vertical-align: middle;\n",
                     "    }\n",
                     "\n",
                     "    .dataframe tbody tr th {\n",
                     "        vertical-align: top;\n",
                     "    }\n",
                     "\n",
                     "    .dataframe thead th {\n",
                     "        text-align: right;\n",
                     "    }\n",
                     "</style>\n",
                     "<table border=\"1\" class=\"dataframe\">\n",
                     "  <thead>\n",
                     "    <tr style=\"text-align: right;\">\n",
                     "      <th></th>\n",
                     "      <th></th>\n",
                     "    </tr>\n",
                     "  </thead>\n",
                     "  <tbody>\n",
                     "    <tr>\n",
                     "      <th>type</th>\n",
                     "      <td>&lt;class 'pymaid.core.CatmaidNeuron'&gt;</td>\n",
                     "    </tr>\n",
                     "    <tr>\n",
                     "      <th>neuron_name</th>\n",
                     "      <td>PN glomerulus DA1 57312 LK</td>\n",
                     "    </tr>\n",
                     "    <tr>\n",
                     "      <th>skeleton_id</th>\n",
                     "      <td>57311</td>\n",
                     "    </tr>\n",
                     "    <tr>\n",
                     "      <th>n_nodes</th>\n",
                     "      <td>4882</td>\n",
                     "    </tr>\n",
                     "    <tr>\n",
                     "      <th>n_connectors</th>\n",
                     "      <td>429</td>\n",
                     "    </tr>\n",
                     "    <tr>\n",
                     "      <th>n_branch_nodes</th>\n",
                     "      <td>157</td>\n",
                     "    </tr>\n",
                     "    <tr>\n",
                     "      <th>n_end_nodes</th>\n",
                     "      <td>164</td>\n",
                     "    </tr>\n",
                     "    <tr>\n",
                     "      <th>n_open_ends</th>\n",
                     "      <td>105</td>\n",
                     "    </tr>\n",
                     "    <tr>\n",
                     "      <th>cable_length</th>\n",
                     "      <td>1182.1</td>\n",
                     "    </tr>\n",
                     "    <tr>\n",
                     "      <th>review_status</th>\n",
                     "      <td>NA</td>\n",
                     "    </tr>\n",
                     "    <tr>\n",
                     "      <th>soma</th>\n",
                     "      <td>3059181</td>\n",
                     "    </tr>\n",
                     "  </tbody>\n",
                     "</table>\n",
                     "</div>"
                  ]
               },
               "execution_count": 6,
               "output_type": "execute_result",
               "metadata": {}
            }
         ],
         "execution_count": 6,
         "metadata": {},
         "cell_type": "code",
         "source": [
            "neuron_list[0]"
         ]
      },
      {
         "metadata": {
            "raw_mimetype": "text/restructuredtext"
         },
         "cell_type": "raw",
         "source": [
            "Accessing neuron data\n",
            "---------------------\n",
            "\n",
            "Treenodes, connectors, etc. are stored as *attributes* of ``CatmaidNeuron/Lists``:"
         ]
      },
      {
         "outputs": [
            {
               "data": {
                  "text/plain": [
                     "   treenode_id parent_id  creator_id       x       y       z  radius  \\\n",
                     "0      3395047  26660885          25  362196  164703  150960      -1   \n",
                     "1     26660885   3395044         117  362089  164620  151160      -1   \n",
                     "2     26171077   7688883         117  366603  156742  153720      -1   \n",
                     "3      7688883  26171069         123  366604  156868  153800      -1   \n",
                     "4     26171069  26171067         117  366575  156826  153840      -1   \n",
                     "\n",
                     "   confidence  type  \n",
                     "0           5  slab  \n",
                     "1           5  slab  \n",
                     "2           5   end  \n",
                     "3           5  slab  \n",
                     "4           5  slab  "
                  ],
                  "text/html": [
                     "<div>\n",
                     "<style scoped>\n",
                     "    .dataframe tbody tr th:only-of-type {\n",
                     "        vertical-align: middle;\n",
                     "    }\n",
                     "\n",
                     "    .dataframe tbody tr th {\n",
                     "        vertical-align: top;\n",
                     "    }\n",
                     "\n",
                     "    .dataframe thead th {\n",
                     "        text-align: right;\n",
                     "    }\n",
                     "</style>\n",
                     "<table border=\"1\" class=\"dataframe\">\n",
                     "  <thead>\n",
                     "    <tr style=\"text-align: right;\">\n",
                     "      <th></th>\n",
                     "      <th>treenode_id</th>\n",
                     "      <th>parent_id</th>\n",
                     "      <th>creator_id</th>\n",
                     "      <th>x</th>\n",
                     "      <th>y</th>\n",
                     "      <th>z</th>\n",
                     "      <th>radius</th>\n",
                     "      <th>confidence</th>\n",
                     "      <th>type</th>\n",
                     "    </tr>\n",
                     "  </thead>\n",
                     "  <tbody>\n",
                     "    <tr>\n",
                     "      <th>0</th>\n",
                     "      <td>3395047</td>\n",
                     "      <td>26660885</td>\n",
                     "      <td>25</td>\n",
                     "      <td>362196</td>\n",
                     "      <td>164703</td>\n",
                     "      <td>150960</td>\n",
                     "      <td>-1</td>\n",
                     "      <td>5</td>\n",
                     "      <td>slab</td>\n",
                     "    </tr>\n",
                     "    <tr>\n",
                     "      <th>1</th>\n",
                     "      <td>26660885</td>\n",
                     "      <td>3395044</td>\n",
                     "      <td>117</td>\n",
                     "      <td>362089</td>\n",
                     "      <td>164620</td>\n",
                     "      <td>151160</td>\n",
                     "      <td>-1</td>\n",
                     "      <td>5</td>\n",
                     "      <td>slab</td>\n",
                     "    </tr>\n",
                     "    <tr>\n",
                     "      <th>2</th>\n",
                     "      <td>26171077</td>\n",
                     "      <td>7688883</td>\n",
                     "      <td>117</td>\n",
                     "      <td>366603</td>\n",
                     "      <td>156742</td>\n",
                     "      <td>153720</td>\n",
                     "      <td>-1</td>\n",
                     "      <td>5</td>\n",
                     "      <td>end</td>\n",
                     "    </tr>\n",
                     "    <tr>\n",
                     "      <th>3</th>\n",
                     "      <td>7688883</td>\n",
                     "      <td>26171069</td>\n",
                     "      <td>123</td>\n",
                     "      <td>366604</td>\n",
                     "      <td>156868</td>\n",
                     "      <td>153800</td>\n",
                     "      <td>-1</td>\n",
                     "      <td>5</td>\n",
                     "      <td>slab</td>\n",
                     "    </tr>\n",
                     "    <tr>\n",
                     "      <th>4</th>\n",
                     "      <td>26171069</td>\n",
                     "      <td>26171067</td>\n",
                     "      <td>117</td>\n",
                     "      <td>366575</td>\n",
                     "      <td>156826</td>\n",
                     "      <td>153840</td>\n",
                     "      <td>-1</td>\n",
                     "      <td>5</td>\n",
                     "      <td>slab</td>\n",
                     "    </tr>\n",
                     "  </tbody>\n",
                     "</table>\n",
                     "</div>"
                  ]
               },
               "execution_count": 7,
               "output_type": "execute_result",
               "metadata": {}
            }
         ],
         "execution_count": 7,
         "metadata": {},
         "cell_type": "code",
         "source": [
            "n = neuron_list[0]\n",
            "\n",
            "# .nodes is a pandas DataFrame and we can use .head() to show the first couple entries\n",
            "n.nodes.head()"
         ]
      },
      {
         "outputs": [
            {
               "data": {
                  "text/plain": [
                     "   treenode_id  connector_id  relation       x       y       z\n",
                     "0      1208403      29790621         1  448908  150692  218040\n",
                     "1      1208413      29790616         0  448068  150780  218160\n",
                     "2     26660885      26660887         0  361070  163821  151160\n",
                     "3     26660885      26660883         0  361450  164421  151160\n",
                     "4      3155268      26387175         0  365954  157079  155080"
                  ],
                  "text/html": [
                     "<div>\n",
                     "<style scoped>\n",
                     "    .dataframe tbody tr th:only-of-type {\n",
                     "        vertical-align: middle;\n",
                     "    }\n",
                     "\n",
                     "    .dataframe tbody tr th {\n",
                     "        vertical-align: top;\n",
                     "    }\n",
                     "\n",
                     "    .dataframe thead th {\n",
                     "        text-align: right;\n",
                     "    }\n",
                     "</style>\n",
                     "<table border=\"1\" class=\"dataframe\">\n",
                     "  <thead>\n",
                     "    <tr style=\"text-align: right;\">\n",
                     "      <th></th>\n",
                     "      <th>treenode_id</th>\n",
                     "      <th>connector_id</th>\n",
                     "      <th>relation</th>\n",
                     "      <th>x</th>\n",
                     "      <th>y</th>\n",
                     "      <th>z</th>\n",
                     "    </tr>\n",
                     "  </thead>\n",
                     "  <tbody>\n",
                     "    <tr>\n",
                     "      <th>0</th>\n",
                     "      <td>1208403</td>\n",
                     "      <td>29790621</td>\n",
                     "      <td>1</td>\n",
                     "      <td>448908</td>\n",
                     "      <td>150692</td>\n",
                     "      <td>218040</td>\n",
                     "    </tr>\n",
                     "    <tr>\n",
                     "      <th>1</th>\n",
                     "      <td>1208413</td>\n",
                     "      <td>29790616</td>\n",
                     "      <td>0</td>\n",
                     "      <td>448068</td>\n",
                     "      <td>150780</td>\n",
                     "      <td>218160</td>\n",
                     "    </tr>\n",
                     "    <tr>\n",
                     "      <th>2</th>\n",
                     "      <td>26660885</td>\n",
                     "      <td>26660887</td>\n",
                     "      <td>0</td>\n",
                     "      <td>361070</td>\n",
                     "      <td>163821</td>\n",
                     "      <td>151160</td>\n",
                     "    </tr>\n",
                     "    <tr>\n",
                     "      <th>3</th>\n",
                     "      <td>26660885</td>\n",
                     "      <td>26660883</td>\n",
                     "      <td>0</td>\n",
                     "      <td>361450</td>\n",
                     "      <td>164421</td>\n",
                     "      <td>151160</td>\n",
                     "    </tr>\n",
                     "    <tr>\n",
                     "      <th>4</th>\n",
                     "      <td>3155268</td>\n",
                     "      <td>26387175</td>\n",
                     "      <td>0</td>\n",
                     "      <td>365954</td>\n",
                     "      <td>157079</td>\n",
                     "      <td>155080</td>\n",
                     "    </tr>\n",
                     "  </tbody>\n",
                     "</table>\n",
                     "</div>"
                  ]
               },
               "execution_count": 8,
               "output_type": "execute_result",
               "metadata": {}
            }
         ],
         "execution_count": 8,
         "metadata": {},
         "cell_type": "code",
         "source": [
            "n.connectors.head()"
         ]
      },
      {
         "outputs": [
            {
               "data": {
                  "text/plain": [
                     "'57311'"
                  ]
               },
               "execution_count": 9,
               "output_type": "execute_result",
               "metadata": {}
            }
         ],
         "execution_count": 9,
         "metadata": {},
         "cell_type": "code",
         "source": [
            "n.skeleton_id"
         ]
      },
      {
         "metadata": {
            "raw_mimetype": "text/restructuredtext"
         },
         "cell_type": "raw",
         "source": [
            "Almost all *attributes* exist in both :class:`~pymaid.CatmaidNeuron` and :class:`~pymaid.CatmaidNeuronList`. In the latter case, you will simply get that attribute over all neurons in the ``CatmaidNeuronList``."
         ]
      },
      {
         "outputs": [
            {
               "data": {
                  "text/plain": [
                     "array(['57311', '27295'], dtype='<U5')"
                  ]
               },
               "execution_count": 10,
               "output_type": "execute_result",
               "metadata": {}
            }
         ],
         "execution_count": 10,
         "metadata": {},
         "cell_type": "code",
         "source": [
            "neuron_list.skeleton_id"
         ]
      },
      {
         "metadata": {
            "raw_mimetype": "text/restructuredtext"
         },
         "cell_type": "raw",
         "source": [
            ".. note:: ``CatmaidNeuron/Lists`` support auto-completion. Try typing ``neuron_list.`` and hitting TAB."
         ]
      },
      {
         "metadata": {
            "raw_mimetype": "text/restructuredtext"
         },
         "cell_type": "raw",
         "source": [
            "Deal with missing data\n",
            "----------------------\n",
            "Going back to the neuron's summary, you will notice that ``review_status`` is ``NA``:"
         ]
      },
      {
         "outputs": [
            {
               "data": {
                  "text/plain": [
                     "type              <class 'pymaid.core.CatmaidNeuron'>\n",
                     "neuron_name                PN glomerulus DA1 57312 LK\n",
                     "skeleton_id                                     57311\n",
                     "n_nodes                                          4882\n",
                     "n_connectors                                      429\n",
                     "n_branch_nodes                                    157\n",
                     "n_end_nodes                                       164\n",
                     "n_open_ends                                       105\n",
                     "cable_length                                   1182.1\n",
                     "review_status                                      NA\n",
                     "soma                                          3059181\n",
                     "dtype: object"
                  ],
                  "text/html": [
                     "<div>\n",
                     "<style scoped>\n",
                     "    .dataframe tbody tr th:only-of-type {\n",
                     "        vertical-align: middle;\n",
                     "    }\n",
                     "\n",
                     "    .dataframe tbody tr th {\n",
                     "        vertical-align: top;\n",
                     "    }\n",
                     "\n",
                     "    .dataframe thead th {\n",
                     "        text-align: right;\n",
                     "    }\n",
                     "</style>\n",
                     "<table border=\"1\" class=\"dataframe\">\n",
                     "  <thead>\n",
                     "    <tr style=\"text-align: right;\">\n",
                     "      <th></th>\n",
                     "      <th></th>\n",
                     "    </tr>\n",
                     "  </thead>\n",
                     "  <tbody>\n",
                     "    <tr>\n",
                     "      <th>type</th>\n",
                     "      <td>&lt;class 'pymaid.core.CatmaidNeuron'&gt;</td>\n",
                     "    </tr>\n",
                     "    <tr>\n",
                     "      <th>neuron_name</th>\n",
                     "      <td>PN glomerulus DA1 57312 LK</td>\n",
                     "    </tr>\n",
                     "    <tr>\n",
                     "      <th>skeleton_id</th>\n",
                     "      <td>57311</td>\n",
                     "    </tr>\n",
                     "    <tr>\n",
                     "      <th>n_nodes</th>\n",
                     "      <td>4882</td>\n",
                     "    </tr>\n",
                     "    <tr>\n",
                     "      <th>n_connectors</th>\n",
                     "      <td>429</td>\n",
                     "    </tr>\n",
                     "    <tr>\n",
                     "      <th>n_branch_nodes</th>\n",
                     "      <td>157</td>\n",
                     "    </tr>\n",
                     "    <tr>\n",
                     "      <th>n_end_nodes</th>\n",
                     "      <td>164</td>\n",
                     "    </tr>\n",
                     "    <tr>\n",
                     "      <th>n_open_ends</th>\n",
                     "      <td>105</td>\n",
                     "    </tr>\n",
                     "    <tr>\n",
                     "      <th>cable_length</th>\n",
                     "      <td>1182.1</td>\n",
                     "    </tr>\n",
                     "    <tr>\n",
                     "      <th>review_status</th>\n",
                     "      <td>NA</td>\n",
                     "    </tr>\n",
                     "    <tr>\n",
                     "      <th>soma</th>\n",
                     "      <td>3059181</td>\n",
                     "    </tr>\n",
                     "  </tbody>\n",
                     "</table>\n",
                     "</div>"
                  ]
               },
               "execution_count": 11,
               "output_type": "execute_result",
               "metadata": {}
            }
         ],
         "execution_count": 11,
         "metadata": {},
         "cell_type": "code",
         "source": [
            "neuron_list[0]"
         ]
      },
      {
         "metadata": {
            "raw_mimetype": "text/restructuredtext"
         },
         "cell_type": "raw",
         "source": [
            "That's because we are currently lacking that data. It will be retrieved/computed on-demand upon first **explicit** request:"
         ]
      },
      {
         "outputs": [
            {
               "data": {
                  "text/plain": [
                     "90"
                  ]
               },
               "execution_count": 12,
               "output_type": "execute_result",
               "metadata": {}
            }
         ],
         "execution_count": 12,
         "metadata": {},
         "cell_type": "code",
         "source": [
            "neuron_list[0].review_status"
         ]
      },
      {
         "metadata": {
            "raw_mimetype": "text/restructuredtext"
         },
         "cell_type": "raw",
         "source": [
            "Now ``review_status`` is known for the first neuron but not the second:"
         ]
      },
      {
         "outputs": [
            {
               "data": {
                  "text/plain": [
                     "<class 'pymaid.core.CatmaidNeuronList'> of 2 neurons \n",
                     "                   neuron_name skeleton_id  n_nodes  n_connectors  \\\n",
                     "0  PN glomerulus DA1 57312 LK       57311     4882           429   \n",
                     "1  PN glomerulus DA1 27296 BH       27295     9975           471   \n",
                     "\n",
                     "   n_branch_nodes  n_end_nodes  open_ends  cable_length review_status  soma  \n",
                     "0             157          164        105   1182.102458            90  True  \n",
                     "1             212          219         58   1591.519823            NA  True  "
                  ],
                  "text/html": [
                     "<div>\n",
                     "<style scoped>\n",
                     "    .dataframe tbody tr th:only-of-type {\n",
                     "        vertical-align: middle;\n",
                     "    }\n",
                     "\n",
                     "    .dataframe tbody tr th {\n",
                     "        vertical-align: top;\n",
                     "    }\n",
                     "\n",
                     "    .dataframe thead th {\n",
                     "        text-align: right;\n",
                     "    }\n",
                     "</style>\n",
                     "<table border=\"1\" class=\"dataframe\">\n",
                     "  <thead>\n",
                     "    <tr style=\"text-align: right;\">\n",
                     "      <th></th>\n",
                     "      <th>neuron_name</th>\n",
                     "      <th>skeleton_id</th>\n",
                     "      <th>n_nodes</th>\n",
                     "      <th>n_connectors</th>\n",
                     "      <th>n_branch_nodes</th>\n",
                     "      <th>n_end_nodes</th>\n",
                     "      <th>open_ends</th>\n",
                     "      <th>cable_length</th>\n",
                     "      <th>review_status</th>\n",
                     "      <th>soma</th>\n",
                     "    </tr>\n",
                     "  </thead>\n",
                     "  <tbody>\n",
                     "    <tr>\n",
                     "      <th>0</th>\n",
                     "      <td>PN glomerulus DA1 57312 LK</td>\n",
                     "      <td>57311</td>\n",
                     "      <td>4882</td>\n",
                     "      <td>429</td>\n",
                     "      <td>157</td>\n",
                     "      <td>164</td>\n",
                     "      <td>105</td>\n",
                     "      <td>1182.102458</td>\n",
                     "      <td>90</td>\n",
                     "      <td>True</td>\n",
                     "    </tr>\n",
                     "    <tr>\n",
                     "      <th>1</th>\n",
                     "      <td>PN glomerulus DA1 27296 BH</td>\n",
                     "      <td>27295</td>\n",
                     "      <td>9975</td>\n",
                     "      <td>471</td>\n",
                     "      <td>212</td>\n",
                     "      <td>219</td>\n",
                     "      <td>58</td>\n",
                     "      <td>1591.519823</td>\n",
                     "      <td>NA</td>\n",
                     "      <td>True</td>\n",
                     "    </tr>\n",
                     "  </tbody>\n",
                     "</table>\n",
                     "</div>"
                  ]
               },
               "execution_count": 13,
               "output_type": "execute_result",
               "metadata": {}
            }
         ],
         "execution_count": 13,
         "metadata": {},
         "cell_type": "code",
         "source": [
            "neuron_list"
         ]
      },
      {
         "metadata": {
            "raw_mimetype": "text/restructuredtext"
         },
         "cell_type": "raw",
         "source": [
            "*Attributes* are **not** automatically updated once they have been retrieved. You can force an update by calling the according ``get_...`` *method*:"
         ]
      },
      {
         "outputs": [
            {
               "data": {
                  "text/plain": [
                     "90"
                  ]
               },
               "execution_count": 14,
               "output_type": "execute_result",
               "metadata": {}
            }
         ],
         "execution_count": 14,
         "metadata": {},
         "cell_type": "code",
         "source": [
            "neuron_list[0].get_review()"
         ]
      },
      {
         "metadata": {
            "raw_mimetype": "text/restructuredtext"
         },
         "cell_type": "raw",
         "source": [
            "Most of these *methods* and *attributes* work on both, :class:`~pymaid.CatmaidNeuron` and :class:`~pymaid.CatmaidNeuron`:"
         ]
      },
      {
         "outputs": [
            {
               "data": {
                  "text/plain": [
                     "array([90, 88])"
                  ]
               },
               "execution_count": 15,
               "output_type": "execute_result",
               "metadata": {}
            }
         ],
         "execution_count": 15,
         "metadata": {},
         "cell_type": "code",
         "source": [
            "neuron_list.review_status"
         ]
      },
      {
         "metadata": {
            "raw_mimetype": "text/restructuredtext"
         },
         "cell_type": "raw",
         "source": [
            "For more advanced stuff (plotting, pruning, cutting, etc.) have a look at the :ref:`example gallery <example_gallery>`."
         ]
      }
   ],
   "nbformat_minor": 2,
   "nbformat": 4
}
